{
 "cells": [
  {
   "cell_type": "markdown",
   "metadata": {
    "toc": true
   },
   "source": [
    "<h1>Tabla de contenidos<span class=\"tocSkip\"></span></h1>\n",
    "<div class=\"toc\"><ul class=\"toc-item\"><li><span><a href=\"#Introducción.\" data-toc-modified-id=\"Introducción.-1\"><span class=\"toc-item-num\">1&nbsp;&nbsp;</span>Introducción.</a></span></li><li><span><a href=\"#Python.\" data-toc-modified-id=\"Python.-2\"><span class=\"toc-item-num\">2&nbsp;&nbsp;</span>Python.</a></span><ul class=\"toc-item\"><li><span><a href=\"#Tipos-de-datos.\" data-toc-modified-id=\"Tipos-de-datos.-2.1\"><span class=\"toc-item-num\">2.1&nbsp;&nbsp;</span>Tipos de datos.</a></span><ul class=\"toc-item\"><li><span><a href=\"#Datos-numéricos\" data-toc-modified-id=\"Datos-numéricos-2.1.1\"><span class=\"toc-item-num\">2.1.1&nbsp;&nbsp;</span>Datos numéricos</a></span></li><li><span><a href=\"#Cadena-de-caracteres.\" data-toc-modified-id=\"Cadena-de-caracteres.-2.1.2\"><span class=\"toc-item-num\">2.1.2&nbsp;&nbsp;</span>Cadena de caracteres.</a></span></li><li><span><a href=\"#Valores-de-tipo-Boolean.\" data-toc-modified-id=\"Valores-de-tipo-Boolean.-2.1.3\"><span class=\"toc-item-num\">2.1.3&nbsp;&nbsp;</span>Valores de tipo Boolean.</a></span></li></ul></li><li><span><a href=\"#Tipos-de-colecciones.\" data-toc-modified-id=\"Tipos-de-colecciones.-2.2\"><span class=\"toc-item-num\">2.2&nbsp;&nbsp;</span>Tipos de colecciones.</a></span><ul class=\"toc-item\"><li><span><a href=\"#Tuplas\" data-toc-modified-id=\"Tuplas-2.2.1\"><span class=\"toc-item-num\">2.2.1&nbsp;&nbsp;</span>Tuplas</a></span></li><li><span><a href=\"#Listas\" data-toc-modified-id=\"Listas-2.2.2\"><span class=\"toc-item-num\">2.2.2&nbsp;&nbsp;</span>Listas</a></span></li><li><span><a href=\"#Diccionarios.\" data-toc-modified-id=\"Diccionarios.-2.2.3\"><span class=\"toc-item-num\">2.2.3&nbsp;&nbsp;</span>Diccionarios.</a></span></li><li><span><a href=\"#Instrucciones-condicionales.\" data-toc-modified-id=\"Instrucciones-condicionales.-2.2.4\"><span class=\"toc-item-num\">2.2.4&nbsp;&nbsp;</span>Instrucciones condicionales.</a></span></li><li><span><a href=\"#loops-en-Python\" data-toc-modified-id=\"loops-en-Python-2.2.5\"><span class=\"toc-item-num\">2.2.5&nbsp;&nbsp;</span>loops en Python</a></span></li></ul></li><li><span><a href=\"#Numpy.\" data-toc-modified-id=\"Numpy.-2.3\"><span class=\"toc-item-num\">2.3&nbsp;&nbsp;</span>Numpy.</a></span><ul class=\"toc-item\"><li><span><a href=\"#Indexando-valores.\" data-toc-modified-id=\"Indexando-valores.-2.3.1\"><span class=\"toc-item-num\">2.3.1&nbsp;&nbsp;</span>Indexando valores.</a></span></li><li><span><a href=\"#Slicing\" data-toc-modified-id=\"Slicing-2.3.2\"><span class=\"toc-item-num\">2.3.2&nbsp;&nbsp;</span>Slicing</a></span></li><li><span><a href=\"#Operaciones-con-arrays.\" data-toc-modified-id=\"Operaciones-con-arrays.-2.3.3\"><span class=\"toc-item-num\">2.3.3&nbsp;&nbsp;</span>Operaciones con arrays.</a></span></li><li><span><a href=\"#Números-aleatorios.\" data-toc-modified-id=\"Números-aleatorios.-2.3.4\"><span class=\"toc-item-num\">2.3.4&nbsp;&nbsp;</span>Números aleatorios.</a></span></li></ul></li><li><span><a href=\"#Pandas.\" data-toc-modified-id=\"Pandas.-2.4\"><span class=\"toc-item-num\">2.4&nbsp;&nbsp;</span>Pandas.</a></span><ul class=\"toc-item\"><li><span><a href=\"#DataFrame.\" data-toc-modified-id=\"DataFrame.-2.4.1\"><span class=\"toc-item-num\">2.4.1&nbsp;&nbsp;</span>DataFrame.</a></span></li><li><span><a href=\"#Series.\" data-toc-modified-id=\"Series.-2.4.2\"><span class=\"toc-item-num\">2.4.2&nbsp;&nbsp;</span>Series.</a></span></li></ul></li><li><span><a href=\"#Creando-gráficos.\" data-toc-modified-id=\"Creando-gráficos.-2.5\"><span class=\"toc-item-num\">2.5&nbsp;&nbsp;</span>Creando gráficos.</a></span></li></ul></li></ul></div>"
   ]
  },
  {
   "cell_type": "markdown",
   "metadata": {},
   "source": [
    "# Introducción.\n",
    "\n",
    "En el presente post nos vamos a centrar en hacer una pequeña introducción al lenguaje python y a hacer una referencia e introducción a una serie de paquetes muy utilizados en el campo el big data. Me estoy refiriendo a **Numpy, Pandas o MatplotLib** . Veamos por lo tanto inicialmente una pequeña referencia a Python.\n",
    "\n",
    "# Python.\n",
    "\n",
    "## Tipos de datos.\n",
    "\n",
    "Los tipo de datos que podemos tener en python son:\n",
    "\n",
    "* Numéricos:\n",
    "\n",
    "    1.- Enteros\n",
    "    \n",
    "    2.- Reales\n",
    "    \n",
    "    3.- Complejos\n",
    "    \n",
    "* Cadena de caracteres.\n",
    "\n",
    "* Valores booleano ( True ó False )\n",
    "\n",
    "### Datos numéricos"
   ]
  },
  {
   "cell_type": "code",
   "execution_count": 1,
   "metadata": {},
   "outputs": [
    {
     "name": "stdout",
     "output_type": "stream",
     "text": [
      "<class 'int'>\n"
     ]
    }
   ],
   "source": [
    "# Creamos un entero\n",
    "i= 4\n",
    "# Veamos de qué tipo es \n",
    "print(type(i))"
   ]
  },
  {
   "cell_type": "markdown",
   "metadata": {},
   "source": [
    "Sin embargo si en lugar de trabajar con enteros lo hacemos con números de tipo real, se puede hacer de la siguiente manera:"
   ]
  },
  {
   "cell_type": "code",
   "execution_count": 2,
   "metadata": {},
   "outputs": [
    {
     "name": "stdout",
     "output_type": "stream",
     "text": [
      "<class 'float'>\n"
     ]
    }
   ],
   "source": [
    "h=4. #Observar el punto después del número entero 4\n",
    "print(type(h))"
   ]
  },
  {
   "cell_type": "code",
   "execution_count": 3,
   "metadata": {},
   "outputs": [
    {
     "name": "stdout",
     "output_type": "stream",
     "text": [
      "2.0\n",
      "<class 'float'>\n"
     ]
    }
   ],
   "source": [
    "# Ahora vamos a obtener un número real de forma sencilla y fácil.\n",
    "b=i/2\n",
    "print(b)\n",
    "print(type(b))"
   ]
  },
  {
   "cell_type": "code",
   "execution_count": 4,
   "metadata": {},
   "outputs": [
    {
     "name": "stdout",
     "output_type": "stream",
     "text": [
      "1606938044258990275541962092341162602522202993782792835301376\n",
      "<class 'int'>\n"
     ]
    }
   ],
   "source": [
    "#Se puede trabajar con enteros con una cifra de dígitos muy alta\n",
    "c=2**200\n",
    "print(c)\n",
    "print(type(c))"
   ]
  },
  {
   "cell_type": "code",
   "execution_count": 5,
   "metadata": {},
   "outputs": [
    {
     "name": "stdout",
     "output_type": "stream",
     "text": [
      "61\n",
      "30103\n"
     ]
    }
   ],
   "source": [
    "print(len(str(c)))\n",
    "# Veamos la longitud de un número muy alto\n",
    "print(len(str(2**100000)))"
   ]
  },
  {
   "cell_type": "markdown",
   "metadata": {},
   "source": [
    "Como ya hemos visto anteriormente, los números reales en Python realmente son de tipo float. Con este tipo de formato, se pueden entre otras, realizar las operaciones que  se muestran en los ejemplos que se muestran en los ejemplos que siguen."
   ]
  },
  {
   "cell_type": "code",
   "execution_count": 6,
   "metadata": {},
   "outputs": [
    {
     "name": "stdout",
     "output_type": "stream",
     "text": [
      "a=  3.0\n",
      "Tipo a=  <class 'float'>\n",
      "Pasado a entero:  3456\n",
      "Número a redondeado:  3457\n"
     ]
    }
   ],
   "source": [
    "#definimos un número de tipo float\n",
    "a=3.\n",
    "print(\"a= \",a)\n",
    "print(\"Tipo a= \",type(a))\n",
    "#Se pueden pasar números reales a enteros de la siguiente manera\n",
    "a=3456.78\n",
    "print(\"Pasado a entero: \",int(a))\n",
    "#También se puede redondear el número anterior:\n",
    "print(\"Número a redondeado: \",round(a))"
   ]
  },
  {
   "cell_type": "markdown",
   "metadata": {},
   "source": [
    "Los valores de tipo **Complejo** se tratan de la siguiente manera:"
   ]
  },
  {
   "cell_type": "code",
   "execution_count": 7,
   "metadata": {},
   "outputs": [
    {
     "name": "stdout",
     "output_type": "stream",
     "text": [
      "<class 'complex'>\n",
      "La suma de los complejos es: (5.8+10.899999999999999j)\n"
     ]
    }
   ],
   "source": [
    "a=3.5+6.3j\n",
    "print(type(a))\n",
    "b=2.3+4.6J\n",
    "c=a+b\n",
    "print(\"La suma de los complejos es:\",c)"
   ]
  },
  {
   "cell_type": "markdown",
   "metadata": {},
   "source": [
    "Python cuenta con una libreria especializada en fórmulas matemáticas, denominada math. El trabajo con la misma se haría de la siguiente manera."
   ]
  },
  {
   "cell_type": "code",
   "execution_count": 8,
   "metadata": {},
   "outputs": [
    {
     "name": "stdout",
     "output_type": "stream",
     "text": [
      "Valor de número pi: 3.141592653589793\n",
      "Valor del coseno: 0.40808206181339196\n"
     ]
    }
   ],
   "source": [
    "import math\n",
    "print(\"Valor de número pi:\",math.pi)\n",
    "print(\"Valor del coseno:\",math.cos(20))"
   ]
  },
  {
   "cell_type": "markdown",
   "metadata": {},
   "source": [
    "### Cadena de caracteres."
   ]
  },
  {
   "cell_type": "markdown",
   "metadata": {},
   "source": [
    "Las **Cadenas de caracteres** son una secuencia de letras que están encerrados bien entre comillas dobles ( \" \" ), o bien entre comillas simples ( ' ' )."
   ]
  },
  {
   "cell_type": "code",
   "execution_count": 9,
   "metadata": {},
   "outputs": [
    {
     "name": "stdout",
     "output_type": "stream",
     "text": [
      "El tipo de dato de a es: <class 'str'>\n",
      "La concatenación de a y b es:  Buenos díasNos vamos a McDonald's\n",
      "El número de caracteres de a es: 11\n"
     ]
    }
   ],
   "source": [
    "a='Buenos días'\n",
    "# Como hay carácter ' en la frase necesariamente se encierra en comillas dobles\n",
    "b=\"Nos vamos a McDonald's\"\n",
    "print(\"El tipo de dato de a es:\",type(a))\n",
    "# Los String se pueden concatenar de la siguiente manera\n",
    "print(\"La concatenación de a y b es: \",a+b)\n",
    "print(\"El número de caracteres de a es:\",len(a))\n"
   ]
  },
  {
   "cell_type": "markdown",
   "metadata": {},
   "source": [
    "En las cadenas de caracteres se pueden extraer las letras que las componen de la siguiente manera: "
   ]
  },
  {
   "cell_type": "code",
   "execution_count": 10,
   "metadata": {},
   "outputs": [
    {
     "name": "stdout",
     "output_type": "stream",
     "text": [
      "H y\n"
     ]
    }
   ],
   "source": [
    "a=\"Hoy es miércoles\"\n",
    "print(a[0],a[2])"
   ]
  },
  {
   "cell_type": "code",
   "execution_count": 11,
   "metadata": {},
   "outputs": [
    {
     "name": "stdout",
     "output_type": "stream",
     "text": [
      "s l\n"
     ]
    }
   ],
   "source": [
    "#Si el índice es negativo se seleccionan comenzando por la derecha\n",
    "\n",
    "print(a[-1],a[-3])"
   ]
  },
  {
   "cell_type": "code",
   "execution_count": 12,
   "metadata": {},
   "outputs": [
    {
     "name": "stdout",
     "output_type": "stream",
     "text": [
      "El tipo de a es:  <class 'str'>\n",
      "Ahora sin embargo a es de tipo: <class 'int'>\n"
     ]
    }
   ],
   "source": [
    "#Para convertir un character a entero\n",
    "a='1234' #Sería un valor de tipo carácter\n",
    "print('El tipo de a es: ',type(a))\n",
    "a=int(a)\n",
    "print('Ahora sin embargo a es de tipo:',type(a))"
   ]
  },
  {
   "cell_type": "code",
   "execution_count": 13,
   "metadata": {},
   "outputs": [
    {
     "name": "stdout",
     "output_type": "stream",
     "text": [
      "a es del tipo:  <class 'int'>\n",
      "Ahora a es del tipo:  <class 'str'>\n"
     ]
    }
   ],
   "source": [
    "#La operación enversa sería pasar de númerico a cadena de caracteres.\n",
    "a=234\n",
    "print('a es del tipo: ',type(a))\n",
    "a=str(a)\n",
    "print('Ahora a es del tipo: ',type(a))"
   ]
  },
  {
   "cell_type": "markdown",
   "metadata": {},
   "source": [
    "### Valores de tipo Boolean."
   ]
  },
  {
   "cell_type": "markdown",
   "metadata": {},
   "source": [
    "Las variables de **tipo Boolean** sólo pueden tomar dos valores: True, False ( a efectos numéricos, True equivale a 1, o número mayor que 1, y False a cero). Se suelen utilizar cuando se hacen comparaciones entre variables, y son muy útiles en los \"bucles\" de elementos utilizados en Python.  "
   ]
  },
  {
   "cell_type": "code",
   "execution_count": 14,
   "metadata": {},
   "outputs": [
    {
     "name": "stdout",
     "output_type": "stream",
     "text": [
      "True\n",
      "True\n",
      "False\n"
     ]
    }
   ],
   "source": [
    "print(bool(1))\n",
    "print(bool(2))\n",
    "print(bool(0.0))"
   ]
  },
  {
   "cell_type": "markdown",
   "metadata": {},
   "source": [
    "## Tipos de colecciones.\n",
    "\n",
    "Son muchas las colecciones soportadas por Python, no obstante y debido a la limitación de este trabajo, a continuación se van a exponer las tres más utilizadas dentro del campo de Big Data."
   ]
  },
  {
   "cell_type": "markdown",
   "metadata": {},
   "source": [
    "### Tuplas\n",
    "\n",
    "Las tuplas admiten un conjunto de valores y normalmente van encerradas entre paréntesis."
   ]
  },
  {
   "cell_type": "code",
   "execution_count": 15,
   "metadata": {},
   "outputs": [
    {
     "name": "stdout",
     "output_type": "stream",
     "text": [
      "Tipo de dato a: <class 'tuple'>\n",
      "Segundo elemento: 2\n",
      "Último elemento: cuatro\n"
     ]
    }
   ],
   "source": [
    "a=(1,2,\"tres\",\"cuatro\")\n",
    "print(\"Tipo de dato a:\",type(a))\n",
    "#Para entresacar datos de la tupla...\n",
    "print(\"Segundo elemento:\",a[1])\n",
    "print(\"Último elemento:\",a[-1])"
   ]
  },
  {
   "cell_type": "markdown",
   "metadata": {},
   "source": [
    "### Listas\n",
    "\n",
    "Las listas en Python son un tipo de datos muy similar a las tuplas, pero para distinguirlas, los datos se encierran entre corchetes:"
   ]
  },
  {
   "cell_type": "code",
   "execution_count": 16,
   "metadata": {},
   "outputs": [
    {
     "name": "stdout",
     "output_type": "stream",
     "text": [
      "['uno', 'dos', 'tres']\n",
      "['uno', 'dos', 'tres', 'cuatro']\n"
     ]
    }
   ],
   "source": [
    "b=['uno','dos','tres']\n",
    "print(b)\n",
    "#Se pueden añadir elementos\n",
    "b.append('cuatro')\n",
    "print(b)"
   ]
  },
  {
   "cell_type": "code",
   "execution_count": 17,
   "metadata": {},
   "outputs": [
    {
     "name": "stdout",
     "output_type": "stream",
     "text": [
      "['uno', 'dos', 'tres', 'cuatro', 5]\n"
     ]
    }
   ],
   "source": [
    "#Pueden contener datos de diferente clase\n",
    "b.append(5)\n",
    "print(b)"
   ]
  },
  {
   "cell_type": "code",
   "execution_count": 18,
   "metadata": {},
   "outputs": [
    {
     "name": "stdout",
     "output_type": "stream",
     "text": [
      "El primer elemento es  uno\n",
      "El penúltimo elemento es  cuatro\n"
     ]
    }
   ],
   "source": [
    "#Los elementos se extraen de la siguiente manera\n",
    "print(\"El primer elemento es \",b[0])\n",
    "print(\"El penúltimo elemento es \",b[-2])"
   ]
  },
  {
   "cell_type": "markdown",
   "metadata": {},
   "source": [
    "### Diccionarios.\n",
    "\n",
    "Los diccionarios también se les conoce por la denominación de **matrices asociativas** y son colecciones de elementos en las cuales cada uno de los elementos que la componen están contituidos por una clave y un valor asociado a esa clave."
   ]
  },
  {
   "cell_type": "code",
   "execution_count": 19,
   "metadata": {},
   "outputs": [
    {
     "name": "stdout",
     "output_type": "stream",
     "text": [
      "738264\n"
     ]
    }
   ],
   "source": [
    "telefonos={'Luis':347562,\n",
    "          'pedro':738264,\n",
    "           'Juan':528492\n",
    "          }\n",
    "#A los valores se accede de la siguiente manera\n",
    "print(telefonos['pedro'])"
   ]
  },
  {
   "cell_type": "code",
   "execution_count": 20,
   "metadata": {},
   "outputs": [
    {
     "name": "stdout",
     "output_type": "stream",
     "text": [
      "{'Luis': 347562, 'pedro': 738264, 'Juan': 528492}\n"
     ]
    }
   ],
   "source": [
    "print(telefonos)"
   ]
  },
  {
   "cell_type": "code",
   "execution_count": 21,
   "metadata": {},
   "outputs": [
    {
     "data": {
      "text/plain": [
       "False"
      ]
     },
     "execution_count": 21,
     "metadata": {},
     "output_type": "execute_result"
    }
   ],
   "source": [
    "#Para borrar un elemento\n",
    "del(telefonos['Juan'])\n",
    "#Comprobemos si se ha borrado\n",
    "'Juan' in telefonos"
   ]
  },
  {
   "cell_type": "markdown",
   "metadata": {},
   "source": [
    "### Instrucciones condicionales.\n",
    "\n",
    "Estas instrucciones se utilizan para realizar una instrucción u otra dependiendo se den determinadas condiciones. Para mostrar su funcionamiento en Python, a continuación se muestra un ejemplo, en el que se indica además **cómo se contruyen las funciones en Python**."
   ]
  },
  {
   "cell_type": "code",
   "execution_count": 22,
   "metadata": {},
   "outputs": [
    {
     "name": "stdout",
     "output_type": "stream",
     "text": [
      "El valor absoluto de  -7 is 7\n"
     ]
    }
   ],
   "source": [
    "#Se define una función denominada \n",
    "def ValorAbsoluto(n):\n",
    "    n = int(n)\n",
    "    if n < 0:\n",
    "        print (\"El valor absoluto de \",n,\"is\",-n)        \n",
    "    else:\n",
    "        print (\"El valor absoluto de\",n,\"is\",n)\n",
    "    \n",
    "    \n",
    "ValorAbsoluto(-7)"
   ]
  },
  {
   "cell_type": "markdown",
   "metadata": {},
   "source": [
    "### loops en Python\n",
    "\n",
    "A continuación se muestra cómo poder hacer ciclos de tratamiento de datos en Python."
   ]
  },
  {
   "cell_type": "code",
   "execution_count": 23,
   "metadata": {},
   "outputs": [
    {
     "name": "stdout",
     "output_type": "stream",
     "text": [
      "el contador es: 0\n",
      "el contador es: 1\n",
      "el contador es: 2\n",
      "el contador es: 3\n",
      "Final del contador\n"
     ]
    }
   ],
   "source": [
    "count = 0\n",
    "while (count < 4):\n",
    "    #Observar los 4 espacios de tabulación. Es muy importante en Python\n",
    "    print('el contador es:', count) \n",
    "    count = count + 1\n",
    "\n",
    "print(\"Final del contador\")"
   ]
  },
  {
   "cell_type": "code",
   "execution_count": 24,
   "metadata": {},
   "outputs": [
    {
     "name": "stdout",
     "output_type": "stream",
     "text": [
      "La letra actual es: P\n",
      "La letra actual es: y\n",
      "La letra actual es: t\n",
      "La letra actual es: h\n",
      "La letra actual es: o\n",
      "La letra actual es: n\n"
     ]
    }
   ],
   "source": [
    "for letter in 'Python':     \n",
    "    print('La letra actual es:', letter)"
   ]
  },
  {
   "cell_type": "code",
   "execution_count": 25,
   "metadata": {},
   "outputs": [
    {
     "name": "stdout",
     "output_type": "stream",
     "text": [
      "Parámetro actual : 100\n"
     ]
    }
   ],
   "source": [
    "parameters = [1,10,100]\n",
    "for index in range(len(parameters)):\n",
    "    if parameters[index]==100:\n",
    "        print('Parámetro actual :', parameters[index])"
   ]
  },
  {
   "cell_type": "markdown",
   "metadata": {},
   "source": [
    "## Numpy.\n",
    "\n",
    "Numpy es uno de los paquetes más utilizados en el campo de Machine Learning. Entre sus elementos más importantes, está el trabajo con arrays. A continuación se muestran algunos ejemplos explicativos sobre esta materia.\n",
    "\n",
    "Primero veamos el **concepto de dimensión** en un numpy array"
   ]
  },
  {
   "cell_type": "code",
   "execution_count": 26,
   "metadata": {},
   "outputs": [
    {
     "name": "stdout",
     "output_type": "stream",
     "text": [
      "La dimensión de a es: 0\n",
      "La dimensión de b es: 1\n",
      "La dimensión de c es: 2\n",
      "La dimensión de d es: 3\n"
     ]
    }
   ],
   "source": [
    "import numpy as np\n",
    "a=np.array(1)\n",
    "print(\"La dimensión de a es:\",np.ndim(a))\n",
    "b=np.array([1,2,3])\n",
    "print(\"La dimensión de b es:\",np.ndim(b))\n",
    "c=np.array([[1,2,3],[4,5,6]])\n",
    "print(\"La dimensión de c es:\",np.ndim(c))\n",
    "d=np.array([[[1,2,3],[4,5,6]],[[6,3,4],[6,2,5]]])\n",
    "print(\"La dimensión de d es:\",np.ndim(d))"
   ]
  },
  {
   "cell_type": "code",
   "execution_count": 27,
   "metadata": {},
   "outputs": [
    {
     "name": "stdout",
     "output_type": "stream",
     "text": [
      "Los valores del array x son:  [[ 42.4   3. ]\n",
      " [  4.    6. ]\n",
      " [  7.    5. ]]\n",
      "El tipo de  x es:  float64\n",
      "La dimensión de x es: 2\n",
      "El shape de x es  (3, 2)\n"
     ]
    }
   ],
   "source": [
    "import numpy as np\n",
    "x = np.array([[42.4,3],[4,6],[7,5]])\n",
    "print(\"Los valores del array x son: \", x)\n",
    "print(\"El tipo de  x es: \", x.dtype)\n",
    "#Ojo no confundir dimensión con shape del array\n",
    "print(\"La dimensión de x es:\", np.ndim(x))\n",
    "print(\"El shape de x es \",np.shape(x))"
   ]
  },
  {
   "cell_type": "code",
   "execution_count": 28,
   "metadata": {},
   "outputs": [
    {
     "name": "stdout",
     "output_type": "stream",
     "text": [
      "Los valores de F son:  [ 1  1  2  3  5  8 13 21]\n",
      "Los valores de V son:  [  3.4   6.9  99.8  12.8]\n",
      "Tipo de F:  int32\n",
      "Tipo de V:  float64\n",
      "Dimension de F:  1\n",
      "Dimension de V:  1\n",
      "Shape de F (8,)\n"
     ]
    }
   ],
   "source": [
    "F = np.array([1, 1, 2, 3, 5, 8, 13, 21])\n",
    "V = np.array([3.4, 6.9, 99.8, 12.8])\n",
    "print(\"Los valores de F son: \", F)\n",
    "print(\"Los valores de V son: \", V)\n",
    "print(\"Tipo de F: \", F.dtype)\n",
    "print(\"Tipo de V: \", V.dtype)\n",
    "print(\"Dimension de F: \", np.ndim(F))\n",
    "print(\"Dimension de V: \", np.ndim(V))\n",
    "print(\"Shape de F\", np.shape(F))"
   ]
  },
  {
   "cell_type": "code",
   "execution_count": 29,
   "metadata": {},
   "outputs": [
    {
     "name": "stdout",
     "output_type": "stream",
     "text": [
      "[[  3.4   8.7   9.9]\n",
      " [  1.1  -7.8  -0.7]\n",
      " [  4.1  12.3   4.8]]\n",
      "Dimension d A:  2\n",
      "(3, 3)\n"
     ]
    }
   ],
   "source": [
    "A = np.array([ [3.4, 8.7, 9.9  ], \n",
    "               [1.1, -7.8, -0.7],\n",
    "               [4.1, 12.3, 4.8 ]])\n",
    "print(A)\n",
    "print(\"Dimension d A: \", np.ndim(A))\n",
    "print(np.shape(A))"
   ]
  },
  {
   "cell_type": "code",
   "execution_count": 30,
   "metadata": {},
   "outputs": [
    {
     "name": "stdout",
     "output_type": "stream",
     "text": [
      "[[[111 112]\n",
      "  [121 122]]\n",
      "\n",
      " [[211 212]\n",
      "  [221 222]]\n",
      "\n",
      " [[311 312]\n",
      "  [321 322]]]\n",
      "Dimension de B:  3\n",
      "(3, 2, 2)\n"
     ]
    }
   ],
   "source": [
    "B = np.array([ [[111, 112], [121, 122]],\n",
    "               [[211, 212], [221, 222]],\n",
    "               [[311, 312], [321, 322]] ])\n",
    "\n",
    "print(B)\n",
    "print(\"Dimension de B: \", np.ndim(B))\n",
    "print(np.shape(B))"
   ]
  },
  {
   "cell_type": "markdown",
   "metadata": {},
   "source": [
    "### Indexando valores.\n",
    "\n",
    "Esta utilidad va a servir para poder entresacar valores de numpy arrays."
   ]
  },
  {
   "cell_type": "code",
   "execution_count": 31,
   "metadata": {},
   "outputs": [
    {
     "name": "stdout",
     "output_type": "stream",
     "text": [
      "1\n",
      "21\n"
     ]
    }
   ],
   "source": [
    "F = np.array([1, 1, 2, 3, 5, 8, 13, 21])\n",
    "# Se imprime el primer valor del array\n",
    "print(F[0])\n",
    "# Se imprime el último valor de F\n",
    "print(F[-1])"
   ]
  },
  {
   "cell_type": "code",
   "execution_count": 32,
   "metadata": {},
   "outputs": [
    {
     "name": "stdout",
     "output_type": "stream",
     "text": [
      "[[[111 112]\n",
      "  [121 122]]\n",
      "\n",
      " [[211 212]\n",
      "  [221 222]]\n",
      "\n",
      " [[311 312]\n",
      "  [321 322]]]\n",
      "121\n"
     ]
    }
   ],
   "source": [
    "B = np.array([ [[111, 112], [121, 122]],\n",
    "               [[211, 212], [221, 222]],\n",
    "               [[311, 312], [321, 322]] ])\n",
    "print(B)\n",
    "print(B[0,1,0])"
   ]
  },
  {
   "cell_type": "markdown",
   "metadata": {},
   "source": [
    "### Slicing\n",
    "\n",
    "Sirve para indicar qué valores queremos extraer de los arrays"
   ]
  },
  {
   "cell_type": "code",
   "execution_count": 33,
   "metadata": {},
   "outputs": [
    {
     "name": "stdout",
     "output_type": "stream",
     "text": [
      "[[  3.4   8.7   9.9]\n",
      " [  1.1  -7.8  -0.7]\n",
      " [  4.1  12.3   4.8]]\n",
      "[[ 3.4  8.7]\n",
      " [ 1.1 -7.8]]\n"
     ]
    }
   ],
   "source": [
    "A = np.array([ [3.4, 8.7, 9.9], \n",
    "               [1.1, -7.8, -0.7],\n",
    "               [4.1, 12.3, 4.8]])\n",
    "print(A)\n",
    "print(A[:2,:2])"
   ]
  },
  {
   "cell_type": "code",
   "execution_count": 34,
   "metadata": {},
   "outputs": [
    {
     "name": "stdout",
     "output_type": "stream",
     "text": [
      "[2 3 4]\n",
      "[0 1 2 3]\n",
      "[6 7 8 9]\n",
      "[0 1 2 3 4 5 6 7 8 9]\n"
     ]
    }
   ],
   "source": [
    "S = np.array([0, 1, 2, 3, 4, 5, 6, 7, 8, 9])\n",
    "print(S[2:5])\n",
    "print(S[:4])\n",
    "print(S[6:])\n",
    "print(S[:])"
   ]
  },
  {
   "cell_type": "code",
   "execution_count": 35,
   "metadata": {},
   "outputs": [
    {
     "name": "stdout",
     "output_type": "stream",
     "text": [
      "[[11 12 13 14 15]\n",
      " [21 22 23 24 25]\n",
      " [31 32 33 34 35]\n",
      " [41 42 43 44 45]\n",
      " [51 52 53 54 55]]\n"
     ]
    }
   ],
   "source": [
    "A = np.array([\n",
    "[11,12,13,14,15],\n",
    "[21,22,23,24,25],\n",
    "[31,32,33,34,35],\n",
    "[41,42,43,44,45],\n",
    "[51,52,53,54,55]])\n",
    "\n",
    "print(A)"
   ]
  },
  {
   "cell_type": "code",
   "execution_count": 36,
   "metadata": {},
   "outputs": [
    {
     "name": "stdout",
     "output_type": "stream",
     "text": [
      "[[13 14 15]\n",
      " [23 24 25]\n",
      " [33 34 35]] \n",
      "\n",
      "[[41 42 43 44 45]\n",
      " [51 52 53 54 55]] \n",
      "\n",
      "[[15]\n",
      " [25]\n",
      " [35]\n",
      " [45]\n",
      " [55]]\n"
     ]
    }
   ],
   "source": [
    "print(A[:3,2:],\"\\n\")\n",
    "print(A[3:,:],\"\\n\")\n",
    "print(A[:,4:])"
   ]
  },
  {
   "cell_type": "markdown",
   "metadata": {},
   "source": [
    "### Operaciones con arrays.\n"
   ]
  },
  {
   "cell_type": "code",
   "execution_count": 37,
   "metadata": {},
   "outputs": [
    {
     "data": {
      "text/plain": [
       "array([[ 2,  6],\n",
       "       [15, -5]])"
      ]
     },
     "execution_count": 37,
     "metadata": {},
     "output_type": "execute_result"
    }
   ],
   "source": [
    "# De la siguiente manera se obtiene la multiplicación elemento a \n",
    "#elemento del array (Ojo no es la conocida multiplicación de matrices)\n",
    "x = np.array( ((2,3), (3, 5)) )\n",
    "y = np.array( ((1,2), (5, -1)) )\n",
    "x * y"
   ]
  },
  {
   "cell_type": "code",
   "execution_count": 38,
   "metadata": {},
   "outputs": [
    {
     "name": "stdout",
     "output_type": "stream",
     "text": [
      "[[17  1]\n",
      " [28  1]] \n",
      "\n",
      "[[17  1]\n",
      " [28  1]]\n"
     ]
    }
   ],
   "source": [
    "# multiplicación de matrices\n",
    "x = np.matrix( ((2,3), (3, 5)) )\n",
    "y = np.matrix( ((1,2), (5, -1)) )\n",
    "print(x * y,\"\\n\")\n",
    "\n",
    "# Dot producto\n",
    "x = np.array( ((2,3), (3, 5)) )\n",
    "y = np.array( ((1,2), (5, -1)) )\n",
    "print(np.dot(x,y))\n"
   ]
  },
  {
   "cell_type": "markdown",
   "metadata": {},
   "source": [
    "### Números aleatorios.\n",
    "\n",
    "La generación de números aleatorios es una herramienta muy útil en el campo de Machine Learning. Para obtener números aleatorios, existen ya utilidades desarrolladas dentro del paquete Numpy, y a continuación se pasa a exponer algunos ejemplos que muestran la generación de los mismos ( si se quiere profundizar más en este tema, [se puede consultar el siguiente enlace](https://docs.scipy.org/doc/numpy/reference/routines.random.html){:target=\"_blank\"})."
   ]
  },
  {
   "cell_type": "code",
   "execution_count": 39,
   "metadata": {},
   "outputs": [
    {
     "name": "stdout",
     "output_type": "stream",
     "text": [
      "0.415944375306758\n",
      "0.3949777889373144\n",
      "0.25431729478513077\n",
      "0.6133013561633982\n"
     ]
    }
   ],
   "source": [
    "#Obteniendo cuatro números aleatorios (de una uniforme entre 0 y 1)\n",
    "import numpy as np\n",
    "for i in range(4):\n",
    "    print(np.random.random())"
   ]
  },
  {
   "cell_type": "code",
   "execution_count": 40,
   "metadata": {},
   "outputs": [
    {
     "name": "stdout",
     "output_type": "stream",
     "text": [
      "Heidelberg\n"
     ]
    }
   ],
   "source": [
    "# Eligiendo aleatoriamente un elemento \n",
    "from random import choice\n",
    "possible_destinations = [\"Berlin\", \"Madrid\", \n",
    "                         \"Amsterdam\", \"London\", \"Paris\", \n",
    "                         \"Zurich\", \"Heidelberg\", \"Strasbourg\", \n",
    "                         \"Augsburg\", \"Milan\", \"Rome\"]\n",
    "print(choice(possible_destinations))"
   ]
  },
  {
   "cell_type": "code",
   "execution_count": 41,
   "metadata": {},
   "outputs": [
    {
     "data": {
      "text/plain": [
       "(200, 2)"
      ]
     },
     "execution_count": 41,
     "metadata": {},
     "output_type": "execute_result"
    }
   ],
   "source": [
    "rng = np.random.RandomState(0)\n",
    "X = rng.randn(200, 2)\n",
    "\n",
    "X.shape"
   ]
  },
  {
   "cell_type": "code",
   "execution_count": 42,
   "metadata": {},
   "outputs": [
    {
     "data": {
      "text/plain": [
       "array([ 0.5881308 ,  0.89771373,  0.89153073,  0.81583748])"
      ]
     },
     "execution_count": 42,
     "metadata": {},
     "output_type": "execute_result"
    }
   ],
   "source": [
    "#Si queremos sacar siempre los mismos números, definimos primero una semilla\n",
    "np.random.seed(20)\n",
    "np.random.random(4)\n",
    "#Observamos que al repetir la ejecución de esa sentencia siempre\n",
    "#obtenemos los mismos números. Est es muy útil para la ejecución \n",
    "#repetida de ejemplos en las mismas condiciones."
   ]
  },
  {
   "cell_type": "markdown",
   "metadata": {},
   "source": [
    "## Pandas.\n",
    "\n",
    "Pandas es otro paquete muy utilizado dentro de Python sobre todo para el manejo y trasnformación de los datos. Su uso y utilización, se puede ver en la [página web del propio Pandas](http://pandas.pydata.org/){:target=\"_blank\"}.\n",
    "\n",
    "Dado el enfoque que se ha dado en este post, tan sólo se va a hacer una pequeña referencia a las posibiliades que nos ofrece Pandas para ayudar en el trabajo de la interpretación de los datos.\n",
    "\n",
    "Para empezar, conviene decir que Pandas cuenta con dos estructuras básicas de datos:\n",
    "\n",
    "* **DataFrame**. Que es una estructura de datos tabular compuesta por filas y columnas.\n",
    "* **Series**. En este caso se trata de un objeto unidimensional que se puede equiparar a una columna de una tabla. \n",
    "\n",
    "Estudiemos con un poco más de detalle estas dos estructuras.\n",
    "\n",
    "### DataFrame.\n",
    "\n",
    "Como ya se ha dicho anteriormente se trata de una estructura bidimensional de datos estructurados en filas y columnas. Para ver mejor su construcción a continuación mostramos un ejemplo: "
   ]
  },
  {
   "cell_type": "code",
   "execution_count": 43,
   "metadata": {},
   "outputs": [
    {
     "name": "stdout",
     "output_type": "stream",
     "text": [
      "   edades nombres\n",
      "0      34    Juan\n",
      "1      45   Pedro\n",
      "2      23  Estela\n",
      "3      32   Maria\n"
     ]
    }
   ],
   "source": [
    "import pandas as pd\n",
    "#Observar que lo que se construye a continuación es un diccionario de datos\n",
    "datos={'nombres':['Juan','Pedro','Estela','Maria'],\n",
    "        'edades':[34,45,23,32]\n",
    "}\n",
    "data_frame=pd.DataFrame(datos)\n",
    "print(data_frame)"
   ]
  },
  {
   "cell_type": "markdown",
   "metadata": {},
   "source": [
    "Como se puede observar, las columnas del DataFrame no tienen el mismo orden que el que se ha utilizado en su definición, esto es debido a que Pandas lo que hace es ordenar las columnas por orden alfabético. Si se quiere usar una ordenación diferente se puede hacer lo siguiente:"
   ]
  },
  {
   "cell_type": "code",
   "execution_count": 44,
   "metadata": {},
   "outputs": [
    {
     "name": "stdout",
     "output_type": "stream",
     "text": [
      "  nombres  edades\n",
      "0    Juan      34\n",
      "1   Pedro      45\n",
      "2  Estela      23\n",
      "3   Maria      32\n"
     ]
    }
   ],
   "source": [
    "data_frame_2 = pd.DataFrame(datos, columns = ['nombres', 'edades'])\n",
    "print(data_frame_2)"
   ]
  },
  {
   "cell_type": "markdown",
   "metadata": {},
   "source": [
    "También se pueden utilizar unos índices distintos a 0,1,2,3,.... que son los que se utilizan por defecto. Para conseguir esto se utiliza la siguiente expresión:"
   ]
  },
  {
   "cell_type": "code",
   "execution_count": 45,
   "metadata": {},
   "outputs": [
    {
     "name": "stdout",
     "output_type": "stream",
     "text": [
      "  nombres  edades\n",
      "a    Juan      34\n",
      "b   Pedro      45\n",
      "c  Estela      23\n",
      "d   Maria      32\n"
     ]
    }
   ],
   "source": [
    "data_frame_2 = pd.DataFrame(datos, columns = ['nombres', 'edades'], index=['a','b','c','d'])\n",
    "print(data_frame_2)"
   ]
  },
  {
   "cell_type": "markdown",
   "metadata": {},
   "source": [
    "### Series.\n",
    "\n",
    "Se utiliza este tipo de datos para crear estructuras unidimensionales. Para su creación se utiliza el siguiente comando,"
   ]
  },
  {
   "cell_type": "code",
   "execution_count": 46,
   "metadata": {},
   "outputs": [
    {
     "name": "stdout",
     "output_type": "stream",
     "text": [
      "1       Ramón\n",
      "2        Juan\n",
      "3       Maria\n",
      "4    Abelardo\n",
      "5      Melisa\n",
      "dtype: object\n"
     ]
    }
   ],
   "source": [
    "series = pd.Series(['Ramón', 'Juan', 'Maria', 'Abelardo', 'Melisa'],\n",
    "                   index = [1, 2, 3, 4, 5])\n",
    "print(series)"
   ]
  },
  {
   "cell_type": "markdown",
   "metadata": {},
   "source": [
    "En ocasiones y aunque sólo sea para ver la estructura de los datos, conviene ver los primeros o los últimos. Para esto se tienen dos funciones: *head y tail*, que en nuestro ejemplo darían el mismo resultado debido a los escasos datos con los que se está trabajando."
   ]
  },
  {
   "cell_type": "code",
   "execution_count": 47,
   "metadata": {},
   "outputs": [
    {
     "name": "stdout",
     "output_type": "stream",
     "text": [
      "  nombres  edades\n",
      "a    Juan      34\n",
      "b   Pedro      45\n",
      "c  Estela      23\n",
      "d   Maria      32 \n",
      "\n",
      "  nombres  edades\n",
      "a    Juan      34\n",
      "b   Pedro      45\n",
      "c  Estela      23\n",
      "d   Maria      32\n"
     ]
    }
   ],
   "source": [
    "print(data_frame_2.head(),\"\\n\" )\n",
    "print(data_frame_2.tail())"
   ]
  },
  {
   "cell_type": "markdown",
   "metadata": {},
   "source": [
    "Existe también la posibilidad de ver el tipo de datos que contiene el objeto pandas que se ha creado, la forma de hacerlo es la siguiente:"
   ]
  },
  {
   "cell_type": "code",
   "execution_count": 48,
   "metadata": {},
   "outputs": [
    {
     "data": {
      "text/plain": [
       "<bound method NDFrame.describe of   nombres  edades\n",
       "a    Juan      34\n",
       "b   Pedro      45\n",
       "c  Estela      23\n",
       "d   Maria      32>"
      ]
     },
     "execution_count": 48,
     "metadata": {},
     "output_type": "execute_result"
    }
   ],
   "source": [
    "data_frame_2.describe"
   ]
  },
  {
   "cell_type": "code",
   "execution_count": 49,
   "metadata": {},
   "outputs": [
    {
     "data": {
      "image/png": "[encoded data removed]",
      "text/plain": [
       "<Figure size 432x288 with 1 Axes>"
      ]
     },
     "metadata": {},
     "output_type": "display_data"
    }
   ],
   "source": [
    "import matplotlib.pyplot as plt\n",
    "data_frame_2.plot(x='nombres',y='edades',kind='bar',style='o')\n",
    "plt.show()"
   ]
  },
  {
   "cell_type": "markdown",
   "metadata": {},
   "source": [
    "Se puede intercambiar tipos de datos entre numpy y pandas. A continuación se muestra cómo pasar un dataframe a numpy array."
   ]
  },
  {
   "cell_type": "code",
   "execution_count": 50,
   "metadata": {},
   "outputs": [
    {
     "data": {
      "text/plain": [
       "array([['Juan', 34],\n",
       "       ['Pedro', 45],\n",
       "       ['Estela', 23],\n",
       "       ['Maria', 32]], dtype=object)"
      ]
     },
     "execution_count": 50,
     "metadata": {},
     "output_type": "execute_result"
    }
   ],
   "source": [
    "np.array(data_frame_2)"
   ]
  },
  {
   "cell_type": "markdown",
   "metadata": {},
   "source": [
    "## Creando gráficos.\n",
    "\n",
    "Python posee una potente libreria para generar gráficos denominada Matplotlib. En los siguientes ejemplos se va a hacer una pequeña introducción a la misma, para ampliar conocimientos se puede consultar [el siguiente enlace (en inglés)](https://matplotlib.org/users/pyplot_tutorial.html){:target=\"_blank\"}. \n",
    "\n",
    "Quien quiera ver una pequeña referencia[en español hacer clic aqui](https://programacion.net/articulo/introduccion_a_la_libreria_matplotlib_de_python_1599]{:target=\"_blank\"}"
   ]
  },
  {
   "cell_type": "code",
   "execution_count": 51,
   "metadata": {},
   "outputs": [
    {
     "name": "stdout",
     "output_type": "stream",
     "text": [
      "[0, 3, 6, 9, 12, 15, 18, 21]\n"
     ]
    },
    {
     "data": {
      "image/png": "[encoded data removed]",
      "text/plain": [
       "<Figure size 432x288 with 1 Axes>"
      ]
     },
     "metadata": {},
     "output_type": "display_data"
    }
   ],
   "source": [
    "import matplotlib.pyplot as plt\n",
    "# Valores de x:\n",
    "dias = list(range(0, 22, 3))\n",
    "print(dias)\n",
    "# valores para y:\n",
    "celsius_valores = [25.6, 24.1, 26.7, 28.3, 27.5, 30.5, 32.8, 33.1]\n",
    "plt.plot(dias, celsius_valores,\"-or\")\n",
    "plt.xlabel('Dias')\n",
    "plt.ylabel('Grados Celsius')\n",
    "plt.show()"
   ]
  },
  {
   "cell_type": "markdown",
   "metadata": {},
   "source": [
    "Existen dos zonas donde Matplotlib crea los gráficos:\n",
    "\n",
    "* **figure**. Es la parte exterior, o más bien el continente donde se incluirá el gráfico. Es una instancia de *matplotlib.figure.Figure*.\n",
    "\n",
    "* **axes**. Es donde realmente se inserta el gráfico, sería el contenido del mismo. Es una instancia de matplotlib.axes.Axes.\n",
    "\n",
    "Por lo tanto, el primer concepto (figure) se puede asociar a **una ventana** y el concepto de \"axes\" se le puede **asociar a lo que es realmente el gráfico en sí**.\n",
    "\n",
    "Con matplotlib existen dos modos de generar el gráfico: **El modo interactivo y el modo no interactivo**. Por defecto, cuando se arranca una sesión en matplotlib se entra en modo no interactivo, y para que aparezca el gráfico, se debe incluir de forma expresa la instrucción **plt.show()**.\n",
    "\n",
    "En muchas ocasiones, lo que se desea es trabajar en modo interactivo para que el gráfico se presente de forma inmediata. La forma de conmutar entre un modo u otro es mediante las siguientes instrucciones:\n",
    "\n",
    "*  plt.ion() . Modo interactivo on.\n",
    "*  plt.ioff() . Modo interactivo off.\n",
    "\n",
    "Para saber si se está en modo interactivo se utiliza el comando *plt.isinteractive()*.\n",
    "\n"
   ]
  },
  {
   "cell_type": "code",
   "execution_count": 52,
   "metadata": {},
   "outputs": [
    {
     "data": {
      "text/plain": [
       "False"
      ]
     },
     "execution_count": 52,
     "metadata": {},
     "output_type": "execute_result"
    }
   ],
   "source": [
    "#El mismo gráfico que antes, pero de una forma más definida\n",
    "plt.isinteractive()"
   ]
  },
  {
   "cell_type": "code",
   "execution_count": 53,
   "metadata": {},
   "outputs": [
    {
     "data": {
      "text/plain": [
       "Text(0,0.5,'temperaturas')"
      ]
     },
     "execution_count": 53,
     "metadata": {},
     "output_type": "execute_result"
    },
    {
     "data": {
      "image/png": "[encoded data removed]",
      "text/plain": [
       "<Figure size 432x288 with 1 Axes>"
      ]
     },
     "metadata": {},
     "output_type": "display_data"
    }
   ],
   "source": [
    "plt.ion()\n",
    "fig, ax = plt.subplots()\n",
    "ax.plot(dias, celsius_valores,\"-or\")\n",
    "ax.set_title(\"Evolución temperature\")\n",
    "ax.set_xlabel(\"Dias\")\n",
    "ax.set_ylabel(\"temperaturas\")"
   ]
  }
 ],
 "metadata": {
  "kernelspec": {
   "display_name": "Python 3",
   "language": "python",
   "name": "python3"
  },
  "language_info": {
   "codemirror_mode": {
    "name": "ipython",
    "version": 3
   },
   "file_extension": ".py",
   "mimetype": "text/x-python",
   "name": "python",
   "nbconvert_exporter": "python",
   "pygments_lexer": "ipython3",
   "version": "3.6.6"
  },
  "toc": {
   "base_numbering": 1,
   "nav_menu": {},
   "number_sections": true,
   "sideBar": true,
   "skip_h1_title": false,
   "title_cell": "Tabla de contenidos",
   "title_sidebar": "Contenidos",
   "toc_cell": true,
   "toc_position": {
    "height": "calc(100% - 180px)",
    "left": "10px",
    "top": "150px",
    "width": "241px"
   },
   "toc_section_display": true,
   "toc_window_display": true
  }
 },
 "nbformat": 4,
 "nbformat_minor": 2
}
