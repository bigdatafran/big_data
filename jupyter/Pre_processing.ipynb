{
 "cells": [
  {
   "cell_type": "markdown",
   "metadata": {
    "toc": true
   },
   "source": [
    "<h1>Tabla de contenidos<span class=\"tocSkip\"></span></h1>\n",
    "<div class=\"toc\"><ul class=\"toc-item\"><li><span><a href=\"#Intruducción.\" data-toc-modified-id=\"Intruducción.-1\"><span class=\"toc-item-num\">1&nbsp;&nbsp;</span>Intruducción.</a></span></li><li><span><a href=\"#Estandarización-de-los-datos.\" data-toc-modified-id=\"Estandarización-de-los-datos.-2\"><span class=\"toc-item-num\">2&nbsp;&nbsp;</span>Estandarización de los datos.</a></span><ul class=\"toc-item\"><li><span><a href=\"#Función-scale.\" data-toc-modified-id=\"Función-scale.-2.1\"><span class=\"toc-item-num\">2.1&nbsp;&nbsp;</span>Función scale.</a></span></li><li><span><a href=\"#Clase-StandardScaler.\" data-toc-modified-id=\"Clase-StandardScaler.-2.2\"><span class=\"toc-item-num\">2.2&nbsp;&nbsp;</span>Clase StandardScaler.</a></span></li></ul></li><li><span><a href=\"#Escalando-features-dentro-de-un-rango.\" data-toc-modified-id=\"Escalando-features-dentro-de-un-rango.-3\"><span class=\"toc-item-num\">3&nbsp;&nbsp;</span>Escalando features dentro de un rango.</a></span></li><li><span><a href=\"#Transformaciones-no-lineales.\" data-toc-modified-id=\"Transformaciones-no-lineales.-4\"><span class=\"toc-item-num\">4&nbsp;&nbsp;</span>Transformaciones no lineales.</a></span></li><li><span><a href=\"#Normalización.\" data-toc-modified-id=\"Normalización.-5\"><span class=\"toc-item-num\">5&nbsp;&nbsp;</span>Normalización.</a></span></li><li><span><a href=\"#Binarización\" data-toc-modified-id=\"Binarización-6\"><span class=\"toc-item-num\">6&nbsp;&nbsp;</span>Binarización</a></span></li><li><span><a href=\"#Codificando-variables-alfanuméricas\" data-toc-modified-id=\"Codificando-variables-alfanuméricas-7\"><span class=\"toc-item-num\">7&nbsp;&nbsp;</span>Codificando variables alfanuméricas</a></span></li><li><span><a href=\"#Codificando-variables-categóricas.\" data-toc-modified-id=\"Codificando-variables-categóricas.-8\"><span class=\"toc-item-num\">8&nbsp;&nbsp;</span>Codificando variables categóricas.</a></span><ul class=\"toc-item\"><li><span><a href=\"#Codificando-con-pandas.\" data-toc-modified-id=\"Codificando-con-pandas.-8.1\"><span class=\"toc-item-num\">8.1&nbsp;&nbsp;</span>Codificando con pandas.</a></span></li></ul></li><li><span><a href=\"#Imputando-valores-faltantes.\" data-toc-modified-id=\"Imputando-valores-faltantes.-9\"><span class=\"toc-item-num\">9&nbsp;&nbsp;</span>Imputando valores faltantes.</a></span></li><li><span><a href=\"#Generando-features-tipo-polinomio\" data-toc-modified-id=\"Generando-features-tipo-polinomio-10\"><span class=\"toc-item-num\">10&nbsp;&nbsp;</span>Generando features tipo polinomio</a></span></li><li><span><a href=\"#Transformaciones-a-medida.\" data-toc-modified-id=\"Transformaciones-a-medida.-11\"><span class=\"toc-item-num\">11&nbsp;&nbsp;</span>Transformaciones a medida.</a></span></li></ul></div>"
   ]
  },
  {
   "cell_type": "markdown",
   "metadata": {},
   "source": [
    "# Intruducción.\n",
    "\n",
    "Existe una librería muy utilizada en trabajos de machine learning [denominada scikit-learn](http://scikit-learn.org/stable/){:target=\"_blank\"} que contiene multitud de procedimientos para realizar estudios estadísticos de los datos. En este post comenzamos la andadura de conocer esta librería, utilizando el enfoque de transformar las datos para conseguir determinados objetivos que faciliten el objetivo perseguido.\n",
    "\n",
    "En trabajos de  machine learning son muchas las ocasiones en las que se necesita trabajar con variables (features) que tengan una métrica similar de cara a poder realizar comparaciones fiables entre ellas.\n",
    "\n",
    "Para poder realziar este trabajo de una forma fácil y cómoda scikit-learn propociona una serie de procedimientos o funciones que se encargan de hacer un trabajo preparatotio de los datos antes de comenzar elcorrespondiente procesamiento.\n",
    "\n",
    "Todas estas técnicas son las que de una forma resumida se presentan en está sección, con la dinalidad de mostrar el lector un pequeño resumen sobre su uso, y después si se quieren ampliar conocimientos sobre determinado tema se puede acudir a la API de scikip-learn (en este caso concreto en el paquete ** sklearn.preprocessing** ) para tomar pleno conocimiento de todas las posibilidades que ofrece."
   ]
  },
  {
   "cell_type": "markdown",
   "metadata": {},
   "source": [
    "# Estandarización de los datos.\n",
    "\n",
    "La estandarización de los datos consiste en emplear una técnica de tal manera que los datos resultantes tengan una media de cero y una desviación típica de 1. Lo más normal es que esta estandarización se realice sobre las columnas (axis=0), aunque scikt-learn presenta también la popsibilidad de hacerlo sobre las filas ( axis=1).\n",
    "\n",
    "Para conseguir este objetivo, lo que se hace es restar a todos los datos la media de los mismos y después escalarlos, para lo cual se divide el resultado anterior por la desviación típica de los datos originales.\n",
    "\n",
    "Hay que destacar que el comportamiento anterior es el que se hace por defecto, pero scikit-learn también ofrece la posibilidad de sólo restar la media ( es decir, centrar los datos ), o sólo dividir por la desviación típica ( es decir, escalar los datos).\n",
    "\n",
    "## Función scale.\n",
    "\n",
    "Para realizar estos trabajos, el paquete sklearn.preprocesing ofrece la función ** scale ** que trabaja de la forma que se muestra en el siguiente ejemplo."
   ]
  },
  {
   "cell_type": "code",
   "execution_count": 1,
   "metadata": {
    "collapsed": false
   },
   "outputs": [
    {
     "data": {
      "text/plain": [
       "array([[ 0.        , -1.22474487,  1.33630621],\n",
       "       [ 1.22474487,  0.        , -0.26726124],\n",
       "       [-1.22474487,  1.22474487, -1.06904497]])"
      ]
     },
     "execution_count": 1,
     "metadata": {},
     "output_type": "execute_result"
    }
   ],
   "source": [
    "from sklearn import preprocessing\n",
    "import numpy as np\n",
    "X_train = np.array([[ 1., -1.,  2.],\n",
    "                    [ 2.,  0.,  0.],\n",
    "                    [ 0.,  1., -1.]])\n",
    "\n",
    "X_scaled = preprocessing.scale(X_train)\n",
    "X_scaled"
   ]
  },
  {
   "cell_type": "markdown",
   "metadata": {},
   "source": [
    "Veamos a continuación que las columnas (features) obtenidas, tienen media cero y desviación típica 1."
   ]
  },
  {
   "cell_type": "code",
   "execution_count": 2,
   "metadata": {
    "collapsed": false
   },
   "outputs": [
    {
     "data": {
      "text/plain": [
       "array([0., 0., 0.])"
      ]
     },
     "execution_count": 2,
     "metadata": {},
     "output_type": "execute_result"
    }
   ],
   "source": [
    "X_scaled.mean(axis=0)"
   ]
  },
  {
   "cell_type": "code",
   "execution_count": 3,
   "metadata": {
    "collapsed": false
   },
   "outputs": [
    {
     "data": {
      "text/plain": [
       "array([1., 1., 1.])"
      ]
     },
     "execution_count": 3,
     "metadata": {},
     "output_type": "execute_result"
    }
   ],
   "source": [
    "X_scaled.std(axis=0)"
   ]
  },
  {
   "cell_type": "markdown",
   "metadata": {},
   "source": [
    "Si tan sólo queremos restar la media, se haría de la siguiente manera"
   ]
  },
  {
   "cell_type": "code",
   "execution_count": 4,
   "metadata": {
    "collapsed": false
   },
   "outputs": [
    {
     "name": "stdout",
     "output_type": "stream",
     "text": [
      "[[ 0.         -1.          1.66666667]\n",
      " [ 1.          0.         -0.33333333]\n",
      " [-1.          1.         -1.33333333]] \n",
      "\n",
      "Medias:  [0.00000000e+00 0.00000000e+00 7.40148683e-17] \n",
      "\n",
      "STD:  [0.81649658 0.81649658 1.24721913]\n"
     ]
    }
   ],
   "source": [
    "X_scaled = preprocessing.scale(X_train, with_std=False)\n",
    "print(X_scaled, \"\\n\")\n",
    "print(\"Medias: \", X_scaled.mean(axis=0),\"\\n\")\n",
    "print(\"STD: \", X_scaled.std(axis=0))"
   ]
  },
  {
   "cell_type": "markdown",
   "metadata": {},
   "source": [
    "## Clase StandardScaler.\n",
    "\n",
    "El paquete preprocessing igualmente tiene una clase de utilidad muy interesante para realizar este tipo de tareas. Esta clase se denomina ** StandardScaler ** que permite calcular la media y desviación típica de los datos, para posteriormente hacer transformaciones de los mismos. Veamos a continuación un pequeño ejemplo sobre su uso.  "
   ]
  },
  {
   "cell_type": "code",
   "execution_count": 5,
   "metadata": {
    "collapsed": false
   },
   "outputs": [
    {
     "name": "stdout",
     "output_type": "stream",
     "text": [
      "StandardScaler(copy=True, with_mean=True, with_std=True)\n",
      "La media de las columnas es:  [1.         0.         0.33333333]\n",
      "La desviación típca de las columnas es:  [0.81649658 0.81649658 1.24721913] \n",
      "\n",
      "Ahora estadarizamos los datos por columnas\n"
     ]
    },
    {
     "data": {
      "text/plain": [
       "array([[ 0.        , -1.22474487,  1.33630621],\n",
       "       [ 1.22474487,  0.        , -0.26726124],\n",
       "       [-1.22474487,  1.22474487, -1.06904497]])"
      ]
     },
     "execution_count": 5,
     "metadata": {},
     "output_type": "execute_result"
    }
   ],
   "source": [
    "scaler = preprocessing.StandardScaler().fit(X_train)\n",
    "print(scaler)\n",
    "print(\"La media de las columnas es: \",scaler.mean_ )\n",
    "print(\"La desviación típca de las columnas es: \", scaler.scale_,\"\\n\" )\n",
    "\n",
    "print(\"Ahora estadarizamos los datos por columnas\")\n",
    "scaler.transform(X_train) "
   ]
  },
  {
   "cell_type": "markdown",
   "metadata": {},
   "source": [
    "Si tuvieramos los datos distribuidos es datos para el entrenamiento (data_train) y para el chequeo del modelo (data_test), si tificamos los datos de entrenamiento como se ha hecho anteriormente, también habría que hacerlo para los datos de chequeo y ese trabajo se haría de la siguiente manera:  "
   ]
  },
  {
   "cell_type": "code",
   "execution_count": 6,
   "metadata": {
    "collapsed": false
   },
   "outputs": [
    {
     "data": {
      "text/plain": [
       "array([[-2.44948974,  1.22474487, -0.26726124]])"
      ]
     },
     "execution_count": 6,
     "metadata": {},
     "output_type": "execute_result"
    }
   ],
   "source": [
    "X_test = [[-1., 1., 0.]]\n",
    "X_test_transform=scaler.transform(X_test)\n",
    "X_test_transform"
   ]
  },
  {
   "cell_type": "markdown",
   "metadata": {},
   "source": [
    "Si una vez finalizado el proceso queremos deshacer las transformaciones que se han hecho de los datos, se haría de la siguiente manera:"
   ]
  },
  {
   "cell_type": "code",
   "execution_count": 7,
   "metadata": {
    "collapsed": false
   },
   "outputs": [
    {
     "data": {
      "text/plain": [
       "array([[-1.,  1.,  0.]])"
      ]
     },
     "execution_count": 7,
     "metadata": {},
     "output_type": "execute_result"
    }
   ],
   "source": [
    "X_test_init=scaler.inverse_transform(X_test_transform)\n",
    "X_test_init"
   ]
  },
  {
   "cell_type": "markdown",
   "metadata": {},
   "source": [
    "# Escalando features dentro de un rango.\n",
    "\n",
    "Una alternativa al proceso de estandarización que se ha visto en el apartado anterior consiste en escalar las variables dentro de un determinado rango de valores ( normalmente entre cero y uno ). Para realizar esta transformación scikit Learn ofrece dos clases súmamente practicas: **MinMaxScaler y MaxAbsScaler **.\n",
    "\n",
    "A continuación se muestra un ejemplo con la finalidad de clarificar su utilización:"
   ]
  },
  {
   "cell_type": "code",
   "execution_count": 8,
   "metadata": {
    "collapsed": false
   },
   "outputs": [
    {
     "data": {
      "text/plain": [
       "array([[0.5       , 0.        , 1.        ],\n",
       "       [1.        , 0.5       , 0.33333333],\n",
       "       [0.        , 1.        , 0.        ]])"
      ]
     },
     "execution_count": 8,
     "metadata": {},
     "output_type": "execute_result"
    }
   ],
   "source": [
    "X_train = np.array([[ 1., -1.,  2.],\n",
    "                    [ 2.,  0.,  0.],\n",
    "                    [ 0.,  1., -1.]])\n",
    "\n",
    "min_max_scaler = preprocessing.MinMaxScaler()  #Generamos una instancia de la clase\n",
    "X_train_minmax = min_max_scaler.fit_transform(X_train) #Se realiza la transformación\n",
    "X_train_minmax"
   ]
  },
  {
   "cell_type": "markdown",
   "metadata": {},
   "source": [
    "Si se tuvieran datos \"train\" para el entrenamiento y \"test\" para la evaluación del modelo, estos últimos también habría que trasformarlos, para ello se haría el siguiente proceso. "
   ]
  },
  {
   "cell_type": "code",
   "execution_count": 9,
   "metadata": {
    "collapsed": false
   },
   "outputs": [
    {
     "data": {
      "text/plain": [
       "array([[-1.5       ,  0.        ,  1.66666667]])"
      ]
     },
     "execution_count": 9,
     "metadata": {},
     "output_type": "execute_result"
    }
   ],
   "source": [
    "X_test = np.array([[ -3., -1.,  4.]])\n",
    "X_test_minmax = min_max_scaler.transform(X_test)\n",
    "X_test_minmax"
   ]
  },
  {
   "cell_type": "markdown",
   "metadata": {},
   "source": [
    "Si por ejemplo quisiéramos hacer un escalado entre cero y tres, el mismo se haría con la siguiente instrucción."
   ]
  },
  {
   "cell_type": "code",
   "execution_count": 10,
   "metadata": {
    "collapsed": false
   },
   "outputs": [
    {
     "data": {
      "text/plain": [
       "array([[1.5, 0. , 3. ],\n",
       "       [3. , 1.5, 1. ],\n",
       "       [0. , 3. , 0. ]])"
      ]
     },
     "execution_count": 10,
     "metadata": {},
     "output_type": "execute_result"
    }
   ],
   "source": [
    "min_max_scaler_0_3 = preprocessing.MinMaxScaler(feature_range=(0,3))\n",
    "X_train_minmax_0_3 = min_max_scaler_0_3.fit_transform(X_train) #Se realiza la transformación\n",
    "X_train_minmax_0_3"
   ]
  },
  {
   "cell_type": "markdown",
   "metadata": {},
   "source": [
    "Si queremos recuperar los valores orginales de la la última transformación, lo haríamos de la siguiente manera."
   ]
  },
  {
   "cell_type": "code",
   "execution_count": 11,
   "metadata": {
    "collapsed": false
   },
   "outputs": [
    {
     "data": {
      "text/plain": [
       "array([[ 1., -1.,  2.],\n",
       "       [ 2.,  0.,  0.],\n",
       "       [ 0.,  1., -1.]])"
      ]
     },
     "execution_count": 11,
     "metadata": {},
     "output_type": "execute_result"
    }
   ],
   "source": [
    "min_max_scaler_0_3.inverse_transform(X_train_minmax_0_3)"
   ]
  },
  {
   "cell_type": "markdown",
   "metadata": {},
   "source": [
    "# Transformaciones no lineales.\n",
    "\n",
    "Este procedimiento consiste en otra forma diferente de transformar los datos para adaptarlos a las necesidades del procesamiento que en cada momento se necesite.\n",
    "\n",
    "Pra hacer este tipo de transformaciones scikit learn dispone de dos clases: QuantileTransformer y quantile_transform. En ambos casos, la salida de la transformación va a seguir una distribución uniforme o normal.\n",
    "\n",
    "En el caso de que la salida sea una distribución normal ( que es la opción por defecto ) hay que tener en cuenta que el valor de la variable va a coincidir con el precentil que indica su valor. Veamos esto con un ejemplo."
   ]
  },
  {
   "cell_type": "code",
   "execution_count": 12,
   "metadata": {
    "collapsed": false
   },
   "outputs": [
    {
     "data": {
      "text/plain": [
       "array([4.3, 5.1, 5.8, 6.5, 7.9])"
      ]
     },
     "execution_count": 12,
     "metadata": {},
     "output_type": "execute_result"
    }
   ],
   "source": [
    "from sklearn import preprocessing\n",
    "from sklearn.datasets import load_iris\n",
    "from sklearn.model_selection import train_test_split\n",
    "iris = load_iris()  #Cargo el fichero con los datos\n",
    "X, y = iris.data, iris.target #Cargos los datos y la respuesta ( o target)\n",
    "X_train, X_test, y_train, y_test = train_test_split(X, y, random_state=0) #Divido los datos en train y test\n",
    "quantile_transformer = preprocessing.QuantileTransformer(random_state=0) #Genero una instancia de QuantileTransformer\n",
    "X_train_trans = quantile_transformer.fit_transform(X_train) #Obtengo los datos ajustados\n",
    "X_test_trans = quantile_transformer.transform(X_test)\n",
    "np.percentile(X_train[:, 0], [0, 25, 50, 75, 100])  "
   ]
  },
  {
   "cell_type": "markdown",
   "metadata": {},
   "source": [
    "** Nota** : El código anterior debe ejecutarse con al menos la versión 0.19 de scikit learn, con versión 0.18 genera error, pues no conoce las clases QuantileTransformer y quantile_transform."
   ]
  },
  {
   "cell_type": "markdown",
   "metadata": {},
   "source": [
    "Como puede verse en el código anterior, los percentiles 0, 25, 50, 75 y 100 para los valores de X_train sin transformar se encuentrar en los valores 4.3, 5.1, 5.8, 6.5 y 7.9 respectivamente. \n",
    "\n",
    "Sin embargo si utilizamos los datos transformados, entonces los valores de la variable coincide con el precentil correspondiente. Veamos esto con el siguiente código."
   ]
  },
  {
   "cell_type": "code",
   "execution_count": 13,
   "metadata": {
    "collapsed": false
   },
   "outputs": [
    {
     "data": {
      "text/plain": [
       "array([9.99999998e-08, 2.38738739e-01, 5.09009009e-01, 7.43243243e-01,\n",
       "       9.99999900e-01])"
      ]
     },
     "execution_count": 13,
     "metadata": {},
     "output_type": "execute_result"
    }
   ],
   "source": [
    "np.percentile(X_train_trans[:, 0], [0, 25, 50, 75, 100])"
   ]
  },
  {
   "cell_type": "markdown",
   "metadata": {},
   "source": [
    "Como podemos ver el percentil cero coincide con el valor cero de la variable, el percentil 25 con el valor 0,25 de la variables...y así para el resto de los percentiles.\n",
    "\n",
    "Vamos a confirmar además que estos valores de los percentiles aproximadamente son los mismos para los valores de test."
   ]
  },
  {
   "cell_type": "code",
   "execution_count": 14,
   "metadata": {
    "collapsed": false
   },
   "outputs": [
    {
     "name": "stdout",
     "output_type": "stream",
     "text": [
      "[4.4   5.125 5.75  6.175 7.3  ] \n",
      "\n"
     ]
    },
    {
     "data": {
      "text/plain": [
       "array([0.01351351, 0.25012513, 0.47972973, 0.6021021 , 0.94144144])"
      ]
     },
     "execution_count": 14,
     "metadata": {},
     "output_type": "execute_result"
    }
   ],
   "source": [
    "print(np.percentile(X_test[:, 0], [0, 25, 50, 75, 100]),\"\\n\")\n",
    "\n",
    "\n",
    "np.percentile(X_test_trans[:, 0], [0, 25, 50, 75, 100])"
   ]
  },
  {
   "cell_type": "markdown",
   "metadata": {},
   "source": [
    "En el caso de que se quiera hacer una trasformación a datos de una normal, se haría con el siguiente código:"
   ]
  },
  {
   "cell_type": "code",
   "execution_count": 15,
   "metadata": {
    "collapsed": false
   },
   "outputs": [
    {
     "data": {
      "text/plain": [
       "array([[4.3       , 2.        , 1.        , 0.1       ],\n",
       "       [4.31491491, 2.02982983, 1.01491491, 0.1       ],\n",
       "       [4.32982983, 2.05965966, 1.02982983, 0.1       ],\n",
       "       ...,\n",
       "       [7.84034034, 4.34034034, 6.84034034, 2.5       ],\n",
       "       [7.87017017, 4.37017017, 6.87017017, 2.5       ],\n",
       "       [7.9       , 4.4       , 6.9       , 2.5       ]])"
      ]
     },
     "execution_count": 15,
     "metadata": {},
     "output_type": "execute_result"
    }
   ],
   "source": [
    "quantile_transformer = preprocessing.QuantileTransformer(\n",
    "    output_distribution='normal', random_state=0)  #Aqui se indica que se desea una salida a una normal\n",
    "X_trans = quantile_transformer.fit_transform(X)\n",
    "quantile_transformer.quantiles_ "
   ]
  },
  {
   "cell_type": "markdown",
   "metadata": {},
   "source": [
    "# Normalización.\n",
    "\n",
    "El proceso de consiste en escalar los datos iniciales para conseguir que tengan una disribución uniforme. Este tipo de procedimientos es la base de [Vector Space Model](https://en.wikipedia.org/wiki/Vector_space_model), y es muy utilizado en clasificación de texto y en la obtención de clusters.\n",
    "\n",
    "Se utiliza la función *normalize* para ello y se pude usar la norma l1 o la norma l2. Veamos un ejemplo."
   ]
  },
  {
   "cell_type": "code",
   "execution_count": 16,
   "metadata": {
    "collapsed": false
   },
   "outputs": [
    {
     "data": {
      "text/plain": [
       "array([[ 0.40824829, -0.40824829,  0.81649658],\n",
       "       [ 1.        ,  0.        ,  0.        ],\n",
       "       [ 0.        ,  0.70710678, -0.70710678]])"
      ]
     },
     "execution_count": 16,
     "metadata": {},
     "output_type": "execute_result"
    }
   ],
   "source": [
    "X = [[ 1., -1.,  2.],\n",
    "     [ 2.,  0.,  0.],\n",
    "     [ 0.,  1., -1.]]\n",
    "X_normalized = preprocessing.normalize(X, norm='l2')\n",
    "\n",
    "X_normalized   "
   ]
  },
  {
   "cell_type": "markdown",
   "metadata": {},
   "source": [
    "Un proceso similar al anterior se puede conseguir utilizando la clase *Normalize* del paquete preprocessing."
   ]
  },
  {
   "cell_type": "markdown",
   "metadata": {},
   "source": [
    "# Binarización\n",
    "\n",
    "Con este proceso se va a hacer una transformación de la variables original en otra que solo posee los valores cero o uno ( es decir una variable de Bernuilli). Como valor por defecto para discriminar y asignar un valor cero o uno se toma el valor de cero. De esta forma los valores negativos de la variable original se les transforma aun valor cero y el resto tomarán un valor de 1. Si se quiere modificar el valor de corte ( es decir el cero asignado por defecto), se utilizará el parámetro \"threshold\".\n",
    "A continuación se pone un ejemplo sobre este tipo de transformación:"
   ]
  },
  {
   "cell_type": "code",
   "execution_count": 17,
   "metadata": {
    "collapsed": false
   },
   "outputs": [
    {
     "name": "stdout",
     "output_type": "stream",
     "text": [
      "Binarizer(copy=True, threshold=0.0)\n"
     ]
    },
    {
     "data": {
      "text/plain": [
       "array([[1., 0., 1.],\n",
       "       [1., 0., 0.],\n",
       "       [0., 1., 0.]])"
      ]
     },
     "execution_count": 17,
     "metadata": {},
     "output_type": "execute_result"
    }
   ],
   "source": [
    "X = [[ 1., -1.,  2.],\n",
    "     [ 2.,  0.,  0.],\n",
    "     [ 0.,  1., -1.]]\n",
    "\n",
    "binarizer = preprocessing.Binarizer().fit(X)  # fit does nothing\n",
    "print(binarizer)\n",
    "\n",
    "\n",
    "binarizer.transform(X)"
   ]
  },
  {
   "cell_type": "markdown",
   "metadata": {},
   "source": [
    "En el siguiente ejemplo cambiamos el valor de corte y en lugar de cero se le asigna 1."
   ]
  },
  {
   "cell_type": "code",
   "execution_count": 18,
   "metadata": {
    "collapsed": false
   },
   "outputs": [
    {
     "name": "stdout",
     "output_type": "stream",
     "text": [
      "Binarizer(copy=True, threshold=1.0)\n"
     ]
    },
    {
     "data": {
      "text/plain": [
       "array([[0., 0., 1.],\n",
       "       [1., 0., 0.],\n",
       "       [0., 0., 0.]])"
      ]
     },
     "execution_count": 18,
     "metadata": {},
     "output_type": "execute_result"
    }
   ],
   "source": [
    "binarizer2 = preprocessing.Binarizer(threshold=1.0).fit(X)  # fit does nothing\n",
    "print(binarizer2)\n",
    "\n",
    "\n",
    "binarizer2.transform(X)"
   ]
  },
  {
   "cell_type": "markdown",
   "metadata": {},
   "source": [
    "**Nota:** La función *binarize* facilita resultados similares, a los vistos anteriormente."
   ]
  },
  {
   "cell_type": "markdown",
   "metadata": {},
   "source": [
    "# Codificando variables alfanuméricas\n",
    "\n",
    "En ocasiones las variables tomadas están codificadas con términos alfabéticos, por ejemplo si tomamos la variables sexo, la misma  puede venir en nuestro fichero de datos codificada con valores \"V\" para varones y \"M\" para mujeres. Estos valores deben ser convertidos a números para que sus valores puedan ser utilizados dentro de los procedimientos de machine learning empleados por scikit learning. En el siguiente apartado se muestra cómo poder conseguir esto utilizando numpy, o bien pandas.\n",
    "\n",
    "Lo primero que hacemos es importar estas importantes librerías para trabajar con python"
   ]
  },
  {
   "cell_type": "code",
   "execution_count": 19,
   "metadata": {
    "collapsed": true
   },
   "outputs": [],
   "source": [
    "import numpy as np\n",
    "import pandas as pd"
   ]
  },
  {
   "cell_type": "markdown",
   "metadata": {},
   "source": [
    "Después se procede a mostrar como obtener los resultados que se desean. En primer lugar se hará con scikit learn."
   ]
  },
  {
   "cell_type": "code",
   "execution_count": 20,
   "metadata": {
    "collapsed": false
   },
   "outputs": [
    {
     "name": "stdout",
     "output_type": "stream",
     "text": [
      "LabelEncoder()\n",
      "[0 1 2 0 1 2] \n",
      "\n",
      "['a' 'b' 'c']\n"
     ]
    }
   ],
   "source": [
    "from sklearn import preprocessing\n",
    "a = np.array( ['a', 'b', 'c', 'a', 'b', 'c'])\n",
    "le = preprocessing.LabelEncoder()\n",
    "print(le.fit(a))\n",
    "print(le.fit_transform(a),\"\\n\")\n",
    "print(le.classes_)"
   ]
  },
  {
   "cell_type": "markdown",
   "metadata": {},
   "source": [
    "A continuación se hará con Pandas"
   ]
  },
  {
   "cell_type": "code",
   "execution_count": 21,
   "metadata": {
    "collapsed": false
   },
   "outputs": [
    {
     "name": "stdout",
     "output_type": "stream",
     "text": [
      "La codificación de esos valores sería la siguiente:\n",
      "[0 1 2 0 1 2]\n",
      "Lo valores alfabéticos a los que se refieren se obtienen de la siguiene manera:\n",
      "['a' 'b' 'c']\n"
     ]
    }
   ],
   "source": [
    "a = np.array(['a', 'b', 'c', 'a', 'b', 'c'])\n",
    "a_enc = pd.factorize(a)\n",
    "print(\"La codificación de esos valores sería la siguiente:\")\n",
    "print(a_enc[0])\n",
    "print(\"Lo valores alfabéticos a los que se refieren se obtienen de la siguiene manera:\")\n",
    "print(a_enc[1])"
   ]
  },
  {
   "cell_type": "markdown",
   "metadata": {},
   "source": [
    "Otra manera de codificar este tipo de variable es pasando a variables de tipo dummys, es decir que está representandas sólo por ceros o unos. Para hacer esto se utiliza la propiedad get_dummies de pandas. "
   ]
  },
  {
   "cell_type": "code",
   "execution_count": 22,
   "metadata": {
    "collapsed": false
   },
   "outputs": [
    {
     "name": "stdout",
     "output_type": "stream",
     "text": [
      "   a  b  c\n",
      "0  1  0  0\n",
      "1  0  1  0\n",
      "2  0  0  1\n",
      "3  1  0  0\n",
      "4  0  1  0\n",
      "5  0  0  1\n"
     ]
    }
   ],
   "source": [
    "a = np.array(['a', 'b', 'c', 'a', 'b', 'c'])\n",
    "b = pd.get_dummies(a)\n",
    "print(b) # vemos que el primer valor queda codificado como 1 0 0; el segundo como 0 1 0 etc"
   ]
  },
  {
   "cell_type": "markdown",
   "metadata": {},
   "source": [
    "Si queremos una codificación de tipo [0 1 2...] se hará de la siguiente manera:"
   ]
  },
  {
   "cell_type": "code",
   "execution_count": 23,
   "metadata": {
    "collapsed": false
   },
   "outputs": [
    {
     "data": {
      "text/plain": [
       "array([0, 1, 2, 0, 1, 2], dtype=int64)"
      ]
     },
     "execution_count": 23,
     "metadata": {},
     "output_type": "execute_result"
    }
   ],
   "source": [
    "b.values.argmax(1)"
   ]
  },
  {
   "cell_type": "markdown",
   "metadata": {
    "collapsed": true
   },
   "source": [
    "# Codificando variables categóricas.\n",
    "\n",
    "En el apartado anterior, ya hemos visto cómo asignar valores numéricos a variables que están codificadas con literales. En el ejemplo anterior, tratábamos valores de \"V\" y \"M\", que pasaban a tener valores 0 ó 1. Si una variable categórica tuviera mayor número de categorias entonces el número de dígitos sería también mayor.\n",
    "\n",
    "Ahora que las variables categóricas ya están codificadas con datos numéricos, perfectamente estos vaolres podrían entrar a formar parte de las estrategias que utiliza scikit learn para construir los diferentes modelos, ahora bien hay que tener en cuenta que este tipo de codificación ( 1,2,3,.. por ejemplo) implica una escala de valores que en principio no tiene ningún sentido.\n",
    "\n",
    "Entonces para evitar este tipo de problemas y asignar a todos los valores posibles de una variable categórica el mismo valor, se emplea en estadística las denominadas *variables dummy* integradas por valores de cero o uno. La estrategia es la siguiente: Se construyen tantas nuevas variables como como diferentes valores pudiera tener la variable categórica, y entonces para una determinada observación se asigna cero a todas estas nevas variable salvo a una que se le asigna un uno y es la columna que representa la categoría que se tiene para esa determinada observación. Veamos esto con un ejemplo.\n",
    "\n",
    "Supongamos que tenemos una variable denominada \"sexo\". Sería una variable categórica con valores por ejemplo 1 y 2. Como la variable sexo tiene dos categorías, se construirian dos nuevas variables, llamadas por ejemplo sexo_1 y sexo_2. Entonoces la codificación en las nuevas variables se muestra en los siguientes ejemplos:\n",
    "\n",
    "\n",
    "| Sexo | Sexo_1 | Sexo_2 |\n",
    "|------|--------|--------|\n",
    "|   1  |    1   |    0   |\n",
    "|   2  |    0   |    1   |\n",
    "|   2  |    0   |    1   |\n",
    "|   1  |    1   |    0   |\n",
    "|   1  |    1   |    0   |\n",
    "|   2  |    0   |    1   |\n",
    "\n",
    "Para realizar todo este tipo de procesamientos, el paquete preprocesing dispone de la clase *OneHotEncoder*, que de una forma fácil genera este tipo de variables dummy.\n",
    "\n",
    "Veamos a continuación un ejemplo."
   ]
  },
  {
   "cell_type": "code",
   "execution_count": 29,
   "metadata": {
    "collapsed": false
   },
   "outputs": [
    {
     "name": "stdout",
     "output_type": "stream",
     "text": [
      "[[0 0 3]\n",
      " [1 1 0]\n",
      " [0 2 1]\n",
      " [1 0 2]]\n",
      "\n",
      "\n",
      "OneHotEncoder(categorical_features='all', dtype=<class 'numpy.float64'>,\n",
      "       handle_unknown='error', n_values='auto', sparse=True) \n",
      "\n",
      "número de categorías para cada columna ( o feature o variable):  [2 3 4]\n",
      "índice o columna a partir del cual se coloca la codificación dummy obtenida:  [0 2 5 9]\n",
      "Salida para [0,1,1]-->  [[1. 0. 0. 1. 0. 0. 1. 0. 0.]]\n"
     ]
    }
   ],
   "source": [
    "from sklearn.preprocessing import OneHotEncoder\n",
    "enc = OneHotEncoder()\n",
    "print(np.array([[0, 0, 3], [1, 1, 0], [0, 2, 1], [1, 0, 2]]))\n",
    "print(\"\\n\")\n",
    "print(enc.fit([[0, 0, 3], [1, 1, 0], [0, 2, 1], [1, 0, 2]]),\"\\n\")  \n",
    "\n",
    "\n",
    "print(\"número de categorías para cada columna ( o feature o variable): \",enc.n_values_)  #número de categorías para cada columna ( o feature o variable)\n",
    "\n",
    "print(\"índice o columna a partir del cual se coloca la codificación dummy obtenida: \",enc.feature_indices_) #índice o columna a partir del cual se coloca la codificación dummy obtenida\n",
    "\n",
    "print(\"Salida para [0,1,1]--> \", enc.transform([[0, 1, 1]]).toarray())"
   ]
  },
  {
   "cell_type": "markdown",
   "metadata": {},
   "source": [
    "En la salida anterior, se puede ver que la columna 1 tiene dos categorías, la columna 2 tiene 3 y la columna 3,  4 categoría ( es el array de salida [2 3 4]). \n",
    "\n",
    "El array de salida [0 2 5 9], indica que al codificar un vector de estas características, las posiciones 0 y 1 ( recordar que en numpy los índices cominezan con cero) son para codificar el primera variable, las posiciones 2,3,4 son para la segunda varible..., etc. \n",
    "\n",
    "Ahora ya se puede interpretar el vector de salidad [[1., 0., 0., 1., 0., 0., 1., 0., 0.]], pues las dos primeras columnas se corresponden con la codificación de la primera Variable ( 0 se codifica como 1 0), las posiciones 2, 3 y 4 son para la codificación del valor de la segunda variable ( 1 se codifica como 0 1 0 ) y el resto de posiciones son para codificar el valor de la tercera variable ( 1 se codifica como 0 1 0 0). \n",
    "\n",
    "## Codificando con pandas.\n",
    "\n",
    "El paquete pandas tiene una opción también para transformar variables categóricas en variables de tipo dummy, la sentencia a utilizar sería similar a la siguiente:\n",
    "\n",
    "*df_with_dummies = pd.get_dummies( df, columns = cols_to_transform )*\n",
    "\n",
    "A continuación se muestra un sencillo ejemplo."
   ]
  },
  {
   "cell_type": "code",
   "execution_count": 6,
   "metadata": {
    "collapsed": false
   },
   "outputs": [
    {
     "name": "stdout",
     "output_type": "stream",
     "text": [
      "   A  B  C\n",
      "0  a  c  1\n",
      "1  b  c  2\n",
      "2  a  b  3 \n",
      "\n",
      "   C  A_a  A_b  B_b  B_c\n",
      "0  1    1    0    0    1\n",
      "1  2    0    1    0    1\n",
      "2  3    1    0    1    0 \n",
      "\n",
      "   B  C  A_a  A_b\n",
      "0  c  1    1    0\n",
      "1  c  2    0    1\n",
      "2  b  3    1    0\n"
     ]
    }
   ],
   "source": [
    "import pandas as pd\n",
    "df = pd.DataFrame({'A': ['a', 'b', 'a'], 'B': ['c', 'c', 'b'],\n",
    "                 'C': [1, 2, 3]})\n",
    "print(df,\"\\n\")\n",
    "\n",
    "print(pd.get_dummies(df),\"\\n\")\n",
    "\n",
    "print(pd.get_dummies(df,columns='A') )"
   ]
  },
  {
   "cell_type": "markdown",
   "metadata": {},
   "source": [
    "# Imputando valores faltantes.\n",
    "\n",
    "Por regla general, cuando se trabaja con un fichero de datos, siempres existen imperfecciones en los mismo de todo tipo. Un caso muy frecuente es la falta de valor en algunas observaciones, estos valores faltantes, quedan codificado en numpy como np.nan.\n",
    "\n",
    "Esta falta de valor origina serios problemas en la construcción de modelo si previamente no se ha procedido a su imputación. Son muchos los métodos existentes en la actualidad para proceder a la imputación de los valores omitidos, y scikit learn ofrece la lases *Imputer* para ccorregir esta deficiencia de los datos originales.\n",
    "\n",
    "En ejemplo que sigue se ha procedido a imputar la media para los valores faltantes. Veamos el ejemplo."
   ]
  },
  {
   "cell_type": "code",
   "execution_count": 30,
   "metadata": {
    "collapsed": false
   },
   "outputs": [
    {
     "name": "stdout",
     "output_type": "stream",
     "text": [
      "[[4.         2.        ]\n",
      " [6.         3.66666667]\n",
      " [7.         6.        ]]\n"
     ]
    }
   ],
   "source": [
    "import numpy as np\n",
    "from sklearn.preprocessing import Imputer\n",
    "imp = Imputer(missing_values='NaN', strategy='mean', axis=0)\n",
    "imp.fit([[1, 2], [np.nan, 3], [7, 6]])\n",
    "\n",
    "X = [[np.nan, 2], [6, np.nan], [7, 6]]\n",
    "print(imp.transform(X))    "
   ]
  },
  {
   "cell_type": "markdown",
   "metadata": {},
   "source": [
    "# Generando features tipo polinomio\n",
    "\n",
    "En ocasiones, es necesario añadir algun tipo de complejidad al modelo, y para ello, lo que se suele hacer es calcular valores nuevos de las variables, mediante funciones polinómicas. Para facilitar esta labor, se dispone de la clase PolynomialFeatures, cuyo funcionamiento se puede observar en el siguiente ejemplo:"
   ]
  },
  {
   "cell_type": "code",
   "execution_count": 31,
   "metadata": {
    "collapsed": false
   },
   "outputs": [
    {
     "name": "stdout",
     "output_type": "stream",
     "text": [
      "[[0 1]\n",
      " [2 3]\n",
      " [4 5]] \n",
      "\n"
     ]
    },
    {
     "data": {
      "text/plain": [
       "array([[ 1.,  0.,  1.,  0.,  0.,  1.],\n",
       "       [ 1.,  2.,  3.,  4.,  6.,  9.],\n",
       "       [ 1.,  4.,  5., 16., 20., 25.]])"
      ]
     },
     "execution_count": 31,
     "metadata": {},
     "output_type": "execute_result"
    }
   ],
   "source": [
    "import numpy as np\n",
    "from sklearn.preprocessing import PolynomialFeatures\n",
    "X = np.arange(6).reshape(3, 2)\n",
    "print(X,\"\\n\")                                                 \n",
    "\n",
    "\n",
    "\n",
    "poly = PolynomialFeatures(2)\n",
    "poly.fit_transform(X)  "
   ]
  },
  {
   "cell_type": "markdown",
   "metadata": {},
   "source": [
    "En el anterior ejemplo, las features iniciales $(X_1,X_2)$, se transforman en $(1,X_1,X_2,X_1^2,X_1*X_2,X_2^2)$.\n",
    "\n",
    "Si sólo se quiere trabajar con la iteración entre las features, se puede indicar con el parámetro \"interaction_onlu=True\". Veamos un ejemplo sobre este caso."
   ]
  },
  {
   "cell_type": "code",
   "execution_count": 32,
   "metadata": {
    "collapsed": false
   },
   "outputs": [
    {
     "name": "stdout",
     "output_type": "stream",
     "text": [
      "[[0 1 2]\n",
      " [3 4 5]\n",
      " [6 7 8]] \n",
      "\n"
     ]
    },
    {
     "data": {
      "text/plain": [
       "array([[  1.,   0.,   1.,   2.,   0.,   0.,   2.,   0.],\n",
       "       [  1.,   3.,   4.,   5.,  12.,  15.,  20.,  60.],\n",
       "       [  1.,   6.,   7.,   8.,  42.,  48.,  56., 336.]])"
      ]
     },
     "execution_count": 32,
     "metadata": {},
     "output_type": "execute_result"
    }
   ],
   "source": [
    "X = np.arange(9).reshape(3, 3)\n",
    "print(X,\"\\n\")                                                \n",
    "\n",
    "poly = PolynomialFeatures(degree=3, interaction_only=True)\n",
    "poly.fit_transform(X)                             \n"
   ]
  },
  {
   "cell_type": "markdown",
   "metadata": {},
   "source": [
    "En este caso las variables $(X_1,X_2,X_3)$ se trasforman en $(1,X_1,X_2,X_3,X_1X_2,X_1X_3,X_2X_3,X_1X_2X_3)$"
   ]
  },
  {
   "cell_type": "markdown",
   "metadata": {},
   "source": [
    "# Transformaciones a medida.\n",
    "\n",
    "Por último y ya para terminar ese apartado, el paquete preprocessing, tiene la función *FunctioTransformer* que permite modificar los valores iniciales con las funciones que en cada momento puedan ser necesarias. A continuación se muestra un ejemplo sobre su uso. "
   ]
  },
  {
   "cell_type": "code",
   "execution_count": 33,
   "metadata": {
    "collapsed": false
   },
   "outputs": [
    {
     "data": {
      "text/plain": [
       "array([[0.        , 0.69314718],\n",
       "       [1.09861229, 1.38629436]])"
      ]
     },
     "execution_count": 33,
     "metadata": {},
     "output_type": "execute_result"
    }
   ],
   "source": [
    "import numpy as np\n",
    "from sklearn.preprocessing import FunctionTransformer\n",
    "transformer = FunctionTransformer(np.log1p) #Utiliza la función log1p para transformar todos los datos\n",
    "X = np.array([[0, 1], [2, 3]])\n",
    "transformer.transform(X)"
   ]
  },
  {
   "cell_type": "markdown",
   "metadata": {},
   "source": [
    "Comprobemos la transformación."
   ]
  },
  {
   "cell_type": "code",
   "execution_count": 36,
   "metadata": {
    "collapsed": false
   },
   "outputs": [
    {
     "name": "stdout",
     "output_type": "stream",
     "text": [
      "0.0 \n",
      "\n",
      "0.6931471805599453 \n",
      "\n",
      "1.0986122886681098 \n",
      "\n",
      "1.3862943611198906 \n",
      "\n"
     ]
    }
   ],
   "source": [
    "print(np.log1p(X[0,0]),\"\\n\")\n",
    "print(np.log1p(X[0,1]),\"\\n\")\n",
    "print(np.log1p(X[1,0]),\"\\n\")\n",
    "print(np.log1p(X[1,1]),\"\\n\")"
   ]
  },
  {
   "cell_type": "markdown",
   "metadata": {},
   "source": [
    "En el siguiente ejemplo, se muestra un ejemplo mucho más elaborado sobre la transformación de los datos con numpy y scikit learn."
   ]
  },
  {
   "cell_type": "code",
   "execution_count": 37,
   "metadata": {
    "collapsed": false
   },
   "outputs": [
    {
     "data": {
      "image/png": "[encoded data removed]",
      "text/plain": [
       "<Figure size 432x288 with 1 Axes>"
      ]
     },
     "metadata": {},
     "output_type": "display_data"
    },
    {
     "data": {
      "image/png": "[encoded data removed]",
      "text/plain": [
       "<Figure size 432x288 with 1 Axes>"
      ]
     },
     "metadata": {},
     "output_type": "display_data"
    }
   ],
   "source": [
    "import matplotlib.pyplot as plt\n",
    "import numpy as np\n",
    "\n",
    "from sklearn.model_selection import train_test_split\n",
    "from sklearn.decomposition import PCA\n",
    "from sklearn.pipeline import make_pipeline\n",
    "from sklearn.preprocessing import FunctionTransformer\n",
    "\n",
    "\n",
    "def _generate_vector(shift=0.5, noise=15):\n",
    "    return np.arange(1000) + (np.random.rand(1000) - shift) * noise\n",
    "\n",
    "\n",
    "def generate_dataset():\n",
    "    \"\"\"\n",
    "    This dataset is two lines with a slope ~ 1, where one has\n",
    "    a y offset of ~100\n",
    "    \"\"\"\n",
    "    return np.vstack((\n",
    "        np.vstack((\n",
    "            _generate_vector(),\n",
    "            _generate_vector() + 100,\n",
    "        )).T,\n",
    "        np.vstack((\n",
    "            _generate_vector(),\n",
    "            _generate_vector(),\n",
    "        )).T,\n",
    "    )), np.hstack((np.zeros(1000), np.ones(1000)))\n",
    "\n",
    "\n",
    "def all_but_first_column(X):\n",
    "    return X[:, 1:]\n",
    "\n",
    "\n",
    "def drop_first_component(X, y):\n",
    "    \"\"\"\n",
    "    Create a pipeline with PCA and the column selector and use it to\n",
    "    transform the dataset.\n",
    "    \"\"\"\n",
    "    pipeline = make_pipeline(\n",
    "        PCA(), FunctionTransformer(all_but_first_column),\n",
    "    )\n",
    "    X_train, X_test, y_train, y_test = train_test_split(X, y)\n",
    "    pipeline.fit(X_train, y_train)\n",
    "    return pipeline.transform(X_test), y_test\n",
    "\n",
    "\n",
    "if __name__ == '__main__':\n",
    "    X, y = generate_dataset()\n",
    "    lw = 0\n",
    "    plt.figure()\n",
    "    plt.scatter(X[:, 0], X[:, 1], c=y, lw=lw)\n",
    "    plt.figure()\n",
    "    X_transformed, y_transformed = drop_first_component(*generate_dataset())\n",
    "    plt.scatter(\n",
    "        X_transformed[:, 0],\n",
    "        np.zeros(len(X_transformed)),\n",
    "        c=y_transformed,\n",
    "        lw=lw,\n",
    "        s=60\n",
    "    )\n",
    "    plt.show()"
   ]
  },
  {
   "cell_type": "code",
   "execution_count": null,
   "metadata": {
    "collapsed": true
   },
   "outputs": [],
   "source": []
  }
 ],
 "metadata": {
  "kernelspec": {
   "display_name": "Python 3",
   "language": "python",
   "name": "python3"
  },
  "language_info": {
   "codemirror_mode": {
    "name": "ipython",
    "version": 3
   },
   "file_extension": ".py",
   "mimetype": "text/x-python",
   "name": "python",
   "nbconvert_exporter": "python",
   "pygments_lexer": "ipython3",
   "version": "3.6.0"
  },
  "toc": {
   "base_numbering": 1,
   "nav_menu": {},
   "number_sections": true,
   "sideBar": true,
   "skip_h1_title": false,
   "title_cell": "Tabla de contenidos",
   "title_sidebar": "Contenidos",
   "toc_cell": true,
   "toc_position": {
    "height": "calc(100% - 180px)",
    "left": "10px",
    "top": "150px",
    "width": "237px"
   },
   "toc_section_display": true,
   "toc_window_display": false
  }
 },
 "nbformat": 4,
 "nbformat_minor": 2
}
