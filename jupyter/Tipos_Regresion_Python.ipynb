{
 "cells": [
  {
   "cell_type": "markdown",
   "metadata": {
    "toc": true
   },
   "source": [
    "<h1>Tabla de contenidos<span class=\"tocSkip\"></span></h1>\n",
    "<div class=\"toc\"><ul class=\"toc-item\"><li><span><a href=\"#Introducción\" data-toc-modified-id=\"Introducción-1\"><span class=\"toc-item-num\">1&nbsp;&nbsp;</span>Introducción</a></span></li><li><span><a href=\"#Diferentes-técnicas-de-pre-procesamiento\" data-toc-modified-id=\"Diferentes-técnicas-de-pre-procesamiento-2\"><span class=\"toc-item-num\">2&nbsp;&nbsp;</span>Diferentes técnicas de pre-procesamiento</a></span></li><li><span><a href=\"#Normalización-de-los-datos\" data-toc-modified-id=\"Normalización-de-los-datos-3\"><span class=\"toc-item-num\">3&nbsp;&nbsp;</span>Normalización de los datos</a></span></li><li><span><a href=\"#Escalando-los-datos\" data-toc-modified-id=\"Escalando-los-datos-4\"><span class=\"toc-item-num\">4&nbsp;&nbsp;</span>Escalando los datos</a></span></li><li><span><a href=\"#Normalization\" data-toc-modified-id=\"Normalization-5\"><span class=\"toc-item-num\">5&nbsp;&nbsp;</span>Normalization</a></span></li><li><span><a href=\"#Binarizacion\" data-toc-modified-id=\"Binarizacion-6\"><span class=\"toc-item-num\">6&nbsp;&nbsp;</span>Binarizacion</a></span></li><li><span><a href=\"#One-Hot-Encoding\" data-toc-modified-id=\"One-Hot-Encoding-7\"><span class=\"toc-item-num\">7&nbsp;&nbsp;</span>One Hot Encoding</a></span></li><li><span><a href=\"#Codificación-de-etiquetas\" data-toc-modified-id=\"Codificación-de-etiquetas-8\"><span class=\"toc-item-num\">8&nbsp;&nbsp;</span>Codificación de etiquetas</a></span></li><li><span><a href=\"#Ejemplo-de-regresión-lineal\" data-toc-modified-id=\"Ejemplo-de-regresión-lineal-9\"><span class=\"toc-item-num\">9&nbsp;&nbsp;</span>Ejemplo de regresión lineal</a></span></li><li><span><a href=\"#Particiones-Train-Test\" data-toc-modified-id=\"Particiones-Train-Test-10\"><span class=\"toc-item-num\">10&nbsp;&nbsp;</span>Particiones Train Test</a></span></li><li><span><a href=\"#Acuracidad-del-modelo\" data-toc-modified-id=\"Acuracidad-del-modelo-11\"><span class=\"toc-item-num\">11&nbsp;&nbsp;</span>Acuracidad del modelo</a></span></li><li><span><a href=\"#Guardando-el-modelo-obtenido\" data-toc-modified-id=\"Guardando-el-modelo-obtenido-12\"><span class=\"toc-item-num\">12&nbsp;&nbsp;</span>Guardando el modelo obtenido</a></span></li><li><span><a href=\"#regresión-de-tipo-ridge\" data-toc-modified-id=\"regresión-de-tipo-ridge-13\"><span class=\"toc-item-num\">13&nbsp;&nbsp;</span>regresión de tipo ridge</a></span></li><li><span><a href=\"#Realizando-una-regresión-polinómica\" data-toc-modified-id=\"Realizando-una-regresión-polinómica-14\"><span class=\"toc-item-num\">14&nbsp;&nbsp;</span>Realizando una regresión polinómica</a></span></li><li><span><a href=\"#Estimación-precios-de-las-casas\" data-toc-modified-id=\"Estimación-precios-de-las-casas-15\"><span class=\"toc-item-num\">15&nbsp;&nbsp;</span>Estimación precios de las casas</a></span></li><li><span><a href=\"#Cálculo-de-la-importancia-relativa-de-las-features\" data-toc-modified-id=\"Cálculo-de-la-importancia-relativa-de-las-features-16\"><span class=\"toc-item-num\">16&nbsp;&nbsp;</span>Cálculo de la importancia relativa de las features</a></span></li><li><span><a href=\"#Estimación-de-la-demanda-de-bicicletas\" data-toc-modified-id=\"Estimación-de-la-demanda-de-bicicletas-17\"><span class=\"toc-item-num\">17&nbsp;&nbsp;</span>Estimación de la demanda de bicicletas</a></span></li></ul></div>"
   ]
  },
  {
   "cell_type": "markdown",
   "metadata": {},
   "source": [
    "# Introducción#\n",
    "\n",
    "En el presente post, se van a presentar diferentes técnicas que se utilizan dentro del campo de machine learning para inferir valores a partir de una serie de datos observados. Son técnicas conocidas por la expresión *supervised machine learning*, dentro de las cuales por ejemplo se encuentra la regresión lineal, que más adelante se expondra.\n",
    "\n",
    "Antes de seguir hacia adelante con este tipo de técnicas, se van a presentar algunas herramientas que facilitan el tratamiento de la información antes de su procesamiento con este tipo de técnicas de análisis multivariante."
   ]
  },
  {
   "cell_type": "markdown",
   "metadata": {},
   "source": [
    "# Diferentes técnicas de pre-procesamiento #\n",
    "\n",
    "En el tratamiento de datos, la información que llega en bruto adolece de muchos defectos tanto de forma como de contenido, que es presiso depurar y limpiar antes de que se proceda a su procesamiento con algún tipo de método estadístico.\n",
    "\n",
    "Dentro de este procesamiento se pueden encontrar técnicas de imputación de valores faltantes, recodificación de variables, normalización de variables, etc. En los apartados que siguen, se va a proceder a exponer, sin ánimo de exhaustividad, algunos métodos que permiten realizar estas tareas. \n"
   ]
  },
  {
   "cell_type": "code",
   "execution_count": 87,
   "metadata": {},
   "outputs": [],
   "source": [
    "import numpy as np\n",
    "from sklearn import preprocessing"
   ]
  },
  {
   "cell_type": "markdown",
   "metadata": {},
   "source": [
    "En el código anterior se ha importado el paquete **scikit learn** que permite realizar muchas operaciones utilizadas en machine learning. A continuación se genera una serie de datos, que nos servirán para exponer estas cuestiones más adelante."
   ]
  },
  {
   "cell_type": "code",
   "execution_count": 88,
   "metadata": {},
   "outputs": [
    {
     "name": "stdout",
     "output_type": "stream",
     "text": [
      "[[ 3.  -1.5  2.  -5.4]\n",
      " [ 0.   4.  -0.3  2.1]\n",
      " [ 1.   3.3 -1.9 -4.3]]\n"
     ]
    }
   ],
   "source": [
    "data = np.array([[3, -1.5,  2, -5.4], [0,  4,  -0.3, 2.1], [1,  3.3, -1.9, -4.3]])\n",
    "print(data)"
   ]
  },
  {
   "cell_type": "markdown",
   "metadata": {},
   "source": [
    "\n",
    "# Normalización de los datos #\n",
    "\n",
    "Con la finalidad de que todas las variables utilizadas en el procesamiento de la información tengan una escala de valores similar, lo que se suele hacer es normalizar esos datos, es decir, hacer una transformación de los mismos, para que tengan una media de cero y desviación típica 1. Para conseguir esto los que se hace es para columna restar la media muestral y dividirlo por la desviación tipica de dicha muestra. Scikit learn tiene el método *scale* que nos permite hacer esto."
   ]
  },
  {
   "cell_type": "code",
   "execution_count": 89,
   "metadata": {},
   "outputs": [
    {
     "name": "stdout",
     "output_type": "stream",
     "text": [
      "[[1 1]\n",
      " [2 3]]\n",
      "\n",
      "Media por columnas:  [1.5 2. ]\n",
      "\n",
      "Media por filas:  [1.  2.5]\n"
     ]
    }
   ],
   "source": [
    "#Veamos el significado de axis=0 o axis=1\n",
    "a=np.array([[1,1],[2,3]])\n",
    "print(a)\n",
    "print(\"\\nMedia por columnas: \",a.mean(axis=0) )\n",
    "print(\"\\nMedia por filas: \",a.mean(axis=1))\n",
    "#Luego axis=0 indica por columnas y axis=1 por filas"
   ]
  },
  {
   "cell_type": "code",
   "execution_count": 90,
   "metadata": {},
   "outputs": [
    {
     "name": "stdout",
     "output_type": "stream",
     "text": [
      "[[ 1.33630621 -1.40451644  1.29110641 -0.86687558]\n",
      " [-1.06904497  0.84543708 -0.14577008  1.40111286]\n",
      " [-0.26726124  0.55907936 -1.14533633 -0.53423728]]\n",
      "\\Media = [ 5.55111512e-17 -1.11022302e-16 -7.40148683e-17 -7.40148683e-17]\n",
      "Desviación típica = [1. 1. 1. 1.]\n"
     ]
    }
   ],
   "source": [
    "data_standardized = preprocessing.scale(data)\n",
    "print(data_standardized)\n",
    "### axis=0 indica columnas\n",
    "print (\"\\Media =\", data_standardized.mean(axis=0))\n",
    "print (\"Desviación típica =\", data_standardized.std(axis=0))"
   ]
  },
  {
   "cell_type": "markdown",
   "metadata": {},
   "source": [
    "Como puede verse la media de cada columna es cero y la varianza es 1."
   ]
  },
  {
   "cell_type": "markdown",
   "metadata": {},
   "source": [
    "# Escalando los datos #\n",
    "\n",
    "En otras ocasiones, lo que interesa es obtener valores dentro de un determinado rango, y para ello lo que se hace es escalar los datos para que todos queden dentro de ese rango pero manteniendo la proporción entre ellos. En el siguiente ejemplo, vamos a hacer esto para que los datos del ejemplo anterior se escalen y queden comprendidos entre los valores [0,1].\n"
   ]
  },
  {
   "cell_type": "code",
   "execution_count": 91,
   "metadata": {},
   "outputs": [
    {
     "name": "stdout",
     "output_type": "stream",
     "text": [
      "\n",
      "Min max scaled data =\n",
      " [[1.         0.         1.         0.        ]\n",
      " [0.         1.         0.41025641 1.        ]\n",
      " [0.33333333 0.87272727 0.         0.14666667]]\n"
     ]
    }
   ],
   "source": [
    "data_scaler = preprocessing.MinMaxScaler(feature_range=(0, 1))\n",
    "data_scaled = data_scaler.fit_transform(data)\n",
    "print (\"\\nMin max scaled data =\\n\", data_scaled)"
   ]
  },
  {
   "cell_type": "markdown",
   "metadata": {},
   "source": [
    "# Normalization #\n",
    "\n",
    "Cuando se quiere trabajar con valores estandarizados pero con una determinada norma ( no tiene que ser necesariamente la euclídea), se utiliza este procedimiento para ello. En el ejemplo que sigue, se normalizan los valores utilizando la norma L1.\n"
   ]
  },
  {
   "cell_type": "code",
   "execution_count": 92,
   "metadata": {},
   "outputs": [
    {
     "name": "stdout",
     "output_type": "stream",
     "text": [
      "\n",
      "Datos normalizados por la norma L1=\n",
      " [[ 0.25210084 -0.12605042  0.16806723 -0.45378151]\n",
      " [ 0.          0.625      -0.046875    0.328125  ]\n",
      " [ 0.0952381   0.31428571 -0.18095238 -0.40952381]]\n"
     ]
    }
   ],
   "source": [
    "data_normalized = preprocessing.normalize(data, norm='l1')\n",
    "print (\"\\nDatos normalizados por la norma L1=\\n\", data_normalized)"
   ]
  },
  {
   "cell_type": "markdown",
   "metadata": {},
   "source": [
    "# Binarizacion #\n",
    "\n",
    "La binarización se utiliza para convertir variables continuas o discretas en otras variables de tipo boolean, es decir tomando sólo valores cero ó uno. Para conseguir esto hay que definir un determinado valor de corte, que en el ejemplo que sigue sería 1.4. \n"
   ]
  },
  {
   "cell_type": "code",
   "execution_count": 93,
   "metadata": {},
   "outputs": [
    {
     "name": "stdout",
     "output_type": "stream",
     "text": [
      "\n",
      "Datos Binarizados =\n",
      " [[1. 0. 1. 0.]\n",
      " [0. 1. 0. 1.]\n",
      " [0. 1. 0. 0.]]\n"
     ]
    }
   ],
   "source": [
    "data_binarized = preprocessing.Binarizer(threshold=1.4).transform(data)\n",
    "print (\"\\nDatos Binarizados =\\n\", data_binarized)"
   ]
  },
  {
   "cell_type": "markdown",
   "metadata": {},
   "source": [
    "# One Hot Encoding #\n",
    "\n",
    "Este procedimiento es el que en el mundo de la estadística también se denomina obtener variables de **tipo dummy**. Para hacer esto, se necesita una variable categórica, entonces esta variable va a dar origen a otra variables  de tipo boolean (sólo tienen 1 y ceros), tantas como categorias tiene la categórica, de tal manera que un valor de categórica es equivalente a poner cero en todas las nuevas variables obtenidas, salvo aquella que representa la categoría del valor que toma la variable.\n",
    "\n",
    "Pongamos un ejemplo que clarifique este concepto. Supongamos una variable categórica denominada \"var\" que puede tomar tres valores. Entonces al utilizar este procedimiento, se generarán otras tres variables que vamos a denominar \"var_1,var_2 y var_3\". Si var toma el valor 1 entonces en la variables generadas, se obtendrían estos valores: 1,0,0. Si el valor tomado por var es el correspondiente a la segunda categoría, entonces los valores generados serían: 0,1,0 y por último si el valor es el de la tercera categoría, entonces el nuevo valor en las tres nuevas variables sería 0,0,1.\n",
    "\n",
    "A continuación se muestra ejemplo práctico clarificador de todo lo comentado anteriormente.\n",
    "\n",
    "Después de ejecuado el código que sigue, veamos cómo funciona esta función: la primera columna es 0, 1, 2, 1 es como si fuera una variable categórica con posibles valores 0,1,2. \n",
    "\n",
    "Si tomamos el primer vector que se quiere codificar, es decir \\[2,3,5,3\\] el valor de la primera variable es 2, por lo tanto si generamos la variable \"dummy\" correspondiente sería \\[0,0,1\\].\n",
    "\n",
    "Para el caso de las segunda variable, los valores posibles son 2 y 3, entones el valor 3 ( segundo elementos del vector que estamos codificando ) transformado a variable \"dummy\" seria \\[0,1\\].\n",
    "\n",
    "Para la tercera variable los posibles valores de la variable categórica son: 1,2,4,5 por lo tanto 5 expresado como variable \"dummy\" sería \\[0,0,0,1\\].\n",
    "\n",
    "Igual se haría con la cuarta variable, y al final de juntan todos los valores de las variables dummy's obtenidas y se tiene el resultado que se aprecia en la salida del código ejecutado."
   ]
  },
  {
   "cell_type": "code",
   "execution_count": 94,
   "metadata": {},
   "outputs": [
    {
     "name": "stdout",
     "output_type": "stream",
     "text": [
      "[[ 0  2  1 12]\n",
      " [ 1  3  5  3]\n",
      " [ 2  3  2 12]\n",
      " [ 1  2  4  3]]\n",
      "\n",
      "Vector codificado= [[0. 0. 1. 0. 1. 0. 0. 0. 1. 1. 0.]]\n",
      "\n",
      "Vector codificado= [[0. 0. 1. 0. 1. 0. 0. 0. 1. 0. 1.]]\n",
      "\n",
      "Vector completo codificado(sparse matriz):\n",
      "   (0, 9)\t1.0\n",
      "  (0, 8)\t1.0\n",
      "  (0, 4)\t1.0\n",
      "  (0, 2)\t1.0\n",
      "  (1, 10)\t1.0\n",
      "  (1, 8)\t1.0\n",
      "  (1, 4)\t1.0\n",
      "  (1, 2)\t1.0\n",
      "\n",
      "Ponemos la matriz en formato dense\n",
      "\n",
      "[[0. 0. 1. 0. 1. 0. 0. 0. 1. 1. 0.]\n",
      " [0. 0. 1. 0. 1. 0. 0. 0. 1. 0. 1.]]\n"
     ]
    },
    {
     "ename": "ValueError",
     "evalue": "unknown categorical feature present [24] during transform.",
     "output_type": "error",
     "traceback": [
      "\u001b[1;31m---------------------------------------------------------------------------\u001b[0m",
      "\u001b[1;31mValueError\u001b[0m                                Traceback (most recent call last)",
      "\u001b[1;32m<ipython-input-94-5a9bdb90c339>\u001b[0m in \u001b[0;36m<module>\u001b[1;34m()\u001b[0m\n\u001b[0;32m     19\u001b[0m \u001b[1;33m\u001b[0m\u001b[0m\n\u001b[0;32m     20\u001b[0m \u001b[1;31m#Lo siguiente nos da un error porque 24 no sabe cómo codificarlo\u001b[0m\u001b[1;33m\u001b[0m\u001b[1;33m\u001b[0m\u001b[0m\n\u001b[1;32m---> 21\u001b[1;33m \u001b[0mencoded_vector2\u001b[0m \u001b[1;33m=\u001b[0m \u001b[0mencoder\u001b[0m\u001b[1;33m.\u001b[0m\u001b[0mtransform\u001b[0m\u001b[1;33m(\u001b[0m\u001b[1;33m[\u001b[0m\u001b[1;33m[\u001b[0m\u001b[1;36m24\u001b[0m\u001b[1;33m,\u001b[0m \u001b[1;36m3\u001b[0m\u001b[1;33m,\u001b[0m \u001b[1;36m5\u001b[0m\u001b[1;33m,\u001b[0m \u001b[1;36m3\u001b[0m\u001b[1;33m]\u001b[0m\u001b[1;33m]\u001b[0m\u001b[1;33m)\u001b[0m\u001b[1;33m.\u001b[0m\u001b[0mtoarray\u001b[0m\u001b[1;33m(\u001b[0m\u001b[1;33m)\u001b[0m\u001b[1;33m\u001b[0m\u001b[0m\n\u001b[0m\u001b[0;32m     22\u001b[0m \u001b[0mprint\u001b[0m \u001b[1;33m(\u001b[0m\u001b[1;34m\"\\vector2 codificado =\"\u001b[0m\u001b[1;33m,\u001b[0m \u001b[0mencoded_vector2\u001b[0m\u001b[1;33m)\u001b[0m\u001b[1;33m\u001b[0m\u001b[0m\n",
      "\u001b[1;32mD:\\programas\\Anaconda\\lib\\site-packages\\sklearn\\preprocessing\\data.py\u001b[0m in \u001b[0;36mtransform\u001b[1;34m(self, X)\u001b[0m\n\u001b[0;32m   2073\u001b[0m         \"\"\"\n\u001b[0;32m   2074\u001b[0m         return _transform_selected(X, self._transform,\n\u001b[1;32m-> 2075\u001b[1;33m                                    self.categorical_features, copy=True)\n\u001b[0m\u001b[0;32m   2076\u001b[0m \u001b[1;33m\u001b[0m\u001b[0m\n\u001b[0;32m   2077\u001b[0m \u001b[1;33m\u001b[0m\u001b[0m\n",
      "\u001b[1;32mD:\\programas\\Anaconda\\lib\\site-packages\\sklearn\\preprocessing\\data.py\u001b[0m in \u001b[0;36m_transform_selected\u001b[1;34m(X, transform, selected, copy)\u001b[0m\n\u001b[0;32m   1810\u001b[0m \u001b[1;33m\u001b[0m\u001b[0m\n\u001b[0;32m   1811\u001b[0m     \u001b[1;32mif\u001b[0m \u001b[0misinstance\u001b[0m\u001b[1;33m(\u001b[0m\u001b[0mselected\u001b[0m\u001b[1;33m,\u001b[0m \u001b[0msix\u001b[0m\u001b[1;33m.\u001b[0m\u001b[0mstring_types\u001b[0m\u001b[1;33m)\u001b[0m \u001b[1;32mand\u001b[0m \u001b[0mselected\u001b[0m \u001b[1;33m==\u001b[0m \u001b[1;34m\"all\"\u001b[0m\u001b[1;33m:\u001b[0m\u001b[1;33m\u001b[0m\u001b[0m\n\u001b[1;32m-> 1812\u001b[1;33m         \u001b[1;32mreturn\u001b[0m \u001b[0mtransform\u001b[0m\u001b[1;33m(\u001b[0m\u001b[0mX\u001b[0m\u001b[1;33m)\u001b[0m\u001b[1;33m\u001b[0m\u001b[0m\n\u001b[0m\u001b[0;32m   1813\u001b[0m \u001b[1;33m\u001b[0m\u001b[0m\n\u001b[0;32m   1814\u001b[0m     \u001b[1;32mif\u001b[0m \u001b[0mlen\u001b[0m\u001b[1;33m(\u001b[0m\u001b[0mselected\u001b[0m\u001b[1;33m)\u001b[0m \u001b[1;33m==\u001b[0m \u001b[1;36m0\u001b[0m\u001b[1;33m:\u001b[0m\u001b[1;33m\u001b[0m\u001b[0m\n",
      "\u001b[1;32mD:\\programas\\Anaconda\\lib\\site-packages\\sklearn\\preprocessing\\data.py\u001b[0m in \u001b[0;36m_transform\u001b[1;34m(self, X)\u001b[0m\n\u001b[0;32m   2044\u001b[0m             \u001b[1;32mif\u001b[0m \u001b[0mself\u001b[0m\u001b[1;33m.\u001b[0m\u001b[0mhandle_unknown\u001b[0m \u001b[1;33m==\u001b[0m \u001b[1;34m'error'\u001b[0m\u001b[1;33m:\u001b[0m\u001b[1;33m\u001b[0m\u001b[0m\n\u001b[0;32m   2045\u001b[0m                 raise ValueError(\"unknown categorical feature present %s \"\n\u001b[1;32m-> 2046\u001b[1;33m                                  \"during transform.\" % X.ravel()[~mask])\n\u001b[0m\u001b[0;32m   2047\u001b[0m \u001b[1;33m\u001b[0m\u001b[0m\n\u001b[0;32m   2048\u001b[0m         \u001b[0mcolumn_indices\u001b[0m \u001b[1;33m=\u001b[0m \u001b[1;33m(\u001b[0m\u001b[0mX\u001b[0m \u001b[1;33m+\u001b[0m \u001b[0mindices\u001b[0m\u001b[1;33m[\u001b[0m\u001b[1;33m:\u001b[0m\u001b[1;33m-\u001b[0m\u001b[1;36m1\u001b[0m\u001b[1;33m]\u001b[0m\u001b[1;33m)\u001b[0m\u001b[1;33m.\u001b[0m\u001b[0mravel\u001b[0m\u001b[1;33m(\u001b[0m\u001b[1;33m)\u001b[0m\u001b[1;33m[\u001b[0m\u001b[0mmask\u001b[0m\u001b[1;33m]\u001b[0m\u001b[1;33m\u001b[0m\u001b[0m\n",
      "\u001b[1;31mValueError\u001b[0m: unknown categorical feature present [24] during transform."
     ]
    }
   ],
   "source": [
    "encoder = preprocessing.OneHotEncoder()\n",
    "a=np.array([[0, 2, 1, 12], [1, 3, 5, 3], [2, 3, 2, 12], [1, 2, 4, 3]])\n",
    "print(a)\n",
    "encoder.fit(a)\n",
    "encoded_vector = encoder.transform([[2, 3, 5, 3]]).toarray()\n",
    "print (\"\\nVector codificado=\", encoded_vector)\n",
    "\n",
    "encoded_vector = encoder.transform([[2, 3, 5, 12]]).toarray()\n",
    "print (\"\\nVector codificado=\", encoded_vector)\n",
    "\n",
    "encoded_vector=encoder.transform([[2, 3, 5, 3],[2, 3, 5, 12]])\n",
    "#Obtenemos una sparse  matrix (ver https://docs.scipy.org/doc/scipy/reference/sparse.html)\n",
    "#cuyo significado es el siguiente: (0,9)  1.0 es que el elemento en (0,9) valie 1\n",
    "#el elemento (0,8) vale 1, y así sucesivamente.\n",
    "print(\"\\nVector completo codificado(sparse matriz):\\n\",encoded_vector)\n",
    "print(\"\\nPonemos la matriz en formato dense\\n\")\n",
    "print(encoded_vector.toarray())\n",
    "\n",
    "\n",
    "#Lo siguiente nos da un error porque 24 no sabe cómo codificarlo\n",
    "encoded_vector2 = encoder.transform([[24, 3, 5, 3]]).toarray()\n",
    "print (\"\\vector2 codificado =\", encoded_vector2)\n"
   ]
  },
  {
   "cell_type": "markdown",
   "metadata": {},
   "source": [
    "# Codificación de etiquetas #\n",
    "\n",
    "Otra de las situaciones que se encuentran en el campo de machine learning es que ciertas variables categórica venga codificados con los coracteres, por ejemplo, la variable \"sexo\" puede venir codificada con los caracteres \"varon\", \"mujer\". Este tipo de codificación no permite el tratamiento con las utilidades que proporciona scikit learn. Por ello se deben pasar a valores numéricos, de esta manera por ejemplo \"varon\" pasará a valer 1 y \"mujer\" pasaría a valer 2.   \n",
    "\n",
    "Una vez pasados a valores numéricos, se podrían utilizar los métodos descritos en el apartado anterior (\"One hot encoding\") y pasarlas a variables de tipo dummy. Veamos a continuación un ejemplo sobe cómo poder codificar con valores numéricos las categorías de tipo carácter de una variable categórica."
   ]
  },
  {
   "cell_type": "code",
   "execution_count": 95,
   "metadata": {},
   "outputs": [
    {
     "name": "stdout",
     "output_type": "stream",
     "text": [
      "\n",
      "Mapeo de las clases:\n",
      "audi --> 0\n",
      "bmw --> 1\n",
      "ford --> 2\n",
      "toyota --> 3\n"
     ]
    }
   ],
   "source": [
    "from sklearn import preprocessing\n",
    "label_encoder = preprocessing.LabelEncoder()\n",
    "input_classes = ['audi', 'ford', 'audi', 'toyota', 'ford', 'bmw']\n",
    "label_encoder.fit(input_classes)\n",
    "print (\"\\nMapeo de las clases:\")\n",
    "for i, item in enumerate(label_encoder.classes_):\n",
    "    print (item, '-->', i)"
   ]
  },
  {
   "cell_type": "markdown",
   "metadata": {},
   "source": [
    "Para codificar nuevos valores de la variable, se haría de la siguiente manera:"
   ]
  },
  {
   "cell_type": "code",
   "execution_count": 96,
   "metadata": {},
   "outputs": [
    {
     "name": "stdout",
     "output_type": "stream",
     "text": [
      "\n",
      "Etiquetas = ['toyota', 'ford', 'audi']\n",
      "Etiquetas codificadas = [3, 2, 0]\n"
     ]
    }
   ],
   "source": [
    "labels = ['toyota', 'ford', 'audi']\n",
    "encoded_labels = label_encoder.transform(labels)\n",
    "print (\"\\nEtiquetas =\", labels)\n",
    "print (\"Etiquetas codificadas =\", list(encoded_labels))"
   ]
  },
  {
   "cell_type": "markdown",
   "metadata": {},
   "source": [
    "El camino recíproco tambien se puede implementar. Es decir de una serie de valores numéricos, sacar las etiquetas con las que se corresponden."
   ]
  },
  {
   "cell_type": "code",
   "execution_count": 97,
   "metadata": {},
   "outputs": [
    {
     "name": "stdout",
     "output_type": "stream",
     "text": [
      "\n",
      "Etiquetas codificadas = [2, 1, 0, 3, 1]\n",
      "Etiquetas decodificadas = ['ford', 'bmw', 'audi', 'toyota', 'bmw']\n"
     ]
    },
    {
     "name": "stderr",
     "output_type": "stream",
     "text": [
      "D:\\programas\\Anaconda\\lib\\site-packages\\sklearn\\preprocessing\\label.py:151: DeprecationWarning: The truth value of an empty array is ambiguous. Returning False, but in future this will result in an error. Use `array.size > 0` to check that an array is not empty.\n",
      "  if diff:\n"
     ]
    }
   ],
   "source": [
    "encoded_labels = [2, 1, 0, 3, 1]\n",
    "decoded_labels = label_encoder.inverse_transform(encoded_labels)\n",
    "print (\"\\nEtiquetas codificadas =\", encoded_labels)\n",
    "print (\"Etiquetas decodificadas =\", list(decoded_labels))"
   ]
  },
  {
   "cell_type": "markdown",
   "metadata": {},
   "source": [
    "# Ejemplo de regresión lineal #\n",
    "\n",
    "\n",
    "Estas **técnicas de regresión** se denominan como **mínimos cuadrados ordinarios**, ya que lo que buscan es minimizar la suma de las distancias al cuadrado entre el punto y el valor predicho. En Python este tipo de técnicas se realizan utilizando el módulo [LinearRegression](http://scikit-learn.org/stable/modules/generated/sklearn.linear_model.LinearRegression.html#sklearn.linear_model.LinearRegression){:target=\"_blank\"} de scikit Learn.\n",
    "\n",
    "En consecuencia si X es la matriz de los datos de lo que se trata es de hacer una estimación de la forma: \\\\( y=Xw+\\epsilon   \\\\) de tal manera que se optimize \n",
    "\n",
    "\\\\[ \\underset{w}{min}{\\parallel Xw-y \\parallel _{2}} ^{2} \\\\]\n",
    "\n"
   ]
  },
  {
   "cell_type": "markdown",
   "metadata": {},
   "source": [
    "Para realizar este trabajo, vamos a utilizar un fichero denominado *data_singlevar.txt* que contiene en cada linea dos campos de datos separados por una coma. El fichero con el que se va a trabajar, se puede encontrar en Github en la dirección que figura en el siguiente código."
   ]
  },
  {
   "cell_type": "code",
   "execution_count": 98,
   "metadata": {},
   "outputs": [
    {
     "name": "stdout",
     "output_type": "stream",
     "text": [
      "      0     1\n",
      "0  4.94  4.37\n",
      "1 -1.58  1.70\n",
      "2 -4.45  1.88\n",
      "3 -6.06  0.56\n",
      "4 -1.22  2.23\n",
      "5 -3.55  1.53\n",
      "<class 'pandas.core.series.Series'>\n",
      "     0     1     2     3     4     5     6     7     8     9   ...     40  \\\n",
      "0  4.94 -1.58 -4.45 -6.06 -1.22 -3.55  0.36 -3.24  1.31  2.17  ...  -1.81   \n",
      "\n",
      "     41   42    43    44    45    46    47    48    49  \n",
      "0  3.94 -2.0  0.54  0.78  2.15  2.55 -0.63  1.06 -0.36  \n",
      "\n",
      "[1 rows x 50 columns]\n",
      "     0    1     2     3     4     5     6     7     8     9   ...     40  \\\n",
      "1  4.37  1.7  1.88  0.56  2.23  1.53  2.99  0.48  2.76  3.99  ...   2.85   \n",
      "\n",
      "     41    42    43    44    45    46    47    48    49  \n",
      "1  4.86  1.31  3.99  2.92  4.72  3.83  2.58  2.89  1.99  \n",
      "\n",
      "[1 rows x 50 columns]\n"
     ]
    }
   ],
   "source": [
    "import pandas as pd\n",
    "#url='https://github.com/PacktPublishing/Python-Machine-Learning-Cookbook/blob/master/Chapter01/data_singlevar.txt'\n",
    "url='https://raw.githubusercontent.com/PacktPublishing/Python-Machine-Learning-Cookbook/master/Chapter01/data_singlevar.txt'\n",
    "\n",
    "a=pd.read_csv(url,header=None)\n",
    "print(a.head(6))\n",
    "X=a.iloc[:,0]\n",
    "y=a.iloc[:,1]\n",
    "print(type(X))\n",
    "print(X.to_frame().T )\n",
    "print(y.to_frame().T)"
   ]
  },
  {
   "cell_type": "markdown",
   "metadata": {},
   "source": [
    "# Particiones Train Test \n",
    "\n",
    " Cuando se pretende construir un modelo que se ajuste a una serie de datos, es conveniente probar el ajuste que se ha obtenido. Para ello existen diversos procedimientos, pero **uno de los más utilizados consiste en el de entrenamiento-test**. En estos casos, se dividen los datos en dos conjuntos: uno es el que servirá para entrenar el modelo, y el otro conjunto servirá para testear los resultados obtenidos ( los dos conjuntos se suelen llamar train-test). \n",
    " \n",
    " Scikit learm presenta tiene una función denominada [sklearn.model_selection.train_test_split](http://scikit-learn.org/stable/modules/generated/sklearn.model_selection.train_test_split.html){:target='_blank'), que sirve para realizar este tipo de procesos. Sin embargo a efectos meramente ilustrativos a continuación se muestra un procedimiento para conseguir este objetivo. Con este procedimiento se selecciona el 80 por ciento de los datos con train y el resto serán de tipo test. "
   ]
  },
  {
   "cell_type": "code",
   "execution_count": 99,
   "metadata": {},
   "outputs": [],
   "source": [
    "num_training = int(0.8 * len(X))\n",
    "num_test = len(X) - num_training\n",
    "\n",
    "# Training data\n",
    "X_train = np.array(X[:num_training]).reshape((num_training,1))\n",
    "y_train = np.array(y[:num_training])\n",
    "\n",
    "# Test data\n",
    "X_test = np.array(X[num_training:]).reshape((num_test,1))\n",
    "y_test = np.array(y[num_training:])"
   ]
  },
  {
   "cell_type": "markdown",
   "metadata": {},
   "source": [
    "A continuación lo que se hace es construir el modelo:"
   ]
  },
  {
   "cell_type": "code",
   "execution_count": 100,
   "metadata": {},
   "outputs": [
    {
     "data": {
      "text/plain": [
       "LinearRegression(copy_X=True, fit_intercept=True, n_jobs=1, normalize=False)"
      ]
     },
     "execution_count": 100,
     "metadata": {},
     "output_type": "execute_result"
    }
   ],
   "source": [
    "from sklearn import linear_model\n",
    "\n",
    "# Crea un objeto de tipo regresión lineal\n",
    "linear_regressor = linear_model.LinearRegression()\n",
    "\n",
    "# Se ajusta el modelo con la parte train que se ha obtenido antes\n",
    "linear_regressor.fit(X_train, y_train)"
   ]
  },
  {
   "cell_type": "markdown",
   "metadata": {},
   "source": [
    "Ahora hacemos una representación gráfia de los datos iniciales y la recta de regresión que hemos obtenido"
   ]
  },
  {
   "cell_type": "code",
   "execution_count": 101,
   "metadata": {},
   "outputs": [
    {
     "data": {
      "image/png": "[encoded data removed]",
      "text/plain": [
       "<Figure size 432x288 with 1 Axes>"
      ]
     },
     "metadata": {},
     "output_type": "display_data"
    }
   ],
   "source": [
    "import matplotlib.pyplot as plt\n",
    "\n",
    "y_train_pred = linear_regressor.predict(X_train)\n",
    "plt.figure()\n",
    "plt.scatter(X_train, y_train, color='green')\n",
    "plt.plot(X_train, y_train_pred, color='black', linewidth=4)\n",
    "plt.title('Training data')\n",
    "plt.show()"
   ]
  },
  {
   "cell_type": "markdown",
   "metadata": {},
   "source": [
    "A continuación tomamos los datos de la parte de test's y calculamos los valores predichos, para compararlos con los valores reales. "
   ]
  },
  {
   "cell_type": "code",
   "execution_count": 102,
   "metadata": {},
   "outputs": [
    {
     "data": {
      "image/png": "[encoded data removed]",
      "text/plain": [
       "<Figure size 432x288 with 1 Axes>"
      ]
     },
     "metadata": {},
     "output_type": "display_data"
    }
   ],
   "source": [
    "y_test_pred = linear_regressor.predict(X_test)\n",
    "\n",
    "plt.scatter(X_test, y_test, color='green')\n",
    "plt.plot(X_test, y_test_pred, color='black', linewidth=4)\n",
    "plt.title('Test data')\n",
    "plt.show()"
   ]
  },
  {
   "cell_type": "markdown",
   "metadata": {},
   "source": [
    "# Acuracidad del modelo #\n",
    "\n",
    "Existen una serie de indicadores que sirven para estudiar y evaluar cuando se alejan los datos previstos de los reales. Los indicadores más importante son los siguientes:\n",
    "\n",
    "* **Mean absolute error**: Es un promedio de los errores absolutos que hay entre los datos reales y los previstos por el modelo.\n",
    "* **Mean squared error**: Es una media de los errores al cuadrado.\n",
    "* **Median absolute error**: Lo mismo que para la media, pero calculando la mediana de los errores absolutos\n",
    "* **Explained variance score**: Mide la variación explicada por el modelo. Cuanto más cercano a 1 mejor.\n",
    "* **R2 score**: También se denomina R-squared, o también coeficiente de determinación. Mide la cantidad de variabilidad que el modelo explica. Cuanto más cerca de 1 se encuentre mejor explicación se tendrá del modelo.."
   ]
  },
  {
   "cell_type": "code",
   "execution_count": 103,
   "metadata": {},
   "outputs": [
    {
     "name": "stdout",
     "output_type": "stream",
     "text": [
      "Error absoluto medio = 0.54\n",
      "MSE ó Mean squared error = 0.38\n",
      "Median absolute error = 0.54\n",
      "Explained variance score = 0.68\n",
      "R2 score = 0.68\n"
     ]
    }
   ],
   "source": [
    "import sklearn.metrics as sm\n",
    "\n",
    "print(\"Error absoluto medio =\", round(sm.mean_absolute_error(y_test, y_test_pred), 2))\n",
    "print(\"MSE ó Mean squared error =\", round(sm.mean_squared_error(y_test, y_test_pred), 2))\n",
    "print (\"Median absolute error =\", round(sm.median_absolute_error(y_test, y_test_pred), 2))\n",
    "print (\"Explained variance score =\", round(sm.explained_variance_score(y_test, y_test_pred), 2))\n",
    "print (\"R2 score =\", round(sm.r2_score(y_test, y_test_pred), 2))"
   ]
  },
  {
   "cell_type": "markdown",
   "metadata": {},
   "source": [
    "# Guardando el modelo obtenido #\n",
    "\n",
    "Una vez obtenido un modelo, con la finalidad de no tener que ejcutar pasos anteriores ya hechos y que en ocasiones pueden ser bastante lentos, conviene guardar en disco duro el modelo obtenido, para después poder recuperarlo y trabajar de forma rápida con él.\n"
   ]
  },
  {
   "cell_type": "code",
   "execution_count": 104,
   "metadata": {},
   "outputs": [],
   "source": [
    "import pickle \n",
    "#Esto se ha hecho en Python 3, en Python 2 hay importar cPickle\n",
    "s = pickle.dumps(linear_regressor)\n",
    "\n",
    "#Para Python 2 el código sería el siguiente\n",
    "#output_model_file = 'saved_model.pkl'\n",
    "#with open(output_model_file, 'w') as f:\n",
    "#    pickle.dump(linear_regressor, f)"
   ]
  },
  {
   "cell_type": "markdown",
   "metadata": {},
   "source": [
    "El objeto se ha guardado y se mantendrá guardado aunque el ordenador de trabajo se haya apagado. Posteriormente se podrá recuperar de la siguiente manera."
   ]
  },
  {
   "cell_type": "code",
   "execution_count": 105,
   "metadata": {},
   "outputs": [
    {
     "name": "stdout",
     "output_type": "stream",
     "text": [
      "[2.20369892 4.45873314 2.12918475 3.1253216  3.21944477 3.75673118\n",
      " 3.91360313 2.66647116 3.32925513 2.77235973]\n",
      "Anteriormente los datos previstos fueron: \n",
      " [2.20369892 4.45873314 2.12918475 3.1253216  3.21944477 3.75673118\n",
      " 3.91360313 2.66647116 3.32925513 2.77235973]\n"
     ]
    }
   ],
   "source": [
    "#with open(output_model_file, 'r') as f:\n",
    "#    model_linregr = pickle.load(f)\n",
    "\n",
    "#y_test_pred_new = model_linregr.predict(X_test)\n",
    "#print \"\\nNew mean absolute error =\", round(sm.mean_absolute_error(y_test, y_test_pred_new), 2)\n",
    "#Ahora se recupera de la siguiente manera\n",
    "s2 = pickle.loads(s)\n",
    "print(s2.predict(X_test))\n",
    "print(\"Anteriormente los datos previstos fueron: \\n\",y_test_pred)"
   ]
  },
  {
   "cell_type": "markdown",
   "metadata": {},
   "source": [
    "# regresión de tipo ridge #\n",
    "\n",
    "Con la regrsión ridge lo que se trata es \"perturbar\" ligeramente la matriz X′X para que deje de ser aproximadamente singular. En este caso lo que se hace es resolver \n",
    "\n",
    "\\\\[ \\underset{w}{min}{\\parallel Xw-y \\parallel _{2}} ^{2} +\\alpha{\\parallel X \\parallel _{2}} ^{2} \\\\]\n",
    "\n"
   ]
  },
  {
   "cell_type": "code",
   "execution_count": 106,
   "metadata": {},
   "outputs": [],
   "source": [
    "ridge_regressor = linear_model.Ridge(alpha=0.01, fit_intercept=True, max_iter=10000)"
   ]
  },
  {
   "cell_type": "markdown",
   "metadata": {},
   "source": [
    "Obtenemos además los siguientes índices:"
   ]
  },
  {
   "cell_type": "code",
   "execution_count": 107,
   "metadata": {},
   "outputs": [
    {
     "name": "stdout",
     "output_type": "stream",
     "text": [
      "Mean absolute error = 0.54\n",
      "Mean squared error = 0.38\n",
      "Median absolute error = 0.54\n",
      "Explain variance score = 0.68\n",
      "R2 score = 0.68\n"
     ]
    }
   ],
   "source": [
    "ridge_regressor.fit(X_train, y_train)\n",
    "y_test_pred_ridge = ridge_regressor.predict(X_test)\n",
    "print (\"Mean absolute error =\", round(sm.mean_absolute_error(y_test, y_test_pred_ridge), 2) )\n",
    "print (\"Mean squared error =\", round(sm.mean_squared_error(y_test, y_test_pred_ridge), 2) )\n",
    "print (\"Median absolute error =\", round(sm.median_absolute_error(y_test, y_test_pred_ridge), 2) )\n",
    "print (\"Explain variance score =\", round(sm.explained_variance_score(y_test, y_test_pred_ridge), 2) )\n",
    "print (\"R2 score =\", round(sm.r2_score(y_test, y_test_pred_ridge), 2))"
   ]
  },
  {
   "cell_type": "markdown",
   "metadata": {},
   "source": [
    "# Realizando una regresión polinómica #\n",
    "\n",
    "El ajuste se puede hacer también utilizando una función de tipo polinómica. En este caso se muestra un ejemplo de ajuste polinómico de grado 3.\n"
   ]
  },
  {
   "cell_type": "code",
   "execution_count": 108,
   "metadata": {},
   "outputs": [],
   "source": [
    "from sklearn.preprocessing import PolynomialFeatures\n",
    "\n",
    "polynomial = PolynomialFeatures(degree=3)"
   ]
  },
  {
   "cell_type": "markdown",
   "metadata": {},
   "source": [
    "Los valores obtenidos mediante el ajuste anterior, se obtienen de la siguiente manera:"
   ]
  },
  {
   "cell_type": "code",
   "execution_count": 109,
   "metadata": {},
   "outputs": [],
   "source": [
    "X_train_transformed = polynomial.fit_transform(X_train)"
   ]
  },
  {
   "cell_type": "markdown",
   "metadata": {},
   "source": [
    "A continuación se muestra la diferencia que hay a la hora de predecir un punto bajo diferentes modelos"
   ]
  },
  {
   "cell_type": "code",
   "execution_count": 110,
   "metadata": {},
   "outputs": [
    {
     "name": "stdout",
     "output_type": "stream",
     "text": [
      "\n",
      "Linear regression: 3.0664946237330555\n",
      "\n",
      "Polynomial regression: 3.1136002107457923\n"
     ]
    }
   ],
   "source": [
    "datapoint = [[0.39],[2.78],[7.11]]\n",
    "poly_datapoint = polynomial.fit_transform(datapoint)\n",
    "\n",
    "poly_linear_model = linear_model.LinearRegression()\n",
    "poly_linear_model.fit(X_train_transformed, y_train)\n",
    "print( \"\\nLinear regression:\", linear_regressor.predict(datapoint)[0])\n",
    "print (\"\\nPolynomial regression:\", poly_linear_model.predict(poly_datapoint)[0])"
   ]
  },
  {
   "cell_type": "markdown",
   "metadata": {},
   "source": [
    "# Estimación precios de las casas #\n",
    "\n",
    "En este caso no tenemos una sola varable regresor, si no que tenemos muchas más, como se muestra en poco más abajo, y de lo que se trata es estimar el precio de las viviendas, en base al resto de regresores. "
   ]
  },
  {
   "cell_type": "code",
   "execution_count": 140,
   "metadata": {},
   "outputs": [],
   "source": [
    "import numpy as np\n",
    "from sklearn.tree import DecisionTreeRegressor\n",
    "from sklearn.ensemble import AdaBoostRegressor\n",
    "from sklearn import datasets\n",
    "from sklearn.metrics import mean_squared_error, explained_variance_score\n",
    "from sklearn.utils import shuffle\n",
    "import matplotlib.pyplot as plt"
   ]
  },
  {
   "cell_type": "code",
   "execution_count": 141,
   "metadata": {},
   "outputs": [
    {
     "name": "stdout",
     "output_type": "stream",
     "text": [
      "<class 'numpy.ndarray'>\n",
      "[[6.3200e-03 1.8000e+01 2.3100e+00 0.0000e+00 5.3800e-01 6.5750e+00\n",
      "  6.5200e+01 4.0900e+00 1.0000e+00 2.9600e+02 1.5300e+01 3.9690e+02\n",
      "  4.9800e+00]\n",
      " [2.7310e-02 0.0000e+00 7.0700e+00 0.0000e+00 4.6900e-01 6.4210e+00\n",
      "  7.8900e+01 4.9671e+00 2.0000e+00 2.4200e+02 1.7800e+01 3.9690e+02\n",
      "  9.1400e+00]\n",
      " [2.7290e-02 0.0000e+00 7.0700e+00 0.0000e+00 4.6900e-01 7.1850e+00\n",
      "  6.1100e+01 4.9671e+00 2.0000e+00 2.4200e+02 1.7800e+01 3.9283e+02\n",
      "  4.0300e+00]\n",
      " [3.2370e-02 0.0000e+00 2.1800e+00 0.0000e+00 4.5800e-01 6.9980e+00\n",
      "  4.5800e+01 6.0622e+00 3.0000e+00 2.2200e+02 1.8700e+01 3.9463e+02\n",
      "  2.9400e+00]\n",
      " [6.9050e-02 0.0000e+00 2.1800e+00 0.0000e+00 4.5800e-01 7.1470e+00\n",
      "  5.4200e+01 6.0622e+00 3.0000e+00 2.2200e+02 1.8700e+01 3.9690e+02\n",
      "  5.3300e+00]]\n",
      "Los nombre de las variables son:\n",
      "['CRIM' 'ZN' 'INDUS' 'CHAS' 'NOX' 'RM' 'AGE' 'DIS' 'RAD' 'TAX' 'PTRATIO'\n",
      " 'B' 'LSTAT']\n"
     ]
    }
   ],
   "source": [
    "housing_data = datasets.load_boston()\n",
    "print(type(housing_data.data))\n",
    "print(housing_data.data[0:5])\n",
    "print(\"Los nombre de las variables son:\")\n",
    "print(housing_data.feature_names)"
   ]
  },
  {
   "cell_type": "markdown",
   "metadata": {},
   "source": [
    "Lo primero que hacemos es una reordenación aleatoria de los datos con los que se va a trabajar. "
   ]
  },
  {
   "cell_type": "code",
   "execution_count": 142,
   "metadata": {},
   "outputs": [],
   "source": [
    "X, y = shuffle(housing_data.data, housing_data.target, random_state=7)"
   ]
  },
  {
   "cell_type": "markdown",
   "metadata": {},
   "source": [
    "Ahora seleccionamos el 80 por ciento de los datos como datos para el entrenamiento y el resto sirve para testear el modelo obtenido. "
   ]
  },
  {
   "cell_type": "code",
   "execution_count": 143,
   "metadata": {},
   "outputs": [],
   "source": [
    "num_training = int(0.8 * len(X))\n",
    "X_train, y_train = X[:num_training], y[:num_training]\n",
    "X_test, y_test = X[num_training:], y[num_training:]"
   ]
  },
  {
   "cell_type": "markdown",
   "metadata": {},
   "source": [
    "Ahora utilizamos un modelo de tipo [\"regressión tree\"](http://scikit-learn.org/stable/modules/generated/sklearn.tree.DecisionTreeRegressor.html#sklearn.tree.DecisionTreeRegressor){:target=\"_blank\"} para el ajuste de nuestros datos.\n"
   ]
  },
  {
   "cell_type": "code",
   "execution_count": 144,
   "metadata": {},
   "outputs": [
    {
     "data": {
      "text/plain": [
       "DecisionTreeRegressor(criterion='mse', max_depth=4, max_features=None,\n",
       "           max_leaf_nodes=None, min_impurity_decrease=0.0,\n",
       "           min_impurity_split=None, min_samples_leaf=1,\n",
       "           min_samples_split=2, min_weight_fraction_leaf=0.0,\n",
       "           presort=False, random_state=None, splitter='best')"
      ]
     },
     "execution_count": 144,
     "metadata": {},
     "output_type": "execute_result"
    }
   ],
   "source": [
    "dt_regressor = DecisionTreeRegressor(max_depth=4)\n",
    "dt_regressor.fit(X_train, y_train)"
   ]
  },
  {
   "cell_type": "code",
   "execution_count": 145,
   "metadata": {},
   "outputs": [
    {
     "data": {
      "text/plain": [
       "0.8938416214458438"
      ]
     },
     "execution_count": 145,
     "metadata": {},
     "output_type": "execute_result"
    }
   ],
   "source": [
    "#Para obtener el R^2 de la predicción\n",
    "dt_regressor.score(X_train,y_train) "
   ]
  },
  {
   "cell_type": "markdown",
   "metadata": {},
   "source": [
    "También utilizamos el **modelo AdaBoost**.Un regresor AdaBoost [1] es un metaestimador que comienza ajustando un regresor en el conjunto de datos original y luego ajusta copias adicionales del regresor en el mismo conjunto de datos, pero donde los pesos de las instancias se ajustan de acuerdo con el error de la predicción actual. Como tal, los regresores posteriores se enfocan más en casos difíciles."
   ]
  },
  {
   "cell_type": "code",
   "execution_count": 116,
   "metadata": {},
   "outputs": [
    {
     "data": {
      "text/plain": [
       "AdaBoostRegressor(base_estimator=DecisionTreeRegressor(criterion='mse', max_depth=4, max_features=None,\n",
       "           max_leaf_nodes=None, min_impurity_decrease=0.0,\n",
       "           min_impurity_split=None, min_samples_leaf=1,\n",
       "           min_samples_split=2, min_weight_fraction_leaf=0.0,\n",
       "           presort=False, random_state=None, splitter='best'),\n",
       "         learning_rate=1.0, loss='linear', n_estimators=400,\n",
       "         random_state=7)"
      ]
     },
     "execution_count": 116,
     "metadata": {},
     "output_type": "execute_result"
    }
   ],
   "source": [
    "ab_regressor = AdaBoostRegressor(DecisionTreeRegressor(max_depth=4), n_estimators=400, random_state=7)\n",
    "ab_regressor.fit(X_train, y_train)"
   ]
  },
  {
   "cell_type": "markdown",
   "metadata": {},
   "source": [
    "Veamos como AdaBoost mejora los ajustes del modelo"
   ]
  },
  {
   "cell_type": "code",
   "execution_count": 117,
   "metadata": {},
   "outputs": [
    {
     "name": "stdout",
     "output_type": "stream",
     "text": [
      "\n",
      "#### Decision Tree performance ####\n",
      "Mean squared error = 14.79\n",
      "Explained variance score = 0.82\n"
     ]
    }
   ],
   "source": [
    "y_pred_dt = dt_regressor.predict(X_test)\n",
    "mse = mean_squared_error(y_test, y_pred_dt)\n",
    "evs = explained_variance_score(y_test, y_pred_dt) \n",
    "print (\"\\n#### Decision Tree performance ####\")\n",
    "print (\"Mean squared error =\", round(mse, 2))\n",
    "print (\"Explained variance score =\", round(evs, 2))"
   ]
  },
  {
   "cell_type": "markdown",
   "metadata": {},
   "source": [
    "Ahora hacemos la evaluación con AdaBoost:"
   ]
  },
  {
   "cell_type": "code",
   "execution_count": 118,
   "metadata": {},
   "outputs": [
    {
     "name": "stdout",
     "output_type": "stream",
     "text": [
      "\n",
      "#### AdaBoost performance ####\n",
      "Mean squared error = 7.64\n",
      "Explained variance score = 0.91\n"
     ]
    }
   ],
   "source": [
    "y_pred_ab = ab_regressor.predict(X_test)\n",
    "mse = mean_squared_error(y_test, y_pred_ab)\n",
    "evs = explained_variance_score(y_test, y_pred_ab) \n",
    "print (\"\\n#### AdaBoost performance ####\")\n",
    "print (\"Mean squared error =\", round(mse, 2))\n",
    "print (\"Explained variance score =\", round(evs, 2))"
   ]
  },
  {
   "cell_type": "markdown",
   "metadata": {},
   "source": [
    "El error es menor y la variance score más cerca de 1 si se utliza AdaBoost, por lo tanto el ajuste mejora con este modelo."
   ]
  },
  {
   "cell_type": "markdown",
   "metadata": {},
   "source": [
    "# Cálculo de la importancia relativa de las features #\n",
    "\n",
    "Con la siguiente función lo que se hace es calcular la importancia relativa de cada una de las 13 features utilizadas para hacer la regresión.\n"
   ]
  },
  {
   "cell_type": "code",
   "execution_count": 119,
   "metadata": {},
   "outputs": [
    {
     "data": {
      "image/png": "[encoded data removed]",
      "text/plain": [
       "<Figure size 432x288 with 1 Axes>"
      ]
     },
     "metadata": {},
     "output_type": "display_data"
    },
    {
     "data": {
      "image/png": "[encoded data removed]",
      "text/plain": [
       "<Figure size 432x288 with 1 Axes>"
      ]
     },
     "metadata": {},
     "output_type": "display_data"
    }
   ],
   "source": [
    "def plot_feature_importances(feature_importances, title, feature_names):\n",
    "    # Normalize the importance values \n",
    "    feature_importances = 100.0 * (feature_importances / max(feature_importances))\n",
    "\n",
    "    # Sort the index values and flip them so that they are arranged in decreasing order of importance\n",
    "    index_sorted = np.flipud(np.argsort(feature_importances))\n",
    "\n",
    "    # Center the location of the labels on the X-axis (for display purposes only)\n",
    "    pos = np.arange(index_sorted.shape[0]) + 0.5\n",
    "\n",
    "    # Plot the bar graph\n",
    "    plt.figure()\n",
    "    plt.bar(pos, feature_importances[index_sorted], align='center')\n",
    "    plt.xticks(pos, feature_names[index_sorted])\n",
    "    plt.ylabel('Importancia Relativa')\n",
    "    plt.title(title)\n",
    "    plt.xticks(rotation=45)\n",
    "    plt.show()\n",
    "\n",
    "\n",
    "plot_feature_importances(dt_regressor.feature_importances_, \n",
    "        'Decision Tree regressor', housing_data.feature_names)\n",
    "plot_feature_importances(ab_regressor.feature_importances_, \n",
    "        'AdaBoost regressor', housing_data.feature_names)"
   ]
  },
  {
   "cell_type": "markdown",
   "metadata": {},
   "source": [
    "# Estimación de la demanda de bicicletas #\n",
    "\n",
    "En este apartado vamos a utilizar otro método de regresión para estimar la demanda de bicicletas. Para ello se utliza el método de \"random forest regressor\", que se basa en calcular varios \"decision trees\" para después promediar los resultados.\n",
    "\n",
    "Se va a usar un fichero de demandas de bicicletas, que [se puede localizar en este enlace](https://archive.ics.uci.edu/ml/datasets/Bike+Sharing+Dataset){:target=\"_blank\"}.\n",
    "\n",
    "En este conjunto de datos hay un total de 16 columnas. Las dos primeras tienen número de serie y fecha, por lo que no las necesitamos para el análisis. La última columna es la suma de las dos anteriores (la decimocuarta y decimoquinta). Por lo tanto la decimocuarta y decimoquinta no se utilizarán en este ajuste.  \n",
    " \n",
    " Creamos inicialmente una función para leer los datos."
   ]
  },
  {
   "cell_type": "code",
   "execution_count": 124,
   "metadata": {},
   "outputs": [],
   "source": [
    "import csv\n",
    "from sklearn.ensemble import RandomForestRegressor\n",
    "#from housing import plot_feature_importances\n",
    "def load_dataset(filename):\n",
    "    file_reader = csv.reader(open(filename, 'rt'), delimiter=',')\n",
    "    X, y = [], []\n",
    "    for row in file_reader:\n",
    "        X.append(row[2:13])\n",
    "        y.append(row[-1])\n",
    "\n",
    "    # Extract feature names\n",
    "    feature_names = np.array(X[0])\n",
    "\n",
    "    # Remove the first row because they are feature names\n",
    "    return np.array(X[1:]).astype(np.float32), np.array(y[1:]).astype(np.float32), feature_names"
   ]
  },
  {
   "cell_type": "markdown",
   "metadata": {},
   "source": [
    "Ahora procedemos a la lectura de los datos y definimos también los nombre de las variables o features:"
   ]
  },
  {
   "cell_type": "code",
   "execution_count": 130,
   "metadata": {},
   "outputs": [],
   "source": [
    "X, y, feature_names = load_dataset('F:/MisCodigos/web/data/day.csv')\n",
    "X, y = shuffle(X, y, random_state=7) "
   ]
  },
  {
   "cell_type": "code",
   "execution_count": 131,
   "metadata": {},
   "outputs": [
    {
     "name": "stdout",
     "output_type": "stream",
     "text": [
      "['season' 'yr' 'mnth' 'holiday' 'weekday' 'workingday' 'weathersit' 'temp'\n",
      " 'atemp' 'hum' 'windspeed']\n"
     ]
    }
   ],
   "source": [
    "print(feature_names)"
   ]
  },
  {
   "cell_type": "code",
   "execution_count": 132,
   "metadata": {},
   "outputs": [
    {
     "name": "stdout",
     "output_type": "stream",
     "text": [
      "[[ 4.         1.        12.         0.         0.         0.\n",
      "   2.         0.384167   0.390146   0.905417   0.157975 ]\n",
      " [ 4.         1.        11.         0.         2.         1.\n",
      "   2.         0.291667   0.281558   0.786667   0.237562 ]\n",
      " [ 3.         1.         9.         0.         0.         0.\n",
      "   1.         0.58       0.563125   0.57       0.0901833]\n",
      " [ 4.         0.        11.         0.         2.         1.\n",
      "   1.         0.400833   0.397088   0.68375    0.135571 ]\n",
      " [ 4.         0.        11.         0.         3.         1.\n",
      "   1.         0.325      0.311221   0.613333   0.271158 ]]\n"
     ]
    }
   ],
   "source": [
    "print(X[0:5])"
   ]
  },
  {
   "cell_type": "code",
   "execution_count": 133,
   "metadata": {},
   "outputs": [
    {
     "name": "stdout",
     "output_type": "stream",
     "text": [
      "[3228. 3959. 7333. 4068. 3613.]\n"
     ]
    }
   ],
   "source": [
    "print(y[0:5])"
   ]
  },
  {
   "cell_type": "markdown",
   "metadata": {},
   "source": [
    "Generamos ahora los conjuntos train y test"
   ]
  },
  {
   "cell_type": "code",
   "execution_count": 134,
   "metadata": {},
   "outputs": [],
   "source": [
    "num_training = int(0.9 * len(X))\n",
    "X_train, y_train = X[:num_training], y[:num_training]\n",
    "X_test, y_test = X[num_training:], y[num_training:]"
   ]
  },
  {
   "cell_type": "markdown",
   "metadata": {},
   "source": [
    "Y ahora generamos el modelo:"
   ]
  },
  {
   "cell_type": "code",
   "execution_count": 135,
   "metadata": {},
   "outputs": [
    {
     "data": {
      "text/plain": [
       "RandomForestRegressor(bootstrap=True, criterion='mse', max_depth=10,\n",
       "           max_features='auto', max_leaf_nodes=None,\n",
       "           min_impurity_decrease=0.0, min_impurity_split=None,\n",
       "           min_samples_leaf=1, min_samples_split=2,\n",
       "           min_weight_fraction_leaf=0.0, n_estimators=1000, n_jobs=1,\n",
       "           oob_score=False, random_state=None, verbose=0, warm_start=False)"
      ]
     },
     "execution_count": 135,
     "metadata": {},
     "output_type": "execute_result"
    }
   ],
   "source": [
    "rf_regressor = RandomForestRegressor(n_estimators=1000, max_depth=10, min_samples_split=2)\n",
    "rf_regressor.fit(X_train, y_train)"
   ]
  },
  {
   "cell_type": "markdown",
   "metadata": {},
   "source": [
    "Respecto a los parámetros utilizados cabe decir que *n_estimators* se refiere al número de estimadores calculados que además coincide con el número de modelos de *decision tree* que se va a utilizar. El parámetro *max_depth* se refiere a la máxima profundidad de cada *decision tree* y por último *min_samples_split* se refiere a  la cantidad de muestras de datos que se necesitan para dividir un nodo en el árbol.\n"
   ]
  },
  {
   "cell_type": "markdown",
   "metadata": {},
   "source": [
    "A continuación evaluamos la calidad del modelo:"
   ]
  },
  {
   "cell_type": "code",
   "execution_count": 136,
   "metadata": {},
   "outputs": [
    {
     "name": "stdout",
     "output_type": "stream",
     "text": [
      "\n",
      "#### Random Forest regressor performance ####\n",
      "Mean squared error = 363675.87\n",
      "Explained variance score = 0.89\n"
     ]
    }
   ],
   "source": [
    "y_pred = rf_regressor.predict(X_test)\n",
    "mse = mean_squared_error(y_test, y_pred)\n",
    "evs = explained_variance_score(y_test, y_pred) \n",
    "print (\"\\n#### Random Forest regressor performance ####\")\n",
    "print (\"Mean squared error =\", round(mse, 2))\n",
    "print (\"Explained variance score =\", round(evs, 2))"
   ]
  },
  {
   "cell_type": "markdown",
   "metadata": {},
   "source": [
    "Y ahora calculamos y representamos la importancia de cada feature."
   ]
  },
  {
   "cell_type": "code",
   "execution_count": 137,
   "metadata": {},
   "outputs": [
    {
     "data": {
      "image/png": "[encoded data removed]",
      "text/plain": [
       "<Figure size 432x288 with 1 Axes>"
      ]
     },
     "metadata": {},
     "output_type": "display_data"
    }
   ],
   "source": [
    "plot_feature_importances(rf_regressor.feature_importances_, 'Random Forest regressor', feature_names)"
   ]
  }
 ],
 "metadata": {
  "kernelspec": {
   "display_name": "Python 3",
   "language": "python",
   "name": "python3"
  },
  "language_info": {
   "codemirror_mode": {
    "name": "ipython",
    "version": 3
   },
   "file_extension": ".py",
   "mimetype": "text/x-python",
   "name": "python",
   "nbconvert_exporter": "python",
   "pygments_lexer": "ipython3",
   "version": "3.6.5"
  },
  "toc": {
   "base_numbering": 1,
   "nav_menu": {},
   "number_sections": true,
   "sideBar": true,
   "skip_h1_title": false,
   "title_cell": "Tabla de contenidos",
   "title_sidebar": "Contenidos",
   "toc_cell": true,
   "toc_position": {},
   "toc_section_display": true,
   "toc_window_display": false
  }
 },
 "nbformat": 4,
 "nbformat_minor": 2
}
