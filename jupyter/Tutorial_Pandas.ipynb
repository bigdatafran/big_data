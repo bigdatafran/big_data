{
 "cells": [
  {
   "cell_type": "markdown",
   "metadata": {
    "toc": true
   },
   "source": [
    "<h1>Tabla de contenidos<span class=\"tocSkip\"></span></h1>\n",
    "<div class=\"toc\"><ul class=\"toc-item\"><li><span><a href=\"#Introducción\" data-toc-modified-id=\"Introducción-1\"><span class=\"toc-item-num\">1&nbsp;&nbsp;</span>Introducción</a></span></li><li><span><a href=\"#Datos-de-tipo-Series\" data-toc-modified-id=\"Datos-de-tipo-Series-2\"><span class=\"toc-item-num\">2&nbsp;&nbsp;</span>Datos de tipo Series</a></span><ul class=\"toc-item\"><li><span><a href=\"#Obteniendo-datos-de-Series\" data-toc-modified-id=\"Obteniendo-datos-de-Series-2.1\"><span class=\"toc-item-num\">2.1&nbsp;&nbsp;</span>Obteniendo datos de Series</a></span></li></ul></li><li><span><a href=\"#Datos-de-tipo-DataFrame\" data-toc-modified-id=\"Datos-de-tipo-DataFrame-3\"><span class=\"toc-item-num\">3&nbsp;&nbsp;</span>Datos de tipo DataFrame</a></span></li><li><span><a href=\"#Datos-de-tipo-Panel\" data-toc-modified-id=\"Datos-de-tipo-Panel-4\"><span class=\"toc-item-num\">4&nbsp;&nbsp;</span>Datos de tipo Panel</a></span><ul class=\"toc-item\"><li><span><a href=\"#¿-Cómo-crear-un-Panel\" data-toc-modified-id=\"¿-Cómo-crear-un-Panel-4.1\"><span class=\"toc-item-num\">4.1&nbsp;&nbsp;</span>¿ Cómo crear un Panel</a></span></li><li><span><a href=\"#Seleccionar-datos-de-un-Panel\" data-toc-modified-id=\"Seleccionar-datos-de-un-Panel-4.2\"><span class=\"toc-item-num\">4.2&nbsp;&nbsp;</span>Seleccionar datos de un Panel</a></span></li></ul></li><li><span><a href=\"#Trabajando-con-Pandas\" data-toc-modified-id=\"Trabajando-con-Pandas-5\"><span class=\"toc-item-num\">5&nbsp;&nbsp;</span>Trabajando con Pandas</a></span></li><li><span><a href=\"#Indexar-y-seleccionar-datos\" data-toc-modified-id=\"Indexar-y-seleccionar-datos-6\"><span class=\"toc-item-num\">6&nbsp;&nbsp;</span>Indexar y seleccionar datos</a></span><ul class=\"toc-item\"><li><span><a href=\"#Indexación-con-.loc()\" data-toc-modified-id=\"Indexación-con-.loc()-6.1\"><span class=\"toc-item-num\">6.1&nbsp;&nbsp;</span>Indexación con .loc()</a></span></li><li><span><a href=\"#Indexación-con-.iloc()\" data-toc-modified-id=\"Indexación-con-.iloc()-6.2\"><span class=\"toc-item-num\">6.2&nbsp;&nbsp;</span>Indexación con .iloc()</a></span></li><li><span><a href=\"#Indexación-con-.ix()\" data-toc-modified-id=\"Indexación-con-.ix()-6.3\"><span class=\"toc-item-num\">6.3&nbsp;&nbsp;</span>Indexación con .ix()</a></span></li></ul></li><li><span><a href=\"#Pipeline-en-Pandas\" data-toc-modified-id=\"Pipeline-en-Pandas-7\"><span class=\"toc-item-num\">7&nbsp;&nbsp;</span>Pipeline en Pandas</a></span></li><li><span><a href=\"#Propiedad-GroupBy\" data-toc-modified-id=\"Propiedad-GroupBy-8\"><span class=\"toc-item-num\">8&nbsp;&nbsp;</span>Propiedad GroupBy</a></span></li><li><span><a href=\"#Gráficos-con-Pandas\" data-toc-modified-id=\"Gráficos-con-Pandas-9\"><span class=\"toc-item-num\">9&nbsp;&nbsp;</span>Gráficos con Pandas</a></span></li></ul></div>"
   ]
  },
  {
   "cell_type": "markdown",
   "metadata": {},
   "source": [
    "# Introducción\n",
    "\n",
    "En post's anteriores ya hemos hecho una presentación el paquete de Python **ampliamente utilizado por la comunidad de machine learning** denominado Pandas. En esta ocasión vamos a entrar con un poco más de detalle en la utilización de esta herramienta.\n",
    "\n",
    "Antes de nada decir que el paquete Pandas es un producto de código abierto y por lo tanto totalmente gratuito, que ofrece grandes prestaciones para el análisis de datos de una forma además muy fácil de manejar. Son muchos los campos de la actividad humana donde es necesario utilizar Pandas, pero es en concreto en el ámbito de machine learning, donde junto a numpy ofrece grandes prestaciones.\n",
    "\n",
    "Es indudable que un paquete con las prestaciones que ofrece Pandas es imposible de abordar y de manejar dentro de la limitación que ofrece un post, por este motivo en lo que sigue se mostrarán unas pocas características del paquete, y se deja al lector interesado que [acuda a este enlace](https://pandas.pydata.org/){:target=\"_blank\"} para que pueda adquirir en su total amplitud las posibilidades que ofrece Pandas.\n",
    "\n",
    "La instalación de Pandas dentro de Python es sumamente fácil. Simplemente con introducir la siguiente instrucción en la pantalla de comandos de windows *pip install pandas* ya se tendría Pandas lista para poder ser utilizado y poder trabajar con él.\n",
    "\n",
    "Este paquete posee basicamente tres estructuras de datos:\n",
    "\n",
    "* Series. Utilzadas en estructuras de datos con dimensión 1.\n",
    "* DataFrame. Utilizado en estructuras de datos con dimensión 2.\n",
    "* Panel. Utilizado en estructuras de datos con dimensión 3.\n",
    "\n",
    "En Pandas, los datos contenido dentro de una **Serie son inmutables** ( no se pueden cambiar ), pero los datos almacenados en **Dataframes o de tipo Panel son mutables**, es decir se pueden cambiar en el proceso de trabajo con los datos.\n",
    "\n"
   ]
  },
  {
   "cell_type": "markdown",
   "metadata": {},
   "source": [
    "# Datos de tipo Series\n",
    "\n",
    "Como ya hemos comentado anteriormente, este tipo de datos son **estructuras unidimensionales de tipo inmutable** que pueden contener datos de cualquier tipo ( enteros, caracteres, float, objetos de tipo Python, etc. ).\n",
    "\n",
    "Un constructor utilizado para obtener este tipo de estructuras, puede ser el que se muestra a continuación:\n",
    "\n",
    ">  pandas.Series(data=None, index=None, dtype=None, name=None, copy=False, fastpath=False)\n",
    "\n",
    "Los parámetross que vemos en el constructor significan los siguiente:\n",
    "\n",
    "* **data**. Puede ser un np.array, una lista o constantes.\n",
    "* **index**. Debe ser un conjunto de valores no repetidos.\n",
    "* **dtype**. Es el tipo de datos con el que se rabaja.\n",
    "* **copy**. Para copiar o no los datos. El valor por defecto es False. \n",
    "\n",
    "Este tipo de datos se puede crear desde: un np.array, un diccionario o valores escalares.\n",
    "\n",
    "Veamos a continuación cómo crear este tipo de datos:"
   ]
  },
  {
   "cell_type": "code",
   "execution_count": 1,
   "metadata": {},
   "outputs": [
    {
     "name": "stdout",
     "output_type": "stream",
     "text": [
      "Series([], dtype: float64)\n"
     ]
    }
   ],
   "source": [
    "#Primero importamos la libreria y decimos que nos referimos a ella con pd\n",
    "import pandas as pd\n",
    "s=pd.Series()\n",
    "print(s)\n",
    "#Vemos nos devuelve un objeto vacio con el tipo de datos por defecto float64"
   ]
  },
  {
   "cell_type": "markdown",
   "metadata": {},
   "source": [
    "Crearemos a un objeto Series, partiendo de un numpy.array "
   ]
  },
  {
   "cell_type": "code",
   "execution_count": 2,
   "metadata": {},
   "outputs": [
    {
     "name": "stdout",
     "output_type": "stream",
     "text": [
      "0        Pedro\n",
      "1         Juan\n",
      "2       Marisa\n",
      "3    Ferdinand\n",
      "dtype: object\n"
     ]
    }
   ],
   "source": [
    "import pandas as pd\n",
    "#Importamos la librería numpy que tambien es muy usada en machine learning\n",
    "import numpy as np\n",
    "\n",
    "data=np.array(['Pedro','Juan','Marisa','Ferdinand'])\n",
    "#Ahora creamos datos tipo Series\n",
    "datos= pd.Series(data)\n",
    "print(datos)\n",
    "\n",
    "#Observemos la primera columna que se obtiene, es el índice que por defecto se crea"
   ]
  },
  {
   "cell_type": "markdown",
   "metadata": {},
   "source": [
    "Ahora creamos un objeto similar al anterior, pero con un índice diferente."
   ]
  },
  {
   "cell_type": "code",
   "execution_count": 3,
   "metadata": {},
   "outputs": [
    {
     "name": "stdout",
     "output_type": "stream",
     "text": [
      "20        Pedro\n",
      "21         Juan\n",
      "22       Marisa\n",
      "23    Ferdinand\n",
      "dtype: object\n"
     ]
    }
   ],
   "source": [
    "data=np.array(['Pedro','Juan','Marisa','Ferdinand'])\n",
    "#Ahora creamos datos tipo Series pero con un deteminado índice\n",
    "datos= pd.Series(data,index=[20,21,22,23])\n",
    "print(datos)"
   ]
  },
  {
   "cell_type": "markdown",
   "metadata": {},
   "source": [
    "Como ya se ha dicho en apartados anteriores, también se puede crear este tipo de datos utilizando un objeto de Python denominado diccionario. En este caso las claves del diccionario, se uilizan para crear el índice y los valores, serían los valores del objeto series que se está creando."
   ]
  },
  {
   "cell_type": "code",
   "execution_count": 4,
   "metadata": {},
   "outputs": [
    {
     "name": "stdout",
     "output_type": "stream",
     "text": [
      "cuatro    4\n",
      "dos       2\n",
      "tres      3\n",
      "unos      1\n",
      "dtype: int64\n"
     ]
    }
   ],
   "source": [
    "import pandas as pd\n",
    "import numpy as np\n",
    "datos={'unos':1,'dos':2,'tres':3,'cuatro':4}\n",
    "s=pd.Series(datos)\n",
    "print(s)"
   ]
  },
  {
   "cell_type": "markdown",
   "metadata": {},
   "source": [
    "Por último y para concluir la presentación de la creación de Serie, veamos un ejemplo de cómo generar este tipo de datos mediante la utilización de un escalar."
   ]
  },
  {
   "cell_type": "code",
   "execution_count": 1,
   "metadata": {},
   "outputs": [
    {
     "name": "stdout",
     "output_type": "stream",
     "text": [
      "3    5\n",
      "6    5\n",
      "7    5\n",
      "9    5\n",
      "dtype: int64\n"
     ]
    }
   ],
   "source": [
    "import pandas as pd\n",
    "\n",
    "datos=pd.Series(5,index=([3,6,7,9]))\n",
    "print(datos)"
   ]
  },
  {
   "cell_type": "markdown",
   "metadata": {},
   "source": [
    "## Obteniendo datos de Series\n",
    "\n",
    "En los apartados anteriores hemos podido ver cómo crear elementos del tipo Series, ahora ya estariamos en condiciones para poder extraer la información que previamente se ha almacenado. Para conseguir esto existen diferentes formas que a continuación se pasan a exponer con los ejemplos que se presentan."
   ]
  },
  {
   "cell_type": "code",
   "execution_count": 15,
   "metadata": {},
   "outputs": [
    {
     "name": "stdout",
     "output_type": "stream",
     "text": [
      "Extraemos el primer elemento:  3\n",
      "Extraemos el tercer elemento: 2\n",
      "Extraemos los cuatro primeros elementos:\n",
      " uno       3\n",
      "dos       6\n",
      "tres      2\n",
      "cuatro    3\n",
      "dtype: int64\n",
      "Extraemos los dos elementos por la derecha: \n",
      " siete    2\n",
      "ocho     4\n",
      "dtype: int64\n",
      "Uso del index para extraer elementos: \n",
      " 6\n",
      "Saco varios elementos con el index: \n",
      " dos       6\n",
      "cuatro    3\n",
      "dtype: int64\n"
     ]
    }
   ],
   "source": [
    "# Primero elaboramos los datos.\n",
    "import pandas as pd\n",
    "datos=pd.Series([3,6,2,3,5,7,2,4],index=([\"uno\",\"dos\",\"tres\",\"cuatro\",\"cinco\",\n",
    "                                         \"seis\",\"siete\",\"ocho\"]))\n",
    "print(\"Extraemos el primer elemento: \",datos[0])\n",
    "print(\"Extraemos el tercer elemento:\",datos[2])\n",
    "print(\"Extraemos los cuatro primeros elementos:\\n\",datos[:4])\n",
    "print(\"Extraemos los dos elementos por la derecha: \\n\",datos[-2:])\n",
    "print(\"Uso del index para extraer elementos: \\n\", datos[\"dos\"])\n",
    "print(\"Saco varios elementos con el index: \\n\",datos[[\"dos\",\"cuatro\"]])"
   ]
  },
  {
   "cell_type": "markdown",
   "metadata": {},
   "source": [
    "# Datos de tipo DataFrame\n",
    "\n",
    "Como ya se ha dicho anteriormente, este tipo de datos tiene una estructura tabular y organiza los datos en un conjunto de filas y columnas. Este tipo de **datos es mutable** y por lo tanto admite cambios, así como etiquetas para denominar a sus filas o columnas.\n",
    "\n",
    "De acuerdo en el API que regula este tipo de datos, su constructor tiene el siguiente formato:\n",
    "\n",
    "> DataFrame([data, index, columns, dtype, copy])\n",
    "\n",
    "Donde el significado de los parámetros es similar a lo comentado en el apartado anterior.\n",
    "\n",
    "Este tipo de datos se puede construir utilizando como input datos del tipo:\n",
    "\n",
    "* Listas\n",
    "* Diccionarios\n",
    "* Series\n",
    "* Numpy arrays\n",
    "* Otros DataFrame\n",
    "\n",
    "A continuación podemos ver cómo construir un DataFrame vacío."
   ]
  },
  {
   "cell_type": "code",
   "execution_count": 16,
   "metadata": {},
   "outputs": [
    {
     "name": "stdout",
     "output_type": "stream",
     "text": [
      "Empty DataFrame\n",
      "Columns: []\n",
      "Index: []\n"
     ]
    }
   ],
   "source": [
    "import pandas as pd\n",
    "datos=pd.DataFrame()\n",
    "print(datos)"
   ]
  },
  {
   "cell_type": "markdown",
   "metadata": {},
   "source": [
    "Creamos un DataFrame **desde una lista** de elementos"
   ]
  },
  {
   "cell_type": "code",
   "execution_count": 21,
   "metadata": {},
   "outputs": [
    {
     "name": "stdout",
     "output_type": "stream",
     "text": [
      "   0\n",
      "0  3\n",
      "1  5\n",
      "2  2\n",
      "3  6\n",
      "4  3\n",
      "5  5\n",
      "6  8\n",
      "La media seria:  0    4.571429\n",
      "dtype: float64\n",
      "El número de elementos, serían:  0    7\n",
      "dtype: int64\n",
      "La suma acumuada es:      0\n",
      "0   3\n",
      "1   8\n",
      "2  10\n",
      "3  16\n",
      "4  19\n",
      "5  24\n",
      "6  32\n"
     ]
    }
   ],
   "source": [
    "import pandas as pd\n",
    "d=[3,5,2,6,3,5,8]\n",
    "datos=pd.DataFrame(d)\n",
    "print(datos)\n",
    "#Obtenemos algún tipo de información utilizando algún atributo\n",
    "print(\"La media seria: \", datos.mean())\n",
    "print(\"El número de elementos, serían: \", datos.count())\n",
    "print(\"La suma acumuada es: \", datos.cumsum())"
   ]
  },
  {
   "cell_type": "markdown",
   "metadata": {},
   "source": [
    "Crearemos a continuación un DataFrame con dos columnas de la siguiente manera."
   ]
  },
  {
   "cell_type": "code",
   "execution_count": 32,
   "metadata": {},
   "outputs": [
    {
     "name": "stdout",
     "output_type": "stream",
     "text": [
      "Tipo datos d: <class 'list'>\n",
      "     Nombre  Edad\n",
      "0      luis  35.0\n",
      "1     Maria  24.0\n",
      "2  Fernando  45.0\n",
      "3  Mercedes  27.0\n",
      "\n",
      " Si queremos trabajar con datos de tipo entero \n",
      "\n",
      "     Nombre  Edad\n",
      "0      luis    35\n",
      "1     Maria    24\n",
      "2  Fernando    45\n",
      "3  Mercedes    27\n",
      "\n",
      " Los tipos de datos serían:\n"
     ]
    },
    {
     "data": {
      "text/plain": [
       "Nombre    object\n",
       "Edad       int32\n",
       "dtype: object"
      ]
     },
     "execution_count": 32,
     "metadata": {},
     "output_type": "execute_result"
    }
   ],
   "source": [
    "import pandas as pd\n",
    "#Generamos una lista de elementos\n",
    "d=[[\"Luis\",35],[\"Maria\",24],[\"Fernando\",45],[\"Mercedes\",27]]\n",
    "print(\"Tipo datos d:\",type(d))\n",
    "datos=pd.DataFrame(d,columns=[\"Nombre\",\"Edad\"],dtype=float)\n",
    "print(datos)\n",
    "# Ahora los datos serían enteros\n",
    "print(\"\\n Si queremos trabajar con datos de tipo entero \\n\")\n",
    "datos2=pd.DataFrame(d,columns=[\"Nombre\",\"Edad\"],dtype=int)\n",
    "print(datos2)\n",
    "print(\"\\n Los tipos de datos serían:\")\n",
    "datos2.dtypes"
   ]
  },
  {
   "cell_type": "markdown",
   "metadata": {},
   "source": [
    "Hagamos lo mismo que antes pero utilizando un diccionario que contiene listas o np.array-"
   ]
  },
  {
   "cell_type": "code",
   "execution_count": 33,
   "metadata": {},
   "outputs": [
    {
     "name": "stdout",
     "output_type": "stream",
     "text": [
      "   Edad    Nombre\n",
      "0    35      Luis\n",
      "1    24     Maria\n",
      "2    45  Fernando\n",
      "3    27  Mercedes\n"
     ]
    }
   ],
   "source": [
    "import pandas as pd\n",
    "d={'Nombre':['Luis','Maria','Fernando','Mercedes'],'Edad':[35,24,45,27]}\n",
    "datos=pd.DataFrame(d)\n",
    "print(datos)"
   ]
  },
  {
   "cell_type": "markdown",
   "metadata": {},
   "source": [
    "Igualmente se puede construir un DataFrame vía una lista de diccionarios, en el siguiente ejemplo se indica cómo hacerlo."
   ]
  },
  {
   "cell_type": "code",
   "execution_count": 35,
   "metadata": {},
   "outputs": [
    {
     "name": "stdout",
     "output_type": "stream",
     "text": [
      "   Edad    Nombre\n",
      "0    35      luis\n",
      "1    24     Maria\n",
      "2    45  Fernando\n",
      "3    27  Mercedea\n"
     ]
    }
   ],
   "source": [
    "#Como pandas ya lo tenemos cargado de celdas anteriores, no es necesario\n",
    "#hacerlo aquí, pero a efectos didácticos se incluye de nuevo\n",
    "import pandas as pd\n",
    "d=[{'Nombre':'luis','Edad':35},{'Nombre':'Maria','Edad':24},{'Nombre':'Fernando','Edad':45},\n",
    "  {'Nombre':'Mercedea','Edad':27}]\n",
    "datos=pd.DataFrame(d)\n",
    "print(datos)"
   ]
  },
  {
   "cell_type": "markdown",
   "metadata": {},
   "source": [
    "Veamos a continuación un ejemplo de construcción de un DataFrame, utilizando para ello un diccionario de Series. "
   ]
  },
  {
   "cell_type": "code",
   "execution_count": 40,
   "metadata": {},
   "outputs": [
    {
     "name": "stdout",
     "output_type": "stream",
     "text": [
      "    primero  segundo\n",
      "a1      2.0        4\n",
      "a2      4.0        2\n",
      "a3      3.0        7\n",
      "a4      7.0        9\n",
      "a5      NaN        2\n"
     ]
    }
   ],
   "source": [
    "d={\n",
    "    'primero':pd.Series([2,4,3,7],index=['a1','a2','a3','a4']),\n",
    "    'segundo':pd.Series([4,2,7,9,2],index=['a1','a2','a3','a4','a5'])\n",
    "}\n",
    "datos=pd.DataFrame(d)\n",
    "print(datos)"
   ]
  },
  {
   "cell_type": "markdown",
   "metadata": {},
   "source": [
    "Si del anterior DataFrame quisiéramos seleccionar alguna columna, se podría hacer de la siguiente manera."
   ]
  },
  {
   "cell_type": "code",
   "execution_count": 41,
   "metadata": {},
   "outputs": [
    {
     "data": {
      "text/plain": [
       "a1    2.0\n",
       "a2    4.0\n",
       "a3    3.0\n",
       "a4    7.0\n",
       "a5    NaN\n",
       "Name: primero, dtype: float64"
      ]
     },
     "execution_count": 41,
     "metadata": {},
     "output_type": "execute_result"
    }
   ],
   "source": [
    "datos['primero']"
   ]
  },
  {
   "cell_type": "markdown",
   "metadata": {},
   "source": [
    "Si queremos borrar una columna del DataFrame anterior, se haría de la siguiente manera."
   ]
  },
  {
   "cell_type": "code",
   "execution_count": 42,
   "metadata": {},
   "outputs": [
    {
     "name": "stdout",
     "output_type": "stream",
     "text": [
      "    segundo\n",
      "a1        4\n",
      "a2        2\n",
      "a3        7\n",
      "a4        9\n",
      "a5        2\n"
     ]
    }
   ],
   "source": [
    "del datos['primero']\n",
    "print(datos)"
   ]
  },
  {
   "cell_type": "markdown",
   "metadata": {},
   "source": [
    "Igualmente se puede borrar una columna, utilizando la propiedad pop. A continuación un ejemplo sobre cómo hacerlo."
   ]
  },
  {
   "cell_type": "code",
   "execution_count": 43,
   "metadata": {},
   "outputs": [
    {
     "name": "stdout",
     "output_type": "stream",
     "text": [
      "    segundo\n",
      "a1        4\n",
      "a2        2\n",
      "a3        7\n",
      "a4        9\n",
      "a5        2\n"
     ]
    }
   ],
   "source": [
    "d={\n",
    "    'primero':pd.Series([2,4,3,7],index=['a1','a2','a3','a4']),\n",
    "    'segundo':pd.Series([4,2,7,9,2],index=['a1','a2','a3','a4','a5'])\n",
    "}\n",
    "datos=pd.DataFrame(d)\n",
    "datos.pop('primero')\n",
    "print(datos)"
   ]
  },
  {
   "cell_type": "markdown",
   "metadata": {},
   "source": [
    "Para borrar filas, se utiliza la propiedad drop. Veamos cómo hacer en el ejemplo siguiente:"
   ]
  },
  {
   "cell_type": "code",
   "execution_count": 47,
   "metadata": {},
   "outputs": [
    {
     "name": "stdout",
     "output_type": "stream",
     "text": [
      "    segundo\n",
      "a1        4\n",
      "a3        7\n",
      "a5        2\n"
     ]
    }
   ],
   "source": [
    "#Borramos filas 2 y 4\n",
    "datos=datos.drop(['a2','a4'],axis=0)\n",
    "print(datos)"
   ]
  },
  {
   "cell_type": "markdown",
   "metadata": {},
   "source": [
    "# Datos de tipo Panel\n",
    "\n",
    "Como ya se ha dicho esta estructura de datos se utiliza para datos estructurados en tres dimensiones.\n",
    "\n",
    "En este tipo de estructuras, se dispone de una nomenclatura propia para hacer referencia a cada uno de los tres ejes con los que se trabaja. Esta nomenclatura es la siguiente:\n",
    "\n",
    "* **items**: Hace referencia al eje 0. Cada uno de estos item's hace referencia a un DataFrame que lo contiene.\n",
    "* **major_axis**: Hace referencia al eje 1, son las filas de cada uno de los DataFrame con los que se trabaja.\n",
    "* **minor_axis**: Hace referencia al eje 2, son las columnas de cada uno de los DataFrame con los que se trabaja.\n",
    "\n",
    "El contructor de este tipo de objetos es el siguiente:\n",
    "\n",
    ">  pandas.Panel(data=None, items=None, major_axis=None, minor_axis=None, copy=False, dtype=None)\n",
    "\n",
    "El significado de cada uno de los parámetros es el ya comentado anteriormente, salvo los nuevos que se comentan a continuación:\n",
    "\n",
    "* items. Los índices que correspondem al eje 0\n",
    "* major_axis. Los índices que corresponden al eje 1\n",
    "* minos_axis. Los índices que corresponden al eje 2\n",
    "\n",
    "## ¿ Cómo crear un Panel ##\n",
    "\n",
    "Para crear este tipo de datos, se puede utilizar:\n",
    "\n",
    "* numpy arrays\n",
    "* Diccionario de DataFrames\n",
    "\n",
    "A continuación y a efectos meramente didacticos, se muestra cómo poder crear un Panel desde un numpy array que contiene números aleatorios."
   ]
  },
  {
   "cell_type": "code",
   "execution_count": 48,
   "metadata": {},
   "outputs": [
    {
     "name": "stdout",
     "output_type": "stream",
     "text": [
      "Tipo de d:  <class 'numpy.ndarray'>\n",
      "<class 'pandas.core.panel.Panel'>\n",
      "Dimensions: 3 (items) x 2 (major_axis) x 4 (minor_axis)\n",
      "Items axis: 0 to 2\n",
      "Major_axis axis: 0 to 1\n",
      "Minor_axis axis: 0 to 3\n"
     ]
    }
   ],
   "source": [
    "import pandas as pd\n",
    "import numpy as np\n",
    "\n",
    "d= np.random.rand(3,2,4)\n",
    "print(\"Tipo de d: \",type(d))\n",
    "datos=pd.Panel(d)\n",
    "print(datos)"
   ]
  },
  {
   "cell_type": "markdown",
   "metadata": {},
   "source": [
    "Para construirlo desde un diccionario de objetos de tipo DataFrame, se haría de la siguiente manera:"
   ]
  },
  {
   "cell_type": "code",
   "execution_count": 51,
   "metadata": {},
   "outputs": [
    {
     "name": "stdout",
     "output_type": "stream",
     "text": [
      "<class 'pandas.core.panel.Panel'>\n",
      "Dimensions: 3 (items) x 6 (major_axis) x 1 (minor_axis)\n",
      "Items axis: dos to uno\n",
      "Major_axis axis: 0 to 5\n",
      "Minor_axis axis: 0 to 0\n"
     ]
    }
   ],
   "source": [
    "d={\n",
    "    'uno':pd.DataFrame([1,3,5,7,8,5]),\n",
    "    'dos':pd.DataFrame([4,2,5,6,7,8]),\n",
    "    'tres':pd.DataFrame([4,1,6,3,7,2])\n",
    "}\n",
    "datos=pd.Panel(d)\n",
    "print(datos)"
   ]
  },
  {
   "cell_type": "markdown",
   "metadata": {},
   "source": [
    "## Seleccionar datos de un Panel\n",
    "\n",
    "La forma de seleccionar datos de una estrutura de datos de tipo Panel, es similar a como se ha hecho con otros objetos, pero dado que aquí se está trabajando con tres dimensiones, presenta ciertas pecuiaridades que se pretenden aclarar con los siguientes ejemplos:"
   ]
  },
  {
   "cell_type": "code",
   "execution_count": 52,
   "metadata": {},
   "outputs": [
    {
     "name": "stdout",
     "output_type": "stream",
     "text": [
      "Tipo de datos de a:  <class 'pandas.core.frame.DataFrame'>\n",
      "   0\n",
      "0  1\n",
      "1  3\n",
      "2  5\n",
      "3  7\n",
      "4  8\n",
      "5  5\n"
     ]
    }
   ],
   "source": [
    "a=datos['uno']\n",
    "print(\"Tipo de datos de a: \",type(a))\n",
    "print(a)"
   ]
  },
  {
   "cell_type": "markdown",
   "metadata": {},
   "source": [
    "Para ver cómo hacer para seleccionara través de los ejes 2 y 3, vamos a crear un Panel con más datos que el construido anteriormente."
   ]
  },
  {
   "cell_type": "code",
   "execution_count": 76,
   "metadata": {},
   "outputs": [
    {
     "name": "stdout",
     "output_type": "stream",
     "text": [
      "<class 'pandas.core.panel.Panel'>\n",
      "Dimensions: 2 (items) x 5 (major_axis) x 3 (minor_axis)\n",
      "Items axis: dos to uno\n",
      "Major_axis axis: 0 to 4\n",
      "Minor_axis axis: 0 to 2\n"
     ]
    }
   ],
   "source": [
    "#establezco primero una semilla para sacar siempre el mismo resultado\n",
    "np.random.seed(20) \n",
    "d={\n",
    "    'uno':pd.DataFrame(np.random.randn(4,3)),\n",
    "    'dos':pd.DataFrame(np.random.randn(5,2))\n",
    "}\n",
    "datos=pd.Panel(d)\n",
    "print(datos)\n"
   ]
  },
  {
   "cell_type": "code",
   "execution_count": 77,
   "metadata": {},
   "outputs": [
    {
     "name": "stdout",
     "output_type": "stream",
     "text": [
      "          0         1         2\n",
      "0  0.883893  0.195865  0.357537\n",
      "1 -2.343262 -1.084833  0.559696\n",
      "2  0.939469 -0.978481  0.503097\n",
      "3  0.406414  0.323461 -0.493411\n",
      "4       NaN       NaN       NaN \n",
      "\n",
      "          0         1   2\n",
      "0 -0.792017 -0.842368 NaN\n",
      "1 -1.279503  0.245715 NaN\n",
      "2 -0.044195  1.567633 NaN\n",
      "3  1.051109  0.406368 NaN\n",
      "4 -0.168646 -3.189703 NaN \n",
      "\n"
     ]
    }
   ],
   "source": [
    "print(datos['uno'],\"\\n\")\n",
    "print(datos['dos'],\"\\n\")"
   ]
  },
  {
   "cell_type": "code",
   "execution_count": 78,
   "metadata": {},
   "outputs": [
    {
     "name": "stdout",
     "output_type": "stream",
     "text": [
      "        dos       uno\n",
      "0 -1.279503 -2.343262\n",
      "1  0.245715 -1.084833\n",
      "2       NaN  0.559696\n"
     ]
    }
   ],
   "source": [
    "#Saca la la segunda fila (con disposición de columna) de cada \n",
    "#uno de los DataFrame con los que se trabaja\n",
    "print(datos.major_xs(1) )"
   ]
  },
  {
   "cell_type": "code",
   "execution_count": 79,
   "metadata": {},
   "outputs": [
    {
     "name": "stdout",
     "output_type": "stream",
     "text": [
      "   dos       uno\n",
      "0  NaN  0.357537\n",
      "1  NaN  0.559696\n",
      "2  NaN  0.503097\n",
      "3  NaN -0.493411\n",
      "4  NaN       NaN\n"
     ]
    }
   ],
   "source": [
    "#Sacaría la tercera columna de cada uno de los dos DataFrame anteriores\n",
    "print(datos.minor_xs(2))"
   ]
  },
  {
   "cell_type": "markdown",
   "metadata": {},
   "source": [
    "# Trabajando con Pandas\n",
    "\n",
    "Pandas cuenta con una ámplia gama de funciones y propiedades para poder conseguir muchos objetivos. Debido a que todas esas funciones y propiedades es imposible abarcarlas en el presente post, a continuación se da indicación de donde poder encontrarla para cada uno de los tres objetos mostrados en párrafos anteriores.\n",
    "\n",
    "* Para Serie: [Click en este enlace](http://pandas.pydata.org/pandas-docs/stable/api.html#series){:target=\"_blank\"}\n",
    "* Para DataFrame: [Click en este enlace](http://pandas.pydata.org/pandas-docs/stable/api.html#dataframe){:target=\"_blank\"}\n",
    "* Para Panel: [Click en este enlace](http://pandas.pydata.org/pandas-docs/stable/api.html#panel){:target=\"_blank\"}\n",
    "\n",
    "No obstante y a efectos meramente ilustrativos, a continuación se muestran algunos ejemplos sobre la forma de operar con estas funciones o propiedades.\n",
    "\n",
    "Para realizar algunos ejemplos, vamos a utilizar el popular fichero denominado \"Iris.csv\". Es un conjunto de datos que lo extraemos de <https://archive.ics.uci.edu/ml/index.php>. Para poder leer sus datos los hacemos con la instrucción:\n",
    "\n",
    "> pandas.read_csv(....)\n",
    "\n",
    "En concreto la instrucción que se utilizará será la siguiente:"
   ]
  },
  {
   "cell_type": "code",
   "execution_count": 3,
   "metadata": {
    "collapsed": true
   },
   "outputs": [],
   "source": [
    "d=pd.read_csv(\"https://archive.ics.uci.edu/ml/machine-learning-databases/iris/iris.data\",\n",
    "             names=['slength','swidth','plength','pwidth','tipo'],header=None )\n"
   ]
  },
  {
   "cell_type": "markdown",
   "metadata": {},
   "source": [
    "Para ver los datos con los que estamos trabajando, podemos utilizar las **propiedades head() y tail()** que nos muestran tanto los datos iniciales como los finales"
   ]
  },
  {
   "cell_type": "code",
   "execution_count": 17,
   "metadata": {},
   "outputs": [
    {
     "name": "stdout",
     "output_type": "stream",
     "text": [
      "   slength  swidth  plength  pwidth         tipo\n",
      "0      5.1     3.5      1.4     0.2  Iris-setosa\n",
      "1      4.9     3.0      1.4     0.2  Iris-setosa\n",
      "2      4.7     3.2      1.3     0.2  Iris-setosa\n",
      "3      4.6     3.1      1.5     0.2  Iris-setosa\n",
      "4      5.0     3.6      1.4     0.2  Iris-setosa \n",
      "\n",
      "     slength  swidth  plength  pwidth            tipo\n",
      "145      6.7     3.0      5.2     2.3  Iris-virginica\n",
      "146      6.3     2.5      5.0     1.9  Iris-virginica\n",
      "147      6.5     3.0      5.2     2.0  Iris-virginica\n",
      "148      6.2     3.4      5.4     2.3  Iris-virginica\n",
      "149      5.9     3.0      5.1     1.8  Iris-virginica \n",
      "\n",
      "<class 'pandas.core.frame.DataFrame'>\n"
     ]
    }
   ],
   "source": [
    "print(d.head(),\"\\n\")\n",
    "\n",
    "print(d.tail(),\"\\n\")\n",
    "\n",
    "print(type(d))"
   ]
  },
  {
   "cell_type": "code",
   "execution_count": 18,
   "metadata": {},
   "outputs": [
    {
     "data": {
      "text/html": [
       "<div>\n",
       "<style>\n",
       "    .dataframe thead tr:only-child th {\n",
       "        text-align: right;\n",
       "    }\n",
       "\n",
       "    .dataframe thead th {\n",
       "        text-align: left;\n",
       "    }\n",
       "\n",
       "    .dataframe tbody tr th {\n",
       "        vertical-align: top;\n",
       "    }\n",
       "</style>\n",
       "<table border=\"1\" class=\"dataframe\">\n",
       "  <thead>\n",
       "    <tr style=\"text-align: right;\">\n",
       "      <th></th>\n",
       "      <th>slength</th>\n",
       "      <th>swidth</th>\n",
       "      <th>plength</th>\n",
       "      <th>pwidth</th>\n",
       "    </tr>\n",
       "  </thead>\n",
       "  <tbody>\n",
       "    <tr>\n",
       "      <th>count</th>\n",
       "      <td>150.000000</td>\n",
       "      <td>150.000000</td>\n",
       "      <td>150.000000</td>\n",
       "      <td>150.000000</td>\n",
       "    </tr>\n",
       "    <tr>\n",
       "      <th>mean</th>\n",
       "      <td>5.843333</td>\n",
       "      <td>3.054000</td>\n",
       "      <td>3.758667</td>\n",
       "      <td>1.198667</td>\n",
       "    </tr>\n",
       "    <tr>\n",
       "      <th>std</th>\n",
       "      <td>0.828066</td>\n",
       "      <td>0.433594</td>\n",
       "      <td>1.764420</td>\n",
       "      <td>0.763161</td>\n",
       "    </tr>\n",
       "    <tr>\n",
       "      <th>min</th>\n",
       "      <td>4.300000</td>\n",
       "      <td>2.000000</td>\n",
       "      <td>1.000000</td>\n",
       "      <td>0.100000</td>\n",
       "    </tr>\n",
       "    <tr>\n",
       "      <th>25%</th>\n",
       "      <td>5.100000</td>\n",
       "      <td>2.800000</td>\n",
       "      <td>1.600000</td>\n",
       "      <td>0.300000</td>\n",
       "    </tr>\n",
       "    <tr>\n",
       "      <th>50%</th>\n",
       "      <td>5.800000</td>\n",
       "      <td>3.000000</td>\n",
       "      <td>4.350000</td>\n",
       "      <td>1.300000</td>\n",
       "    </tr>\n",
       "    <tr>\n",
       "      <th>75%</th>\n",
       "      <td>6.400000</td>\n",
       "      <td>3.300000</td>\n",
       "      <td>5.100000</td>\n",
       "      <td>1.800000</td>\n",
       "    </tr>\n",
       "    <tr>\n",
       "      <th>max</th>\n",
       "      <td>7.900000</td>\n",
       "      <td>4.400000</td>\n",
       "      <td>6.900000</td>\n",
       "      <td>2.500000</td>\n",
       "    </tr>\n",
       "  </tbody>\n",
       "</table>\n",
       "</div>"
      ],
      "text/plain": [
       "          slength      swidth     plength      pwidth\n",
       "count  150.000000  150.000000  150.000000  150.000000\n",
       "mean     5.843333    3.054000    3.758667    1.198667\n",
       "std      0.828066    0.433594    1.764420    0.763161\n",
       "min      4.300000    2.000000    1.000000    0.100000\n",
       "25%      5.100000    2.800000    1.600000    0.300000\n",
       "50%      5.800000    3.000000    4.350000    1.300000\n",
       "75%      6.400000    3.300000    5.100000    1.800000\n",
       "max      7.900000    4.400000    6.900000    2.500000"
      ]
     },
     "execution_count": 18,
     "metadata": {},
     "output_type": "execute_result"
    }
   ],
   "source": [
    "#Con la propiedad describe() podemos sacar las estadísticas básicas de las columnas numéricas\n",
    "d.describe()"
   ]
  },
  {
   "cell_type": "markdown",
   "metadata": {},
   "source": [
    "A conntnuación procedemos a calcular algunas propiedades útiles de los datos obtenidos"
   ]
  },
  {
   "cell_type": "code",
   "execution_count": 20,
   "metadata": {},
   "outputs": [
    {
     "name": "stdout",
     "output_type": "stream",
     "text": [
      "La correlación entre las columnas numéricas es: \n",
      "           slength    swidth   plength    pwidth\n",
      "slength  1.000000 -0.109369  0.871754  0.817954\n",
      "swidth  -0.109369  1.000000 -0.420516 -0.356544\n",
      "plength  0.871754 -0.420516  1.000000  0.962757\n",
      "pwidth   0.817954 -0.356544  0.962757  1.000000\n"
     ]
    }
   ],
   "source": [
    "print(\"La correlación entre las columnas numéricas es: \\n\",d.corr())"
   ]
  },
  {
   "cell_type": "code",
   "execution_count": 21,
   "metadata": {},
   "outputs": [
    {
     "name": "stdout",
     "output_type": "stream",
     "text": [
      "La covarianza entre las columnas numéricas es: \n",
      "           slength    swidth   plength    pwidth\n",
      "slength  0.685694 -0.039268  1.273682  0.516904\n",
      "swidth  -0.039268  0.188004 -0.321713 -0.117981\n",
      "plength  1.273682 -0.321713  3.113179  1.296387\n",
      "pwidth   0.516904 -0.117981  1.296387  0.582414\n"
     ]
    }
   ],
   "source": [
    "print(\"La covarianza entre las columnas numéricas es: \\n\",d.cov())"
   ]
  },
  {
   "cell_type": "code",
   "execution_count": 22,
   "metadata": {},
   "outputs": [
    {
     "name": "stdout",
     "output_type": "stream",
     "text": [
      "El máximo acumulado es: \n",
      "     slength swidth plength pwidth            tipo\n",
      "0       5.1    3.5     1.4    0.2     Iris-setosa\n",
      "1       5.1    3.5     1.4    0.2     Iris-setosa\n",
      "2       5.1    3.5     1.4    0.2     Iris-setosa\n",
      "3       5.1    3.5     1.5    0.2     Iris-setosa\n",
      "4       5.1    3.6     1.5    0.2     Iris-setosa\n",
      "5       5.4    3.9     1.7    0.4     Iris-setosa\n",
      "6       5.4    3.9     1.7    0.4     Iris-setosa\n",
      "7       5.4    3.9     1.7    0.4     Iris-setosa\n",
      "8       5.4    3.9     1.7    0.4     Iris-setosa\n",
      "9       5.4    3.9     1.7    0.4     Iris-setosa\n",
      "10      5.4    3.9     1.7    0.4     Iris-setosa\n",
      "11      5.4    3.9     1.7    0.4     Iris-setosa\n",
      "12      5.4    3.9     1.7    0.4     Iris-setosa\n",
      "13      5.4    3.9     1.7    0.4     Iris-setosa\n",
      "14      5.8      4     1.7    0.4     Iris-setosa\n",
      "15      5.8    4.4     1.7    0.4     Iris-setosa\n",
      "16      5.8    4.4     1.7    0.4     Iris-setosa\n",
      "17      5.8    4.4     1.7    0.4     Iris-setosa\n",
      "18      5.8    4.4     1.7    0.4     Iris-setosa\n",
      "19      5.8    4.4     1.7    0.4     Iris-setosa\n",
      "20      5.8    4.4     1.7    0.4     Iris-setosa\n",
      "21      5.8    4.4     1.7    0.4     Iris-setosa\n",
      "22      5.8    4.4     1.7    0.4     Iris-setosa\n",
      "23      5.8    4.4     1.7    0.5     Iris-setosa\n",
      "24      5.8    4.4     1.9    0.5     Iris-setosa\n",
      "25      5.8    4.4     1.9    0.5     Iris-setosa\n",
      "26      5.8    4.4     1.9    0.5     Iris-setosa\n",
      "27      5.8    4.4     1.9    0.5     Iris-setosa\n",
      "28      5.8    4.4     1.9    0.5     Iris-setosa\n",
      "29      5.8    4.4     1.9    0.5     Iris-setosa\n",
      "..      ...    ...     ...    ...             ...\n",
      "120     7.7    4.4     6.9    2.5  Iris-virginica\n",
      "121     7.7    4.4     6.9    2.5  Iris-virginica\n",
      "122     7.7    4.4     6.9    2.5  Iris-virginica\n",
      "123     7.7    4.4     6.9    2.5  Iris-virginica\n",
      "124     7.7    4.4     6.9    2.5  Iris-virginica\n",
      "125     7.7    4.4     6.9    2.5  Iris-virginica\n",
      "126     7.7    4.4     6.9    2.5  Iris-virginica\n",
      "127     7.7    4.4     6.9    2.5  Iris-virginica\n",
      "128     7.7    4.4     6.9    2.5  Iris-virginica\n",
      "129     7.7    4.4     6.9    2.5  Iris-virginica\n",
      "130     7.7    4.4     6.9    2.5  Iris-virginica\n",
      "131     7.9    4.4     6.9    2.5  Iris-virginica\n",
      "132     7.9    4.4     6.9    2.5  Iris-virginica\n",
      "133     7.9    4.4     6.9    2.5  Iris-virginica\n",
      "134     7.9    4.4     6.9    2.5  Iris-virginica\n",
      "135     7.9    4.4     6.9    2.5  Iris-virginica\n",
      "136     7.9    4.4     6.9    2.5  Iris-virginica\n",
      "137     7.9    4.4     6.9    2.5  Iris-virginica\n",
      "138     7.9    4.4     6.9    2.5  Iris-virginica\n",
      "139     7.9    4.4     6.9    2.5  Iris-virginica\n",
      "140     7.9    4.4     6.9    2.5  Iris-virginica\n",
      "141     7.9    4.4     6.9    2.5  Iris-virginica\n",
      "142     7.9    4.4     6.9    2.5  Iris-virginica\n",
      "143     7.9    4.4     6.9    2.5  Iris-virginica\n",
      "144     7.9    4.4     6.9    2.5  Iris-virginica\n",
      "145     7.9    4.4     6.9    2.5  Iris-virginica\n",
      "146     7.9    4.4     6.9    2.5  Iris-virginica\n",
      "147     7.9    4.4     6.9    2.5  Iris-virginica\n",
      "148     7.9    4.4     6.9    2.5  Iris-virginica\n",
      "149     7.9    4.4     6.9    2.5  Iris-virginica\n",
      "\n",
      "[150 rows x 5 columns]\n"
     ]
    }
   ],
   "source": [
    "print(\"El máximo acumulado es: \\n\",d.cummax() )"
   ]
  },
  {
   "cell_type": "markdown",
   "metadata": {},
   "source": [
    "Se puede calcular la kurtosis:"
   ]
  },
  {
   "cell_type": "code",
   "execution_count": 23,
   "metadata": {},
   "outputs": [
    {
     "data": {
      "text/plain": [
       "slength   -0.552064\n",
       "swidth     0.290781\n",
       "plength   -1.401921\n",
       "pwidth    -1.339754\n",
       "dtype: float64"
      ]
     },
     "execution_count": 23,
     "metadata": {},
     "output_type": "execute_result"
    }
   ],
   "source": [
    "d.kurtosis()"
   ]
  },
  {
   "cell_type": "markdown",
   "metadata": {},
   "source": [
    "# Indexar y seleccionar datos\n",
    "\n",
    "En apartados anteriores, se han presentados diversos formatos que Pandas ofrece para entresacar datos. Sin embargo existen ciertas heramientas que permiten entresacar esa información de una manera muchos más eficiente. \n",
    "\n",
    "Para obtener estas facilidades Pandas ofrece tres tipos de indexación:\n",
    "\n",
    "* .loc[ ]: Indexación basada en etiquetas.\n",
    "* .iloc[ ] : Indexación basada en índices enteros.\n",
    "* .ix[ ] :Indexación mezcla de los dos tipos anteriores.\n",
    "\n",
    "A continuación se muestran ejemplos sobre cómo utilizar esos tipos de indexación, para ello en primer lugar vamos a crear un DataFrame sobre el que vamos a hacer las búsqedas.\n"
   ]
  },
  {
   "cell_type": "code",
   "execution_count": 3,
   "metadata": {},
   "outputs": [
    {
     "data": {
      "text/html": [
       "<div>\n",
       "<style>\n",
       "    .dataframe thead tr:only-child th {\n",
       "        text-align: right;\n",
       "    }\n",
       "\n",
       "    .dataframe thead th {\n",
       "        text-align: left;\n",
       "    }\n",
       "\n",
       "    .dataframe tbody tr th {\n",
       "        vertical-align: top;\n",
       "    }\n",
       "</style>\n",
       "<table border=\"1\" class=\"dataframe\">\n",
       "  <thead>\n",
       "    <tr style=\"text-align: right;\">\n",
       "      <th></th>\n",
       "      <th>a1</th>\n",
       "      <th>a2</th>\n",
       "      <th>a3</th>\n",
       "      <th>a4</th>\n",
       "    </tr>\n",
       "  </thead>\n",
       "  <tbody>\n",
       "    <tr>\n",
       "      <th>count</th>\n",
       "      <td>7.000000</td>\n",
       "      <td>7.000000</td>\n",
       "      <td>7.000000</td>\n",
       "      <td>7.000000</td>\n",
       "    </tr>\n",
       "    <tr>\n",
       "      <th>mean</th>\n",
       "      <td>0.492404</td>\n",
       "      <td>0.405917</td>\n",
       "      <td>0.626874</td>\n",
       "      <td>0.616920</td>\n",
       "    </tr>\n",
       "    <tr>\n",
       "      <th>std</th>\n",
       "      <td>0.277903</td>\n",
       "      <td>0.364459</td>\n",
       "      <td>0.256695</td>\n",
       "      <td>0.270604</td>\n",
       "    </tr>\n",
       "    <tr>\n",
       "      <th>min</th>\n",
       "      <td>0.068853</td>\n",
       "      <td>0.023517</td>\n",
       "      <td>0.356625</td>\n",
       "      <td>0.104124</td>\n",
       "    </tr>\n",
       "    <tr>\n",
       "      <th>25%</th>\n",
       "      <td>0.404503</td>\n",
       "      <td>0.156795</td>\n",
       "      <td>0.372480</td>\n",
       "      <td>0.546806</td>\n",
       "    </tr>\n",
       "    <tr>\n",
       "      <th>50%</th>\n",
       "      <td>0.424355</td>\n",
       "      <td>0.338362</td>\n",
       "      <td>0.654432</td>\n",
       "      <td>0.664520</td>\n",
       "    </tr>\n",
       "    <tr>\n",
       "      <th>75%</th>\n",
       "      <td>0.576624</td>\n",
       "      <td>0.602521</td>\n",
       "      <td>0.859492</td>\n",
       "      <td>0.738059</td>\n",
       "    </tr>\n",
       "    <tr>\n",
       "      <th>max</th>\n",
       "      <td>0.991365</td>\n",
       "      <td>0.960907</td>\n",
       "      <td>0.913114</td>\n",
       "      <td>0.980067</td>\n",
       "    </tr>\n",
       "  </tbody>\n",
       "</table>\n",
       "</div>"
      ],
      "text/plain": [
       "             a1        a2        a3        a4\n",
       "count  7.000000  7.000000  7.000000  7.000000\n",
       "mean   0.492404  0.405917  0.626874  0.616920\n",
       "std    0.277903  0.364459  0.256695  0.270604\n",
       "min    0.068853  0.023517  0.356625  0.104124\n",
       "25%    0.404503  0.156795  0.372480  0.546806\n",
       "50%    0.424355  0.338362  0.654432  0.664520\n",
       "75%    0.576624  0.602521  0.859492  0.738059\n",
       "max    0.991365  0.960907  0.913114  0.980067"
      ]
     },
     "execution_count": 3,
     "metadata": {},
     "output_type": "execute_result"
    }
   ],
   "source": [
    "import pandas as pd\n",
    "import numpy as np\n",
    "datos=pd.DataFrame(np.random.rand(7,4), columns=['a1','a2','a3','a4'])\n",
    "datos.describe()"
   ]
  },
  {
   "cell_type": "markdown",
   "metadata": {},
   "source": [
    "## Indexación con .loc()\n",
    "\n",
    "A continuación se muestran diferentes formas de hacer búsquedas mediante este sistema de indexación."
   ]
  },
  {
   "cell_type": "code",
   "execution_count": 13,
   "metadata": {},
   "outputs": [
    {
     "name": "stdout",
     "output_type": "stream",
     "text": [
      "1    0.068853\n",
      "2    0.582508\n",
      "3    0.570740\n",
      "Name: a1, dtype: float64\n"
     ]
    }
   ],
   "source": [
    "#Usando una sola columna, y varias filas.\n",
    "print(datos.loc[1:3,'a1'])"
   ]
  },
  {
   "cell_type": "code",
   "execution_count": 14,
   "metadata": {},
   "outputs": [
    {
     "data": {
      "text/html": [
       "<div>\n",
       "<style>\n",
       "    .dataframe thead tr:only-child th {\n",
       "        text-align: right;\n",
       "    }\n",
       "\n",
       "    .dataframe thead th {\n",
       "        text-align: left;\n",
       "    }\n",
       "\n",
       "    .dataframe tbody tr th {\n",
       "        vertical-align: top;\n",
       "    }\n",
       "</style>\n",
       "<table border=\"1\" class=\"dataframe\">\n",
       "  <thead>\n",
       "    <tr style=\"text-align: right;\">\n",
       "      <th></th>\n",
       "      <th>a1</th>\n",
       "      <th>a3</th>\n",
       "    </tr>\n",
       "  </thead>\n",
       "  <tbody>\n",
       "    <tr>\n",
       "      <th>1</th>\n",
       "      <td>0.068853</td>\n",
       "      <td>0.890016</td>\n",
       "    </tr>\n",
       "    <tr>\n",
       "      <th>2</th>\n",
       "      <td>0.582508</td>\n",
       "      <td>0.913114</td>\n",
       "    </tr>\n",
       "    <tr>\n",
       "      <th>3</th>\n",
       "      <td>0.570740</td>\n",
       "      <td>0.379810</td>\n",
       "    </tr>\n",
       "  </tbody>\n",
       "</table>\n",
       "</div>"
      ],
      "text/plain": [
       "         a1        a3\n",
       "1  0.068853  0.890016\n",
       "2  0.582508  0.913114\n",
       "3  0.570740  0.379810"
      ]
     },
     "execution_count": 14,
     "metadata": {},
     "output_type": "execute_result"
    }
   ],
   "source": [
    "# La misma búsqueda pero para dos columnas\n",
    "datos.loc[1:3,['a1','a3']]"
   ]
  },
  {
   "cell_type": "code",
   "execution_count": 15,
   "metadata": {},
   "outputs": [
    {
     "data": {
      "text/html": [
       "<div>\n",
       "<style>\n",
       "    .dataframe thead tr:only-child th {\n",
       "        text-align: right;\n",
       "    }\n",
       "\n",
       "    .dataframe thead th {\n",
       "        text-align: left;\n",
       "    }\n",
       "\n",
       "    .dataframe tbody tr th {\n",
       "        vertical-align: top;\n",
       "    }\n",
       "</style>\n",
       "<table border=\"1\" class=\"dataframe\">\n",
       "  <thead>\n",
       "    <tr style=\"text-align: right;\">\n",
       "      <th></th>\n",
       "      <th>a1</th>\n",
       "      <th>a2</th>\n",
       "      <th>a3</th>\n",
       "      <th>a4</th>\n",
       "    </tr>\n",
       "  </thead>\n",
       "  <tbody>\n",
       "    <tr>\n",
       "      <th>1</th>\n",
       "      <td>0.068853</td>\n",
       "      <td>0.258993</td>\n",
       "      <td>0.890016</td>\n",
       "      <td>0.575058</td>\n",
       "    </tr>\n",
       "    <tr>\n",
       "      <th>2</th>\n",
       "      <td>0.582508</td>\n",
       "      <td>0.843205</td>\n",
       "      <td>0.913114</td>\n",
       "      <td>0.518553</td>\n",
       "    </tr>\n",
       "    <tr>\n",
       "      <th>3</th>\n",
       "      <td>0.570740</td>\n",
       "      <td>0.361836</td>\n",
       "      <td>0.379810</td>\n",
       "      <td>0.104124</td>\n",
       "    </tr>\n",
       "  </tbody>\n",
       "</table>\n",
       "</div>"
      ],
      "text/plain": [
       "         a1        a2        a3        a4\n",
       "1  0.068853  0.258993  0.890016  0.575058\n",
       "2  0.582508  0.843205  0.913114  0.518553\n",
       "3  0.570740  0.361836  0.379810  0.104124"
      ]
     },
     "execution_count": 15,
     "metadata": {},
     "output_type": "execute_result"
    }
   ],
   "source": [
    "#Si queremos ver sólo las tres primeras filas\n",
    "datos.loc[1:3]"
   ]
  },
  {
   "cell_type": "markdown",
   "metadata": {},
   "source": [
    "También se pueden hacer extracciones de datos mediante vectores de tipo lógico. En primer lugar se muestra un ejemplo donde se puede ver cómo poder construir un objeto de tipo lógico."
   ]
  },
  {
   "cell_type": "code",
   "execution_count": 18,
   "metadata": {},
   "outputs": [
    {
     "data": {
      "text/plain": [
       "0    False\n",
       "1    False\n",
       "2     True\n",
       "3     True\n",
       "4    False\n",
       "5     True\n",
       "6    False\n",
       "Name: a1, dtype: bool"
      ]
     },
     "execution_count": 18,
     "metadata": {},
     "output_type": "execute_result"
    }
   ],
   "source": [
    "datos.loc[:,'a1']>0.5"
   ]
  },
  {
   "cell_type": "markdown",
   "metadata": {},
   "source": [
    "Construido el objeto de tipo lógico, se puede usar para hacer selecciones de datos. En el ejemplo que sigue, se van a seleccionar las filas que tienen el valor \"True\" en el resultado anterior ( en total tres filas )."
   ]
  },
  {
   "cell_type": "code",
   "execution_count": 20,
   "metadata": {},
   "outputs": [
    {
     "name": "stdout",
     "output_type": "stream",
     "text": [
      "         a1        a2        a3        a4\n",
      "2  0.582508  0.843205  0.913114  0.518553\n",
      "3  0.570740  0.361836  0.379810  0.104124\n",
      "5  0.991365  0.054597  0.828968  0.765267\n"
     ]
    }
   ],
   "source": [
    "a=datos.loc[:,'a1']>0.5\n",
    "print(datos.loc[a] )"
   ]
  },
  {
   "cell_type": "markdown",
   "metadata": {},
   "source": [
    "## Indexación con .iloc()\n",
    "\n",
    "En este caso se trata de una búsqueda mediante indicadores enteros de la posición de los elementos. Para hacer este tipo de búsqueda, se puede utilizar:\n",
    "\n",
    "* Un entero\n",
    "* Una lista de enteros\n",
    "* Un rango de valores\n",
    "\n",
    "Veamos unos ejemplo sobre su uso, en base a ejemplos utilizando el conjunto de datos obtenido anteriormente."
   ]
  },
  {
   "cell_type": "code",
   "execution_count": 22,
   "metadata": {},
   "outputs": [
    {
     "data": {
      "text/html": [
       "<div>\n",
       "<style>\n",
       "    .dataframe thead tr:only-child th {\n",
       "        text-align: right;\n",
       "    }\n",
       "\n",
       "    .dataframe thead th {\n",
       "        text-align: left;\n",
       "    }\n",
       "\n",
       "    .dataframe tbody tr th {\n",
       "        vertical-align: top;\n",
       "    }\n",
       "</style>\n",
       "<table border=\"1\" class=\"dataframe\">\n",
       "  <thead>\n",
       "    <tr style=\"text-align: right;\">\n",
       "      <th></th>\n",
       "      <th>a1</th>\n",
       "      <th>a2</th>\n",
       "      <th>a3</th>\n",
       "      <th>a4</th>\n",
       "    </tr>\n",
       "  </thead>\n",
       "  <tbody>\n",
       "    <tr>\n",
       "      <th>0</th>\n",
       "      <td>0.424355</td>\n",
       "      <td>0.960907</td>\n",
       "      <td>0.654432</td>\n",
       "      <td>0.980067</td>\n",
       "    </tr>\n",
       "    <tr>\n",
       "      <th>1</th>\n",
       "      <td>0.068853</td>\n",
       "      <td>0.258993</td>\n",
       "      <td>0.890016</td>\n",
       "      <td>0.575058</td>\n",
       "    </tr>\n",
       "    <tr>\n",
       "      <th>2</th>\n",
       "      <td>0.582508</td>\n",
       "      <td>0.843205</td>\n",
       "      <td>0.913114</td>\n",
       "      <td>0.518553</td>\n",
       "    </tr>\n",
       "  </tbody>\n",
       "</table>\n",
       "</div>"
      ],
      "text/plain": [
       "         a1        a2        a3        a4\n",
       "0  0.424355  0.960907  0.654432  0.980067\n",
       "1  0.068853  0.258993  0.890016  0.575058\n",
       "2  0.582508  0.843205  0.913114  0.518553"
      ]
     },
     "execution_count": 22,
     "metadata": {},
     "output_type": "execute_result"
    }
   ],
   "source": [
    "# Seleccionamos las primeras filas y todas las columnass\n",
    "datos.iloc[:3]"
   ]
  },
  {
   "cell_type": "code",
   "execution_count": 23,
   "metadata": {},
   "outputs": [
    {
     "data": {
      "text/html": [
       "<div>\n",
       "<style>\n",
       "    .dataframe thead tr:only-child th {\n",
       "        text-align: right;\n",
       "    }\n",
       "\n",
       "    .dataframe thead th {\n",
       "        text-align: left;\n",
       "    }\n",
       "\n",
       "    .dataframe tbody tr th {\n",
       "        vertical-align: top;\n",
       "    }\n",
       "</style>\n",
       "<table border=\"1\" class=\"dataframe\">\n",
       "  <thead>\n",
       "    <tr style=\"text-align: right;\">\n",
       "      <th></th>\n",
       "      <th>a2</th>\n",
       "      <th>a3</th>\n",
       "    </tr>\n",
       "  </thead>\n",
       "  <tbody>\n",
       "    <tr>\n",
       "      <th>0</th>\n",
       "      <td>0.960907</td>\n",
       "      <td>0.654432</td>\n",
       "    </tr>\n",
       "    <tr>\n",
       "      <th>1</th>\n",
       "      <td>0.258993</td>\n",
       "      <td>0.890016</td>\n",
       "    </tr>\n",
       "    <tr>\n",
       "      <th>2</th>\n",
       "      <td>0.843205</td>\n",
       "      <td>0.913114</td>\n",
       "    </tr>\n",
       "  </tbody>\n",
       "</table>\n",
       "</div>"
      ],
      "text/plain": [
       "         a2        a3\n",
       "0  0.960907  0.654432\n",
       "1  0.258993  0.890016\n",
       "2  0.843205  0.913114"
      ]
     },
     "execution_count": 23,
     "metadata": {},
     "output_type": "execute_result"
    }
   ],
   "source": [
    "#Seleccionamos ciertas filas y columnas\n",
    "datos.iloc[:3,1:3]"
   ]
  },
  {
   "cell_type": "code",
   "execution_count": 26,
   "metadata": {},
   "outputs": [
    {
     "data": {
      "text/html": [
       "<div>\n",
       "<style>\n",
       "    .dataframe thead tr:only-child th {\n",
       "        text-align: right;\n",
       "    }\n",
       "\n",
       "    .dataframe thead th {\n",
       "        text-align: left;\n",
       "    }\n",
       "\n",
       "    .dataframe tbody tr th {\n",
       "        vertical-align: top;\n",
       "    }\n",
       "</style>\n",
       "<table border=\"1\" class=\"dataframe\">\n",
       "  <thead>\n",
       "    <tr style=\"text-align: right;\">\n",
       "      <th></th>\n",
       "      <th>a1</th>\n",
       "      <th>a2</th>\n",
       "      <th>a4</th>\n",
       "    </tr>\n",
       "  </thead>\n",
       "  <tbody>\n",
       "    <tr>\n",
       "      <th>1</th>\n",
       "      <td>0.068853</td>\n",
       "      <td>0.258993</td>\n",
       "      <td>0.575058</td>\n",
       "    </tr>\n",
       "    <tr>\n",
       "      <th>3</th>\n",
       "      <td>0.570740</td>\n",
       "      <td>0.361836</td>\n",
       "      <td>0.104124</td>\n",
       "    </tr>\n",
       "  </tbody>\n",
       "</table>\n",
       "</div>"
      ],
      "text/plain": [
       "         a1        a2        a4\n",
       "1  0.068853  0.258993  0.575058\n",
       "3  0.570740  0.361836  0.104124"
      ]
     },
     "execution_count": 26,
     "metadata": {},
     "output_type": "execute_result"
    }
   ],
   "source": [
    "#Indicamos la lista de filas y columnas\n",
    "datos.iloc[[1,3],[0,1,3]]"
   ]
  },
  {
   "cell_type": "markdown",
   "metadata": {},
   "source": [
    "## Indexación con .ix()\n",
    "\n",
    "Se trata de un sistema de selección que es una mezcla de los dos anteriores, es decir se hace selección por etiquetas y por enteros. Veamos algún ejemplo.Como vemos es un método que está en desuso, pero que con la versión con la que se está trabajando aún se puede utilizar. Ahora bien en versiones posteriores desaparecerá."
   ]
  },
  {
   "cell_type": "code",
   "execution_count": 27,
   "metadata": {},
   "outputs": [
    {
     "name": "stderr",
     "output_type": "stream",
     "text": [
      "D:\\programas\\Anaconda\\lib\\site-packages\\ipykernel_launcher.py:1: DeprecationWarning: \n",
      ".ix is deprecated. Please use\n",
      ".loc for label based indexing or\n",
      ".iloc for positional indexing\n",
      "\n",
      "See the documentation here:\n",
      "http://pandas.pydata.org/pandas-docs/stable/indexing.html#ix-indexer-is-deprecated\n",
      "  \"\"\"Entry point for launching an IPython kernel.\n"
     ]
    },
    {
     "data": {
      "text/html": [
       "<div>\n",
       "<style>\n",
       "    .dataframe thead tr:only-child th {\n",
       "        text-align: right;\n",
       "    }\n",
       "\n",
       "    .dataframe thead th {\n",
       "        text-align: left;\n",
       "    }\n",
       "\n",
       "    .dataframe tbody tr th {\n",
       "        vertical-align: top;\n",
       "    }\n",
       "</style>\n",
       "<table border=\"1\" class=\"dataframe\">\n",
       "  <thead>\n",
       "    <tr style=\"text-align: right;\">\n",
       "      <th></th>\n",
       "      <th>a1</th>\n",
       "      <th>a2</th>\n",
       "    </tr>\n",
       "  </thead>\n",
       "  <tbody>\n",
       "    <tr>\n",
       "      <th>1</th>\n",
       "      <td>0.068853</td>\n",
       "      <td>0.258993</td>\n",
       "    </tr>\n",
       "    <tr>\n",
       "      <th>2</th>\n",
       "      <td>0.582508</td>\n",
       "      <td>0.843205</td>\n",
       "    </tr>\n",
       "  </tbody>\n",
       "</table>\n",
       "</div>"
      ],
      "text/plain": [
       "         a1        a2\n",
       "1  0.068853  0.258993\n",
       "2  0.582508  0.843205"
      ]
     },
     "execution_count": 27,
     "metadata": {},
     "output_type": "execute_result"
    }
   ],
   "source": [
    "datos.ix[1:2,['a1','a2']]"
   ]
  },
  {
   "cell_type": "markdown",
   "metadata": {},
   "source": [
    "# Pipeline en Pandas\n",
    "\n",
    "Con Pandas también se pueden enlazar resultados, es decir se puede hacer pipeline que agiliza enormemente el trabajo. A continuación se muestra un ejemplo. Inicialmente creamos el DataFrama con el que vamos a trabajar."
   ]
  },
  {
   "cell_type": "code",
   "execution_count": 1,
   "metadata": {},
   "outputs": [
    {
     "data": {
      "text/html": [
       "<div>\n",
       "<style>\n",
       "    .dataframe thead tr:only-child th {\n",
       "        text-align: right;\n",
       "    }\n",
       "\n",
       "    .dataframe thead th {\n",
       "        text-align: left;\n",
       "    }\n",
       "\n",
       "    .dataframe tbody tr th {\n",
       "        vertical-align: top;\n",
       "    }\n",
       "</style>\n",
       "<table border=\"1\" class=\"dataframe\">\n",
       "  <thead>\n",
       "    <tr style=\"text-align: right;\">\n",
       "      <th></th>\n",
       "      <th>nombre</th>\n",
       "      <th>sexo</th>\n",
       "      <th>edad</th>\n",
       "    </tr>\n",
       "  </thead>\n",
       "  <tbody>\n",
       "    <tr>\n",
       "      <th>0</th>\n",
       "      <td>Francisco</td>\n",
       "      <td>Varon</td>\n",
       "      <td>31</td>\n",
       "    </tr>\n",
       "    <tr>\n",
       "      <th>1</th>\n",
       "      <td>Maria</td>\n",
       "      <td>Mujer</td>\n",
       "      <td>32</td>\n",
       "    </tr>\n",
       "    <tr>\n",
       "      <th>2</th>\n",
       "      <td>Sara</td>\n",
       "      <td>Mujer</td>\n",
       "      <td>19</td>\n",
       "    </tr>\n",
       "    <tr>\n",
       "      <th>3</th>\n",
       "      <td>Fernando</td>\n",
       "      <td>Varon</td>\n",
       "      <td>54</td>\n",
       "    </tr>\n",
       "  </tbody>\n",
       "</table>\n",
       "</div>"
      ],
      "text/plain": [
       "      nombre   sexo  edad\n",
       "0  Francisco  Varon    31\n",
       "1      Maria  Mujer    32\n",
       "2       Sara  Mujer    19\n",
       "3   Fernando  Varon    54"
      ]
     },
     "execution_count": 1,
     "metadata": {},
     "output_type": "execute_result"
    }
   ],
   "source": [
    "import pandas as pd\n",
    "# Creamos un DataFrame vacio\n",
    "df = pd.DataFrame()\n",
    "\n",
    "# Creams una serie de columnas\n",
    "df['nombre'] = ['Francisco', 'Maria', 'Sara','Fernando']\n",
    "df['sexo'] = ['Varon', 'Mujer', 'Mujer','Varon']\n",
    "df['edad'] = [31, 32, 19,54]\n",
    "\n",
    "# Vemos el DataFrame\n",
    "df"
   ]
  },
  {
   "cell_type": "markdown",
   "metadata": {},
   "source": [
    "Creamos las funciones para posteriormente procesar con ellas los datos"
   ]
  },
  {
   "cell_type": "code",
   "execution_count": 2,
   "metadata": {
    "collapsed": true
   },
   "outputs": [],
   "source": [
    "# Creamos una función para calcular la media de datos agrupados\n",
    "def media_grupo(dataframe, col):\n",
    "    # Agrupamos los datos de una columna y luego calculamos la media.\n",
    "    return dataframe.groupby(col).mean()"
   ]
  },
  {
   "cell_type": "code",
   "execution_count": 3,
   "metadata": {
    "collapsed": true
   },
   "outputs": [],
   "source": [
    "# Creamos una función que cambia a mayúsculas los nombres de las columnas\n",
    "def mayusculas_columnas(dataframe):\n",
    "    # Pone mayúsculas los nombres de las columnas\n",
    "    dataframe.columns = dataframe.columns.str.upper()\n",
    "    # Y decuelve el resultado\n",
    "    return dataframe"
   ]
  },
  {
   "cell_type": "markdown",
   "metadata": {},
   "source": [
    "Con ayuda de las funciones anteriores creamos ahora el pipeline"
   ]
  },
  {
   "cell_type": "code",
   "execution_count": 4,
   "metadata": {},
   "outputs": [
    {
     "data": {
      "text/html": [
       "<div>\n",
       "<style>\n",
       "    .dataframe thead tr:only-child th {\n",
       "        text-align: right;\n",
       "    }\n",
       "\n",
       "    .dataframe thead th {\n",
       "        text-align: left;\n",
       "    }\n",
       "\n",
       "    .dataframe tbody tr th {\n",
       "        vertical-align: top;\n",
       "    }\n",
       "</style>\n",
       "<table border=\"1\" class=\"dataframe\">\n",
       "  <thead>\n",
       "    <tr style=\"text-align: right;\">\n",
       "      <th></th>\n",
       "      <th>EDAD</th>\n",
       "    </tr>\n",
       "    <tr>\n",
       "      <th>sexo</th>\n",
       "      <th></th>\n",
       "    </tr>\n",
       "  </thead>\n",
       "  <tbody>\n",
       "    <tr>\n",
       "      <th>Mujer</th>\n",
       "      <td>25.5</td>\n",
       "    </tr>\n",
       "    <tr>\n",
       "      <th>Varon</th>\n",
       "      <td>42.5</td>\n",
       "    </tr>\n",
       "  </tbody>\n",
       "</table>\n",
       "</div>"
      ],
      "text/plain": [
       "       EDAD\n",
       "sexo       \n",
       "Mujer  25.5\n",
       "Varon  42.5"
      ]
     },
     "execution_count": 4,
     "metadata": {},
     "output_type": "execute_result"
    }
   ],
   "source": [
    "# Creamos un pipeline que calcula la media para cada sexo \n",
    "(df.pipe(media_grupo, col='sexo')\n",
    "   # Despues pasamos a mayusculas el nombre de las columnas\n",
    "   .pipe(mayusculas_columnas)\n",
    ")"
   ]
  },
  {
   "cell_type": "markdown",
   "metadata": {
    "collapsed": true
   },
   "source": [
    "# Propiedad GroupBy \n",
    "\n",
    "Con la propiedad GroupBy se pueden agrupar los datos por el valor de una variable categórica y sobre esa agrupación hacer operaciones tales como calcular la media en cada grupo, dividir los datos en esos grupo, etc. En lo que sigue vamos a ver cómo poder operar con esta propiedad  para ello vamos a seguir con el dataset denominado \"df\" que hemos generado anteriormente:"
   ]
  },
  {
   "cell_type": "code",
   "execution_count": 5,
   "metadata": {},
   "outputs": [
    {
     "name": "stdout",
     "output_type": "stream",
     "text": [
      "<pandas.core.groupby.DataFrameGroupBy object at 0x000001108F76E2E8>\n"
     ]
    }
   ],
   "source": [
    "print(df.groupby('sexo'))\n",
    "#Observamos que esta instrucción no facilita mucha información"
   ]
  },
  {
   "cell_type": "code",
   "execution_count": 6,
   "metadata": {},
   "outputs": [
    {
     "name": "stdout",
     "output_type": "stream",
     "text": [
      "{'Mujer': Int64Index([1, 2], dtype='int64'), 'Varon': Int64Index([0, 3], dtype='int64')}\n"
     ]
    }
   ],
   "source": [
    "#Sin embargo esta otra instrucción nos da mas información \n",
    "#sobre los grupos generados\n",
    "print(df.groupby('sexo').groups )"
   ]
  },
  {
   "cell_type": "markdown",
   "metadata": {},
   "source": [
    "Si en lugar de una columna, quisiéramos hacer una partición de los datos por dos o más columnas, la instrucción a utilizar sería similar a la siguiente:\n",
    "\n",
    "> df.groupby('col1','col2')\n",
    "\n",
    "Se puede iterar sobre los grupos generados. Se obtendría el código del grupo y el nombre del grupo. En nuestro caso, los datos que se obtendrían serían los siguientes:"
   ]
  },
  {
   "cell_type": "code",
   "execution_count": 8,
   "metadata": {},
   "outputs": [
    {
     "name": "stdout",
     "output_type": "stream",
     "text": [
      "El nombre es:  Mujer y el grupo es: \n",
      "   nombre   sexo  edad\n",
      "1  Maria  Mujer    32\n",
      "2   Sara  Mujer    19\n",
      "El nombre es:  Varon y el grupo es: \n",
      "       nombre   sexo  edad\n",
      "0  Francisco  Varon    31\n",
      "3   Fernando  Varon    54\n"
     ]
    }
   ],
   "source": [
    "for nombre,grupo in df.groupby('sexo'):\n",
    "    print(\"El nombre es: \", nombre, \"y el grupo es: \\n\",grupo )"
   ]
  },
  {
   "cell_type": "markdown",
   "metadata": {},
   "source": [
    "Se puede seleccionar un determinado grupo utilizando para ello el método get_group(). Veamos un ejemplo"
   ]
  },
  {
   "cell_type": "code",
   "execution_count": 9,
   "metadata": {},
   "outputs": [
    {
     "name": "stdout",
     "output_type": "stream",
     "text": [
      "      nombre   sexo  edad\n",
      "0  Francisco  Varon    31\n",
      "3   Fernando  Varon    54\n"
     ]
    }
   ],
   "source": [
    "agrupacion=df.groupby('sexo')\n",
    "varones=agrupacion.get_group('Varon')\n",
    "print(varones)"
   ]
  },
  {
   "cell_type": "markdown",
   "metadata": {},
   "source": [
    "Una vez hecha la partición de los datos por una o dos columnas, se pueden calcular datos agregados de una determinada variable, para cada una de las particiones obtenidas, veamos cómo."
   ]
  },
  {
   "cell_type": "code",
   "execution_count": 16,
   "metadata": {},
   "outputs": [
    {
     "name": "stdout",
     "output_type": "stream",
     "text": [
      "La edad media para cada sexo es: \n",
      "sexo\n",
      "Mujer    25.5\n",
      "Varon    42.5\n",
      "Name: edad, dtype: float64\n",
      "El tamaño de cada grupo es: \n",
      "sexo\n",
      "Mujer    2\n",
      "Varon    2\n",
      "Name: edad, dtype: int64\n",
      "\n",
      " Para hacer varias agregaciones de una sola vez: \n",
      "\n",
      "       amax  amin        std\n",
      "sexo                        \n",
      "Mujer    32    19   9.192388\n",
      "Varon    54    31  16.263456\n"
     ]
    }
   ],
   "source": [
    "import numpy as np\n",
    "agrupacion=df.groupby('sexo')\n",
    "print(\"La edad media para cada sexo es: \")\n",
    "print(agrupacion['edad'].agg(np.mean) )\n",
    "print(\"El tamaño de cada grupo es: \")\n",
    "print(agrupacion['edad'].agg(np.size) )\n",
    "print(\"\\n Para hacer varias agregaciones de una sola vez: \\n\")\n",
    "print(agrupacion['edad'].agg([np.max,np.min,np.std]) )"
   ]
  },
  {
   "cell_type": "markdown",
   "metadata": {},
   "source": [
    "Se pueden hacer transformaciones de los datos en cada uno de los grupos. Por ejemplo si queremos estandarizar los datos para cada uno de los grupos, se podría hacer de la siguiente manera."
   ]
  },
  {
   "cell_type": "code",
   "execution_count": 18,
   "metadata": {},
   "outputs": [
    {
     "name": "stdout",
     "output_type": "stream",
     "text": [
      "       edad\n",
      "0 -7.071068\n",
      "1  7.071068\n",
      "2 -7.071068\n",
      "3  7.071068\n"
     ]
    }
   ],
   "source": [
    "agrupacion=df.groupby('sexo')\n",
    "score = lambda x: (x - x.mean()) / x.std()*10\n",
    "#Aplico la función anterior a cada uno de los grupos\n",
    "print(agrupacion.transform(score))"
   ]
  },
  {
   "cell_type": "markdown",
   "metadata": {},
   "source": [
    "# Gráficos con Pandas\n",
    "\n",
    "Pandas permite generar gráficos comunes utilizados en data mining de una forma fácil y rápida. Se pueden hacer gráficos con datos de tipo Series y DataFrame. En este post me centraré en explicar cómo hacerlo con estructuras del tipo DataFrame, ya que con Series el procedimiento es análogo.\n",
    "\n",
    "El constructor para la generación de gráficos con DataFrame es el siguiente:\n",
    "\n",
    "> DataFrame.plot(x=None, y=None, kind='line', ax=None, subplots=False, sharex=None, sharey=False, layout=None, figsize=None, use_index=True, title=None, grid=None, legend=True, style=None, logx=False, logy=False, loglog=False, xticks=None, yticks=None, xlim=None, ylim=None, rot=None, fontsize=None, colormap=None, table=False, yerr=None, xerr=None, secondary_y=False, sort_columns=False, **kwds)\n",
    "\n",
    "Para ver la analogía a continuación se muestra el constructor para datos de dipo Series\n",
    "\n",
    "> Series.plot(kind='line', ax=None, figsize=None, use_index=True, title=None, grid=None, legend=False, style=None, logx=False, logy=False, loglog=False, xticks=None, yticks=None, xlim=None, ylim=None, rot=None, fontsize=None, colormap=None, table=False, yerr=None, xerr=None, label=None, secondary_y=False, **kwds)\n",
    "\n",
    "El significado de cada uno de los parámetros se puede [ver en la documentación de Pandas](http://pandas.pydata.org/pandas-docs/stable/generated/pandas.DataFrame.plot.html#pandas.DataFrame.plot){:target='blank'}, no obstante conviene matizar el significado del parámetro \"kind\" que va a indicar el tipo de gráfico que quiere obtenerse. Los valores que puede tener, junto a su significado, se detallan a continuación:\n",
    "\n",
    "* line: Para hacer gráficos de líneas (valor por defecto).\n",
    "* bar: Para hacer gráficos de barras.\n",
    "* barh: Para hacer gráficos de barras horizontales.\n",
    "* hist: Para hacer histogramas.\n",
    "* box: Para generar gráficos boxplot.\n",
    "* kde: Para generar gráfico de estimación de la densidad.\n",
    "* density: Igual que kde.\n",
    "* area: Para generar un gráfico de áreas\n",
    "* pie: Para generar un pie chart\n",
    "* scatter: Para generar un gráfico de tipo scatter plot\n",
    "* hexbin: para generar un hexbin plot\n",
    "\n",
    "Además para cada uno de los tipos de gráficos mencionados arriba existen métodos concretos, que en el caso del un gráfico de areas, por poner un ejemplo, tendría el siguiente formato:\n",
    "\n",
    "> DataFrame.plot.area(x=None, y=None, **kwds)\n",
    "\n",
    "Veamos a continuación algunos ejemplos que aclaren la operativa de estos comandos. En primer lugar, leemos un fichero con formato CSV y lo cargamos en la variables \"datos\". Para leer este fichero utilizamos determinados parámetros, que a continuación se pasan a explicar:\n",
    "\n",
    "* header=None. Para indicar que el fichero original no tiene cabecera con el nombre de las variables\n",
    "* names=column_names. Para indicar que los campos están separados por blancos.\n",
    "* na_values='?'. Para indicar que los valores faltantes están indicados por ?.\n",
    "* dtype={'marca':str}. Para indicar que la columna \"marca\" es de tipo carácter."
   ]
  },
  {
   "cell_type": "code",
   "execution_count": 16,
   "metadata": {},
   "outputs": [],
   "source": [
    "import pandas as pd\n",
    "column_names = ['mpg', 'cilindros', 'desplazamiento', 'potencia', 'peso', \n",
    "                'aceleracion', 'ano', 'origen', 'marca']\n",
    "datos=pd.read_csv(\"http://mlr.cs.umass.edu/ml/machine-learning-databases/auto-mpg/auto-mpg.data\",\n",
    "                  delim_whitespace=True,header=None, names=column_names,na_values='?',\n",
    "                 dtype={'marca':str})"
   ]
  },
  {
   "cell_type": "code",
   "execution_count": 17,
   "metadata": {},
   "outputs": [
    {
     "data": {
      "text/html": [
       "<div>\n",
       "<table border=\"1\" class=\"dataframe\">\n",
       "  <thead>\n",
       "    <tr style=\"text-align: right;\">\n",
       "      <th></th>\n",
       "      <th>mpg</th>\n",
       "      <th>cilindros</th>\n",
       "      <th>desplazamiento</th>\n",
       "      <th>potencia</th>\n",
       "      <th>peso</th>\n",
       "      <th>aceleracion</th>\n",
       "      <th>ano</th>\n",
       "      <th>origen</th>\n",
       "      <th>marca</th>\n",
       "    </tr>\n",
       "  </thead>\n",
       "  <tbody>\n",
       "    <tr>\n",
       "      <th>0</th>\n",
       "      <td>18.0</td>\n",
       "      <td>8</td>\n",
       "      <td>307.0</td>\n",
       "      <td>130.0</td>\n",
       "      <td>3504.0</td>\n",
       "      <td>12.0</td>\n",
       "      <td>70</td>\n",
       "      <td>1</td>\n",
       "      <td>chevrolet chevelle malibu</td>\n",
       "    </tr>\n",
       "    <tr>\n",
       "      <th>1</th>\n",
       "      <td>15.0</td>\n",
       "      <td>8</td>\n",
       "      <td>350.0</td>\n",
       "      <td>165.0</td>\n",
       "      <td>3693.0</td>\n",
       "      <td>11.5</td>\n",
       "      <td>70</td>\n",
       "      <td>1</td>\n",
       "      <td>buick skylark 320</td>\n",
       "    </tr>\n",
       "    <tr>\n",
       "      <th>2</th>\n",
       "      <td>18.0</td>\n",
       "      <td>8</td>\n",
       "      <td>318.0</td>\n",
       "      <td>150.0</td>\n",
       "      <td>3436.0</td>\n",
       "      <td>11.0</td>\n",
       "      <td>70</td>\n",
       "      <td>1</td>\n",
       "      <td>plymouth satellite</td>\n",
       "    </tr>\n",
       "    <tr>\n",
       "      <th>3</th>\n",
       "      <td>16.0</td>\n",
       "      <td>8</td>\n",
       "      <td>304.0</td>\n",
       "      <td>150.0</td>\n",
       "      <td>3433.0</td>\n",
       "      <td>12.0</td>\n",
       "      <td>70</td>\n",
       "      <td>1</td>\n",
       "      <td>amc rebel sst</td>\n",
       "    </tr>\n",
       "    <tr>\n",
       "      <th>4</th>\n",
       "      <td>17.0</td>\n",
       "      <td>8</td>\n",
       "      <td>302.0</td>\n",
       "      <td>140.0</td>\n",
       "      <td>3449.0</td>\n",
       "      <td>10.5</td>\n",
       "      <td>70</td>\n",
       "      <td>1</td>\n",
       "      <td>ford torino</td>\n",
       "    </tr>\n",
       "  </tbody>\n",
       "</table>\n",
       "</div>"
      ],
      "text/plain": [
       "    mpg  cilindros  desplazamiento  potencia    peso  aceleracion  ano  \\\n",
       "0  18.0          8           307.0     130.0  3504.0         12.0   70   \n",
       "1  15.0          8           350.0     165.0  3693.0         11.5   70   \n",
       "2  18.0          8           318.0     150.0  3436.0         11.0   70   \n",
       "3  16.0          8           304.0     150.0  3433.0         12.0   70   \n",
       "4  17.0          8           302.0     140.0  3449.0         10.5   70   \n",
       "\n",
       "   origen                      marca  \n",
       "0       1  chevrolet chevelle malibu  \n",
       "1       1          buick skylark 320  \n",
       "2       1         plymouth satellite  \n",
       "3       1              amc rebel sst  \n",
       "4       1                ford torino  "
      ]
     },
     "execution_count": 17,
     "metadata": {},
     "output_type": "execute_result"
    }
   ],
   "source": [
    "datos.head()"
   ]
  },
  {
   "cell_type": "code",
   "execution_count": 18,
   "metadata": {},
   "outputs": [
    {
     "data": {
      "text/plain": [
       "mpg               float64\n",
       "cilindros           int64\n",
       "desplazamiento    float64\n",
       "potencia          float64\n",
       "peso              float64\n",
       "aceleracion       float64\n",
       "ano                 int64\n",
       "origen              int64\n",
       "marca              object\n",
       "dtype: object"
      ]
     },
     "execution_count": 18,
     "metadata": {},
     "output_type": "execute_result"
    }
   ],
   "source": [
    "# Vemos los tipos de datos con los que estamos trabajando\n",
    "datos.dtypes"
   ]
  },
  {
   "cell_type": "code",
   "execution_count": 30,
   "metadata": {
    "scrolled": true
   },
   "outputs": [
    {
     "data": {
      "text/html": [
       "<div>\n",
       "<table border=\"1\" class=\"dataframe\">\n",
       "  <thead>\n",
       "    <tr style=\"text-align: right;\">\n",
       "      <th></th>\n",
       "      <th>mpg</th>\n",
       "      <th>cilindros</th>\n",
       "      <th>desplazamiento</th>\n",
       "      <th>potencia</th>\n",
       "      <th>peso</th>\n",
       "      <th>aceleracion</th>\n",
       "      <th>ano</th>\n",
       "      <th>origen</th>\n",
       "    </tr>\n",
       "  </thead>\n",
       "  <tbody>\n",
       "    <tr>\n",
       "      <th>count</th>\n",
       "      <td>398.000000</td>\n",
       "      <td>398.000000</td>\n",
       "      <td>398.000000</td>\n",
       "      <td>392.000000</td>\n",
       "      <td>398.000000</td>\n",
       "      <td>398.000000</td>\n",
       "      <td>398.000000</td>\n",
       "      <td>398.000000</td>\n",
       "    </tr>\n",
       "    <tr>\n",
       "      <th>mean</th>\n",
       "      <td>23.514573</td>\n",
       "      <td>5.454774</td>\n",
       "      <td>193.425879</td>\n",
       "      <td>104.469388</td>\n",
       "      <td>2970.424623</td>\n",
       "      <td>15.568090</td>\n",
       "      <td>76.010050</td>\n",
       "      <td>1.572864</td>\n",
       "    </tr>\n",
       "    <tr>\n",
       "      <th>std</th>\n",
       "      <td>7.815984</td>\n",
       "      <td>1.701004</td>\n",
       "      <td>104.269838</td>\n",
       "      <td>38.491160</td>\n",
       "      <td>846.841774</td>\n",
       "      <td>2.757689</td>\n",
       "      <td>3.697627</td>\n",
       "      <td>0.802055</td>\n",
       "    </tr>\n",
       "    <tr>\n",
       "      <th>min</th>\n",
       "      <td>9.000000</td>\n",
       "      <td>3.000000</td>\n",
       "      <td>68.000000</td>\n",
       "      <td>46.000000</td>\n",
       "      <td>1613.000000</td>\n",
       "      <td>8.000000</td>\n",
       "      <td>70.000000</td>\n",
       "      <td>1.000000</td>\n",
       "    </tr>\n",
       "    <tr>\n",
       "      <th>25%</th>\n",
       "      <td>17.500000</td>\n",
       "      <td>4.000000</td>\n",
       "      <td>104.250000</td>\n",
       "      <td>75.000000</td>\n",
       "      <td>2223.750000</td>\n",
       "      <td>13.825000</td>\n",
       "      <td>73.000000</td>\n",
       "      <td>1.000000</td>\n",
       "    </tr>\n",
       "    <tr>\n",
       "      <th>50%</th>\n",
       "      <td>23.000000</td>\n",
       "      <td>4.000000</td>\n",
       "      <td>148.500000</td>\n",
       "      <td>93.500000</td>\n",
       "      <td>2803.500000</td>\n",
       "      <td>15.500000</td>\n",
       "      <td>76.000000</td>\n",
       "      <td>1.000000</td>\n",
       "    </tr>\n",
       "    <tr>\n",
       "      <th>75%</th>\n",
       "      <td>29.000000</td>\n",
       "      <td>8.000000</td>\n",
       "      <td>262.000000</td>\n",
       "      <td>126.000000</td>\n",
       "      <td>3608.000000</td>\n",
       "      <td>17.175000</td>\n",
       "      <td>79.000000</td>\n",
       "      <td>2.000000</td>\n",
       "    </tr>\n",
       "    <tr>\n",
       "      <th>max</th>\n",
       "      <td>46.600000</td>\n",
       "      <td>8.000000</td>\n",
       "      <td>455.000000</td>\n",
       "      <td>230.000000</td>\n",
       "      <td>5140.000000</td>\n",
       "      <td>24.800000</td>\n",
       "      <td>82.000000</td>\n",
       "      <td>3.000000</td>\n",
       "    </tr>\n",
       "  </tbody>\n",
       "</table>\n",
       "</div>"
      ],
      "text/plain": [
       "              mpg   cilindros  desplazamiento    potencia         peso  \\\n",
       "count  398.000000  398.000000      398.000000  392.000000   398.000000   \n",
       "mean    23.514573    5.454774      193.425879  104.469388  2970.424623   \n",
       "std      7.815984    1.701004      104.269838   38.491160   846.841774   \n",
       "min      9.000000    3.000000       68.000000   46.000000  1613.000000   \n",
       "25%     17.500000    4.000000      104.250000   75.000000  2223.750000   \n",
       "50%     23.000000    4.000000      148.500000   93.500000  2803.500000   \n",
       "75%     29.000000    8.000000      262.000000  126.000000  3608.000000   \n",
       "max     46.600000    8.000000      455.000000  230.000000  5140.000000   \n",
       "\n",
       "       aceleracion         ano      origen  \n",
       "count   398.000000  398.000000  398.000000  \n",
       "mean     15.568090   76.010050    1.572864  \n",
       "std       2.757689    3.697627    0.802055  \n",
       "min       8.000000   70.000000    1.000000  \n",
       "25%      13.825000   73.000000    1.000000  \n",
       "50%      15.500000   76.000000    1.000000  \n",
       "75%      17.175000   79.000000    2.000000  \n",
       "max      24.800000   82.000000    3.000000  "
      ]
     },
     "execution_count": 30,
     "metadata": {},
     "output_type": "execute_result"
    }
   ],
   "source": [
    "#Para las variables numéricas sacamos los estadísticos \n",
    "#más representativos\n",
    "datos.describe()"
   ]
  },
  {
   "cell_type": "markdown",
   "metadata": {},
   "source": [
    "La funcionalidad de Pandas de generar gráficas, no es más que un envoltorio sobre la libreria \"matplotlib\" de python para generar gráficos.\n",
    "\n",
    "Un primer gráfico explicativo de esta funcionalidad, es el que se puede conseguir con los siguientes instrucciones."
   ]
  },
  {
   "cell_type": "code",
   "execution_count": 37,
   "metadata": {},
   "outputs": [
    {
     "data": {
      "text/plain": [
       "<matplotlib.text.Text at 0x1250d908>"
      ]
     },
     "execution_count": 37,
     "metadata": {},
     "output_type": "execute_result"
    },
    {
     "data": {
      "image/png": "[encoded data removed]",
      "text/plain": [
       "<matplotlib.figure.Figure at 0x124cfd68>"
      ]
     },
     "metadata": {},
     "output_type": "display_data"
    }
   ],
   "source": [
    "import matplotlib.pyplot as plt\n",
    "%matplotlib inline \n",
    "#Para ver la visualización en cuanto de genere el gráfico\n",
    "img=datos.plot()\n",
    "plt.title(\"Representación de los datos\")\n",
    "plt.xlabel(\"Orden de los datos\")\n",
    "plt.ylabel(\"Valores\")"
   ]
  },
  {
   "cell_type": "code",
   "execution_count": 42,
   "metadata": {},
   "outputs": [
    {
     "data": {
      "text/plain": [
       "<matplotlib.text.Text at 0x12229630>"
      ]
     },
     "execution_count": 42,
     "metadata": {},
     "output_type": "execute_result"
    },
    {
     "data": {
      "image/png": "[encoded data removed]",
      "text/plain": [
       "<matplotlib.figure.Figure at 0x12036b70>"
      ]
     },
     "metadata": {},
     "output_type": "display_data"
    }
   ],
   "source": [
    "#Si queremos seleccionar alguna columna\n",
    "img=datos.loc[:,\"peso\"].plot(title=\"Serie Peso\" )\n",
    "# datos.loc devuelve un objeto de tipo axis...\n",
    "img.set_xlabel(\"Orden dato\")\n",
    "img.set_ylabel(\"Valor\")"
   ]
  },
  {
   "cell_type": "code",
   "execution_count": 45,
   "metadata": {},
   "outputs": [
    {
     "data": {
      "text/plain": [
       "<matplotlib.axes._subplots.AxesSubplot at 0x148055c0>"
      ]
     },
     "execution_count": 45,
     "metadata": {},
     "output_type": "execute_result"
    },
    {
     "data": {
      "image/png": "[encoded data removed]",
      "text/plain": [
       "<matplotlib.figure.Figure at 0x14dbdf60>"
      ]
     },
     "metadata": {},
     "output_type": "display_data"
    }
   ],
   "source": [
    "#Para un diagrama de barras\n",
    "datos.plot(title=\"Scatter plot\", kind='scatter',x='cilindros',y='potencia')"
   ]
  },
  {
   "cell_type": "code",
   "execution_count": 49,
   "metadata": {},
   "outputs": [
    {
     "data": {
      "text/html": [
       "<div>\n",
       "<table border=\"1\" class=\"dataframe\">\n",
       "  <thead>\n",
       "    <tr style=\"text-align: right;\">\n",
       "      <th></th>\n",
       "      <th>mpg</th>\n",
       "      <th>desplazamiento</th>\n",
       "      <th>potencia</th>\n",
       "      <th>peso</th>\n",
       "      <th>aceleracion</th>\n",
       "      <th>ano</th>\n",
       "      <th>origen</th>\n",
       "      <th>marca</th>\n",
       "    </tr>\n",
       "    <tr>\n",
       "      <th>cilindros</th>\n",
       "      <th></th>\n",
       "      <th></th>\n",
       "      <th></th>\n",
       "      <th></th>\n",
       "      <th></th>\n",
       "      <th></th>\n",
       "      <th></th>\n",
       "      <th></th>\n",
       "    </tr>\n",
       "  </thead>\n",
       "  <tbody>\n",
       "    <tr>\n",
       "      <th>3</th>\n",
       "      <td>4.0</td>\n",
       "      <td>4.0</td>\n",
       "      <td>4.0</td>\n",
       "      <td>4.0</td>\n",
       "      <td>4.0</td>\n",
       "      <td>4</td>\n",
       "      <td>4</td>\n",
       "      <td>4</td>\n",
       "    </tr>\n",
       "    <tr>\n",
       "      <th>4</th>\n",
       "      <td>204.0</td>\n",
       "      <td>204.0</td>\n",
       "      <td>204.0</td>\n",
       "      <td>204.0</td>\n",
       "      <td>204.0</td>\n",
       "      <td>204</td>\n",
       "      <td>204</td>\n",
       "      <td>204</td>\n",
       "    </tr>\n",
       "    <tr>\n",
       "      <th>5</th>\n",
       "      <td>3.0</td>\n",
       "      <td>3.0</td>\n",
       "      <td>3.0</td>\n",
       "      <td>3.0</td>\n",
       "      <td>3.0</td>\n",
       "      <td>3</td>\n",
       "      <td>3</td>\n",
       "      <td>3</td>\n",
       "    </tr>\n",
       "    <tr>\n",
       "      <th>6</th>\n",
       "      <td>84.0</td>\n",
       "      <td>84.0</td>\n",
       "      <td>84.0</td>\n",
       "      <td>84.0</td>\n",
       "      <td>84.0</td>\n",
       "      <td>84</td>\n",
       "      <td>84</td>\n",
       "      <td>84</td>\n",
       "    </tr>\n",
       "    <tr>\n",
       "      <th>8</th>\n",
       "      <td>103.0</td>\n",
       "      <td>103.0</td>\n",
       "      <td>103.0</td>\n",
       "      <td>103.0</td>\n",
       "      <td>103.0</td>\n",
       "      <td>103</td>\n",
       "      <td>103</td>\n",
       "      <td>103</td>\n",
       "    </tr>\n",
       "  </tbody>\n",
       "</table>\n",
       "</div>"
      ],
      "text/plain": [
       "             mpg  desplazamiento  potencia   peso  aceleracion  ano  origen  \\\n",
       "cilindros                                                                     \n",
       "3            4.0             4.0       4.0    4.0          4.0    4       4   \n",
       "4          204.0           204.0     204.0  204.0        204.0  204     204   \n",
       "5            3.0             3.0       3.0    3.0          3.0    3       3   \n",
       "6           84.0            84.0      84.0   84.0         84.0   84      84   \n",
       "8          103.0           103.0     103.0  103.0        103.0  103     103   \n",
       "\n",
       "           marca  \n",
       "cilindros         \n",
       "3              4  \n",
       "4            204  \n",
       "5              3  \n",
       "6             84  \n",
       "8            103  "
      ]
     },
     "execution_count": 49,
     "metadata": {},
     "output_type": "execute_result"
    }
   ],
   "source": [
    "import numpy as np\n",
    "datos.groupby('cilindros').agg(np.size)\n"
   ]
  },
  {
   "cell_type": "code",
   "execution_count": 64,
   "metadata": {},
   "outputs": [
    {
     "name": "stdout",
     "output_type": "stream",
     "text": [
      "['mpg' 'desplazamiento' 'potencia' 'peso' 'aceleracion' 'ano' 'origen'\n",
      " 'marca']\n",
      "[3 4 5 6 8]\n"
     ]
    }
   ],
   "source": [
    "a=datos.groupby('cilindros').agg(np.size)\n",
    "print(a.columns.values)\n",
    "print(a.index.values)\n",
    "#a.plot(x=cilindros,y=mpg,kind='bar')"
   ]
  },
  {
   "cell_type": "code",
   "execution_count": 66,
   "metadata": {},
   "outputs": [
    {
     "data": {
      "text/plain": [
       "<matplotlib.axes._subplots.AxesSubplot at 0x14f78e48>"
      ]
     },
     "execution_count": 66,
     "metadata": {},
     "output_type": "execute_result"
    },
    {
     "data": {
      "image/png": "[encoded data removed]",
      "text/plain": [
       "<matplotlib.figure.Figure at 0x14f90e48>"
      ]
     },
     "metadata": {},
     "output_type": "display_data"
    }
   ],
   "source": [
    "a.plot(x=a.index.values,y=\"mpg\",kind='bar')"
   ]
  },
  {
   "cell_type": "markdown",
   "metadata": {},
   "source": [
    "El gráfico anterior también se podría haber conseguido de la siguiente manera."
   ]
  },
  {
   "cell_type": "code",
   "execution_count": 67,
   "metadata": {},
   "outputs": [
    {
     "data": {
      "text/plain": [
       "<matplotlib.axes._subplots.AxesSubplot at 0x15037320>"
      ]
     },
     "execution_count": 67,
     "metadata": {},
     "output_type": "execute_result"
    },
    {
     "data": {
      "image/png": "[encoded data removed]",
      "text/plain": [
       "<matplotlib.figure.Figure at 0x1508cac8>"
      ]
     },
     "metadata": {},
     "output_type": "display_data"
    }
   ],
   "source": [
    "a.plot.bar(x=a.index.values,y=\"mpg\")"
   ]
  }
 ],
 "metadata": {
  "kernelspec": {
   "display_name": "Python 3",
   "language": "python",
   "name": "python3"
  },
  "language_info": {
   "codemirror_mode": {
    "name": "ipython",
    "version": 3
   },
   "file_extension": ".py",
   "mimetype": "text/x-python",
   "name": "python",
   "nbconvert_exporter": "python",
   "pygments_lexer": "ipython3",
   "version": "3.6.6"
  },
  "toc": {
   "base_numbering": 1,
   "nav_menu": {},
   "number_sections": true,
   "sideBar": true,
   "skip_h1_title": false,
   "title_cell": "Tabla de contenidos",
   "title_sidebar": "Contenidos",
   "toc_cell": true,
   "toc_position": {},
   "toc_section_display": true,
   "toc_window_display": false
  }
 },
 "nbformat": 4,
 "nbformat_minor": 2
}
